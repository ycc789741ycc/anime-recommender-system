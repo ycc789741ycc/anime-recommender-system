{
 "cells": [
  {
   "cell_type": "markdown",
   "metadata": {},
   "source": [
    "# **The Genres of animes**"
   ]
  },
  {
   "cell_type": "code",
   "execution_count": 2,
   "metadata": {},
   "outputs": [
    {
     "name": "stdout",
     "output_type": "stream",
     "text": [
      "/mnt/c/Users/Yoshi/source/repos/Sideprojects/Anime_Recommender_system\n"
     ]
    }
   ],
   "source": [
    "%cd .."
   ]
  },
  {
   "cell_type": "markdown",
   "metadata": {},
   "source": [
    "# Load the library"
   ]
  },
  {
   "cell_type": "code",
   "execution_count": 3,
   "metadata": {},
   "outputs": [],
   "source": [
    "import numpy as np\n",
    "import pandas as pd"
   ]
  },
  {
   "cell_type": "markdown",
   "metadata": {},
   "source": [
    "# load the anime data with its genre."
   ]
  },
  {
   "cell_type": "code",
   "execution_count": 161,
   "metadata": {},
   "outputs": [
    {
     "name": "stdout",
     "output_type": "stream",
     "text": [
      "Number of anime's types: 16214\n",
      "Set of genres: {'Super Power', 'Shoujo', 'Seinen', 'Shounen Ai', 'Sports', 'Parody', 'Magic', 'Vampire', 'Mystery', 'Thriller', 'Psychological', 'Supernatural', 'Adventure', 'Action', 'Fantasy', 'Shounen', 'School', 'Kids', 'Cars', 'Drama', 'Romance', 'Comedy', 'Yaoi', 'Josei', 'Unknown', 'Horror', 'Martial Arts', 'Demons', 'Mecha', 'Ecchi', 'Slice of Life', 'Shoujo Ai', 'Dementia', 'Music', 'Space', 'Game', 'Samurai', 'Police', 'Historical', 'Military', 'Harem', 'Sci-Fi'}\n",
      "Number of genre: 42\n"
     ]
    },
    {
     "data": {
      "text/html": [
       "<div>\n",
       "<style scoped>\n",
       "    .dataframe tbody tr th:only-of-type {\n",
       "        vertical-align: middle;\n",
       "    }\n",
       "\n",
       "    .dataframe tbody tr th {\n",
       "        vertical-align: top;\n",
       "    }\n",
       "\n",
       "    .dataframe thead th {\n",
       "        text-align: right;\n",
       "    }\n",
       "</style>\n",
       "<table border=\"1\" class=\"dataframe\">\n",
       "  <thead>\n",
       "    <tr style=\"text-align: right;\">\n",
       "      <th></th>\n",
       "      <th>anime_id</th>\n",
       "      <th>Name</th>\n",
       "      <th>Genres</th>\n",
       "      <th>sypnopsis</th>\n",
       "    </tr>\n",
       "  </thead>\n",
       "  <tbody>\n",
       "    <tr>\n",
       "      <th>0</th>\n",
       "      <td>1</td>\n",
       "      <td>Cowboy Bebop</td>\n",
       "      <td>Action, Adventure, Comedy, Drama, Sci-Fi, Space</td>\n",
       "      <td>In the year 2071, humanity has colonized sever...</td>\n",
       "    </tr>\n",
       "    <tr>\n",
       "      <th>1</th>\n",
       "      <td>5</td>\n",
       "      <td>Cowboy Bebop: Tengoku no Tobira</td>\n",
       "      <td>Action, Drama, Mystery, Sci-Fi, Space</td>\n",
       "      <td>other day, another bounty—such is the life of ...</td>\n",
       "    </tr>\n",
       "    <tr>\n",
       "      <th>2</th>\n",
       "      <td>6</td>\n",
       "      <td>Trigun</td>\n",
       "      <td>Action, Sci-Fi, Adventure, Comedy, Drama, Shounen</td>\n",
       "      <td>Vash the Stampede is the man with a $$60,000,0...</td>\n",
       "    </tr>\n",
       "    <tr>\n",
       "      <th>3</th>\n",
       "      <td>7</td>\n",
       "      <td>Witch Hunter Robin</td>\n",
       "      <td>Action, Mystery, Police, Supernatural, Drama, ...</td>\n",
       "      <td>ches are individuals with special powers like ...</td>\n",
       "    </tr>\n",
       "    <tr>\n",
       "      <th>4</th>\n",
       "      <td>8</td>\n",
       "      <td>Bouken Ou Beet</td>\n",
       "      <td>Adventure, Fantasy, Shounen, Supernatural</td>\n",
       "      <td>It is the dark century and the people are suff...</td>\n",
       "    </tr>\n",
       "  </tbody>\n",
       "</table>\n",
       "</div>"
      ],
      "text/plain": [
       "   anime_id                             Name  \\\n",
       "0         1                     Cowboy Bebop   \n",
       "1         5  Cowboy Bebop: Tengoku no Tobira   \n",
       "2         6                           Trigun   \n",
       "3         7               Witch Hunter Robin   \n",
       "4         8                   Bouken Ou Beet   \n",
       "\n",
       "                                              Genres  \\\n",
       "0    Action, Adventure, Comedy, Drama, Sci-Fi, Space   \n",
       "1              Action, Drama, Mystery, Sci-Fi, Space   \n",
       "2  Action, Sci-Fi, Adventure, Comedy, Drama, Shounen   \n",
       "3  Action, Mystery, Police, Supernatural, Drama, ...   \n",
       "4          Adventure, Fantasy, Shounen, Supernatural   \n",
       "\n",
       "                                           sypnopsis  \n",
       "0  In the year 2071, humanity has colonized sever...  \n",
       "1  other day, another bounty—such is the life of ...  \n",
       "2  Vash the Stampede is the man with a $$60,000,0...  \n",
       "3  ches are individuals with special powers like ...  \n",
       "4  It is the dark century and the people are suff...  "
      ]
     },
     "execution_count": 161,
     "metadata": {},
     "output_type": "execute_result"
    }
   ],
   "source": [
    "INPUT_DIR = './data'\n",
    "\n",
    "animes_genres_df = pd.read_csv(\n",
    "    INPUT_DIR + '/anime_with_synopsis.csv', \n",
    "    low_memory=False, \n",
    "    usecols=[\"MAL_ID\", \"Name\", \"Genres\", \"sypnopsis\"]\n",
    ")\n",
    "animes_genres_df.rename({\"MAL_ID\": \"anime_id\"}, inplace=True, axis=1)\n",
    "\n",
    "anime_num = len(animes_genres_df[\"anime_id\"].unique())\n",
    "print(f\"Number of anime's types: {anime_num}\")\n",
    "\n",
    "genre_seperate = animes_genres_df[\"Genres\"].str.split(pat=\",\", expand=True)\n",
    "genre_series = pd.concat([genre_seperate[col] for col in genre_seperate.columns])\n",
    "genre_set = set([item.strip() for item in genre_series.unique().tolist() if item is not None])\n",
    "print(f\"Set of genres: {genre_set}\")\n",
    "genre_num = len(genre_set)\n",
    "print(f\"Number of genre: {genre_num}\")\n",
    "\n",
    "animes_genres_df.head(5)"
   ]
  },
  {
   "cell_type": "code",
   "execution_count": 162,
   "metadata": {},
   "outputs": [],
   "source": [
    "genre2genre_idx = {x: i for i, x in enumerate(genre_set)}\n",
    "genre_idx2genre = {i: x for i, x in enumerate(genre_set)}"
   ]
  },
  {
   "cell_type": "markdown",
   "metadata": {},
   "source": [
    "# load the preprocessed user data with anime rating."
   ]
  },
  {
   "cell_type": "code",
   "execution_count": 163,
   "metadata": {},
   "outputs": [
    {
     "data": {
      "text/html": [
       "<div>\n",
       "<style scoped>\n",
       "    .dataframe tbody tr th:only-of-type {\n",
       "        vertical-align: middle;\n",
       "    }\n",
       "\n",
       "    .dataframe tbody tr th {\n",
       "        vertical-align: top;\n",
       "    }\n",
       "\n",
       "    .dataframe thead th {\n",
       "        text-align: right;\n",
       "    }\n",
       "</style>\n",
       "<table border=\"1\" class=\"dataframe\">\n",
       "  <thead>\n",
       "    <tr style=\"text-align: right;\">\n",
       "      <th></th>\n",
       "      <th>user_id</th>\n",
       "      <th>anime_id</th>\n",
       "      <th>rating</th>\n",
       "    </tr>\n",
       "  </thead>\n",
       "  <tbody>\n",
       "    <tr>\n",
       "      <th>0</th>\n",
       "      <td>278536</td>\n",
       "      <td>31845</td>\n",
       "      <td>0.9</td>\n",
       "    </tr>\n",
       "    <tr>\n",
       "      <th>1</th>\n",
       "      <td>56255</td>\n",
       "      <td>24919</td>\n",
       "      <td>0.0</td>\n",
       "    </tr>\n",
       "    <tr>\n",
       "      <th>2</th>\n",
       "      <td>54171</td>\n",
       "      <td>2386</td>\n",
       "      <td>0.6</td>\n",
       "    </tr>\n",
       "    <tr>\n",
       "      <th>3</th>\n",
       "      <td>292408</td>\n",
       "      <td>5028</td>\n",
       "      <td>0.7</td>\n",
       "    </tr>\n",
       "    <tr>\n",
       "      <th>4</th>\n",
       "      <td>334396</td>\n",
       "      <td>30243</td>\n",
       "      <td>0.4</td>\n",
       "    </tr>\n",
       "  </tbody>\n",
       "</table>\n",
       "</div>"
      ],
      "text/plain": [
       "   user_id  anime_id  rating\n",
       "0   278536     31845     0.9\n",
       "1    56255     24919     0.0\n",
       "2    54171      2386     0.6\n",
       "3   292408      5028     0.7\n",
       "4   334396     30243     0.4"
      ]
     },
     "execution_count": 163,
     "metadata": {},
     "output_type": "execute_result"
    }
   ],
   "source": [
    "rating_df = pd.read_csv(INPUT_DIR + '/preprocessed_animelist.csv', \n",
    "                        low_memory=False, \n",
    "                        usecols=[\"user_id\", \"anime_id\", \"rating\"]\n",
    "                        )\n",
    "\n",
    "rating_df.head(5)"
   ]
  },
  {
   "cell_type": "markdown",
   "metadata": {},
   "source": [
    "# Join two different table"
   ]
  },
  {
   "cell_type": "code",
   "execution_count": 6,
   "metadata": {},
   "outputs": [
    {
     "data": {
      "text/html": [
       "<div>\n",
       "<style scoped>\n",
       "    .dataframe tbody tr th:only-of-type {\n",
       "        vertical-align: middle;\n",
       "    }\n",
       "\n",
       "    .dataframe tbody tr th {\n",
       "        vertical-align: top;\n",
       "    }\n",
       "\n",
       "    .dataframe thead th {\n",
       "        text-align: right;\n",
       "    }\n",
       "</style>\n",
       "<table border=\"1\" class=\"dataframe\">\n",
       "  <thead>\n",
       "    <tr style=\"text-align: right;\">\n",
       "      <th></th>\n",
       "      <th>user_id</th>\n",
       "      <th>anime_id</th>\n",
       "      <th>rating</th>\n",
       "      <th>Name</th>\n",
       "      <th>Genres</th>\n",
       "    </tr>\n",
       "  </thead>\n",
       "  <tbody>\n",
       "    <tr>\n",
       "      <th>0</th>\n",
       "      <td>278536</td>\n",
       "      <td>31845</td>\n",
       "      <td>0.9</td>\n",
       "      <td>Masou Gakuen HxH</td>\n",
       "      <td>Action, Sci-Fi, Harem, Comedy, Romance, Ecchi,...</td>\n",
       "    </tr>\n",
       "    <tr>\n",
       "      <th>1</th>\n",
       "      <td>240056</td>\n",
       "      <td>31845</td>\n",
       "      <td>0.3</td>\n",
       "      <td>Masou Gakuen HxH</td>\n",
       "      <td>Action, Sci-Fi, Harem, Comedy, Romance, Ecchi,...</td>\n",
       "    </tr>\n",
       "    <tr>\n",
       "      <th>2</th>\n",
       "      <td>232230</td>\n",
       "      <td>31845</td>\n",
       "      <td>0.0</td>\n",
       "      <td>Masou Gakuen HxH</td>\n",
       "      <td>Action, Sci-Fi, Harem, Comedy, Romance, Ecchi,...</td>\n",
       "    </tr>\n",
       "    <tr>\n",
       "      <th>3</th>\n",
       "      <td>436</td>\n",
       "      <td>31845</td>\n",
       "      <td>0.0</td>\n",
       "      <td>Masou Gakuen HxH</td>\n",
       "      <td>Action, Sci-Fi, Harem, Comedy, Romance, Ecchi,...</td>\n",
       "    </tr>\n",
       "    <tr>\n",
       "      <th>4</th>\n",
       "      <td>39660</td>\n",
       "      <td>31845</td>\n",
       "      <td>0.7</td>\n",
       "      <td>Masou Gakuen HxH</td>\n",
       "      <td>Action, Sci-Fi, Harem, Comedy, Romance, Ecchi,...</td>\n",
       "    </tr>\n",
       "  </tbody>\n",
       "</table>\n",
       "</div>"
      ],
      "text/plain": [
       "   user_id  anime_id  rating              Name  \\\n",
       "0   278536     31845     0.9  Masou Gakuen HxH   \n",
       "1   240056     31845     0.3  Masou Gakuen HxH   \n",
       "2   232230     31845     0.0  Masou Gakuen HxH   \n",
       "3      436     31845     0.0  Masou Gakuen HxH   \n",
       "4    39660     31845     0.7  Masou Gakuen HxH   \n",
       "\n",
       "                                              Genres  \n",
       "0  Action, Sci-Fi, Harem, Comedy, Romance, Ecchi,...  \n",
       "1  Action, Sci-Fi, Harem, Comedy, Romance, Ecchi,...  \n",
       "2  Action, Sci-Fi, Harem, Comedy, Romance, Ecchi,...  \n",
       "3  Action, Sci-Fi, Harem, Comedy, Romance, Ecchi,...  \n",
       "4  Action, Sci-Fi, Harem, Comedy, Romance, Ecchi,...  "
      ]
     },
     "execution_count": 6,
     "metadata": {},
     "output_type": "execute_result"
    }
   ],
   "source": [
    "rating_with_genres_df = rating_df.merge(animes_genres_df, on=\"anime_id\", how=\"inner\")\n",
    "rating_with_genres_df.head(5)"
   ]
  },
  {
   "cell_type": "code",
   "execution_count": 7,
   "metadata": {},
   "outputs": [
    {
     "data": {
      "text/html": [
       "<div>\n",
       "<style scoped>\n",
       "    .dataframe tbody tr th:only-of-type {\n",
       "        vertical-align: middle;\n",
       "    }\n",
       "\n",
       "    .dataframe tbody tr th {\n",
       "        vertical-align: top;\n",
       "    }\n",
       "\n",
       "    .dataframe thead th {\n",
       "        text-align: right;\n",
       "    }\n",
       "</style>\n",
       "<table border=\"1\" class=\"dataframe\">\n",
       "  <thead>\n",
       "    <tr style=\"text-align: right;\">\n",
       "      <th></th>\n",
       "      <th>user_id</th>\n",
       "      <th>anime_id</th>\n",
       "      <th>rating</th>\n",
       "      <th>Name</th>\n",
       "      <th>Genres</th>\n",
       "    </tr>\n",
       "  </thead>\n",
       "  <tbody>\n",
       "    <tr>\n",
       "      <th>0</th>\n",
       "      <td>278536</td>\n",
       "      <td>31845</td>\n",
       "      <td>0.9</td>\n",
       "      <td>Masou Gakuen HxH</td>\n",
       "      <td>[Action,  Sci-Fi,  Harem,  Comedy,  Romance,  ...</td>\n",
       "    </tr>\n",
       "    <tr>\n",
       "      <th>1</th>\n",
       "      <td>240056</td>\n",
       "      <td>31845</td>\n",
       "      <td>0.3</td>\n",
       "      <td>Masou Gakuen HxH</td>\n",
       "      <td>[Action,  Sci-Fi,  Harem,  Comedy,  Romance,  ...</td>\n",
       "    </tr>\n",
       "    <tr>\n",
       "      <th>2</th>\n",
       "      <td>232230</td>\n",
       "      <td>31845</td>\n",
       "      <td>0.0</td>\n",
       "      <td>Masou Gakuen HxH</td>\n",
       "      <td>[Action,  Sci-Fi,  Harem,  Comedy,  Romance,  ...</td>\n",
       "    </tr>\n",
       "    <tr>\n",
       "      <th>3</th>\n",
       "      <td>436</td>\n",
       "      <td>31845</td>\n",
       "      <td>0.0</td>\n",
       "      <td>Masou Gakuen HxH</td>\n",
       "      <td>[Action,  Sci-Fi,  Harem,  Comedy,  Romance,  ...</td>\n",
       "    </tr>\n",
       "    <tr>\n",
       "      <th>4</th>\n",
       "      <td>39660</td>\n",
       "      <td>31845</td>\n",
       "      <td>0.7</td>\n",
       "      <td>Masou Gakuen HxH</td>\n",
       "      <td>[Action,  Sci-Fi,  Harem,  Comedy,  Romance,  ...</td>\n",
       "    </tr>\n",
       "  </tbody>\n",
       "</table>\n",
       "</div>"
      ],
      "text/plain": [
       "   user_id  anime_id  rating              Name  \\\n",
       "0   278536     31845     0.9  Masou Gakuen HxH   \n",
       "1   240056     31845     0.3  Masou Gakuen HxH   \n",
       "2   232230     31845     0.0  Masou Gakuen HxH   \n",
       "3      436     31845     0.0  Masou Gakuen HxH   \n",
       "4    39660     31845     0.7  Masou Gakuen HxH   \n",
       "\n",
       "                                              Genres  \n",
       "0  [Action,  Sci-Fi,  Harem,  Comedy,  Romance,  ...  \n",
       "1  [Action,  Sci-Fi,  Harem,  Comedy,  Romance,  ...  \n",
       "2  [Action,  Sci-Fi,  Harem,  Comedy,  Romance,  ...  \n",
       "3  [Action,  Sci-Fi,  Harem,  Comedy,  Romance,  ...  \n",
       "4  [Action,  Sci-Fi,  Harem,  Comedy,  Romance,  ...  "
      ]
     },
     "execution_count": 7,
     "metadata": {},
     "output_type": "execute_result"
    }
   ],
   "source": [
    "# rating_with_genres_df = rating_with_genres_df[rating_with_genres_df['rating'] > 0]\n",
    "rating_with_genres_df['Genres'] = rating_with_genres_df['Genres'].str.split(pat=\",\", expand=False)\n",
    "rating_with_genres_df.head(5)"
   ]
  },
  {
   "cell_type": "markdown",
   "metadata": {},
   "source": [
    "# Convert the table to the user_id with corresponded feature representation."
   ]
  },
  {
   "cell_type": "code",
   "execution_count": 8,
   "metadata": {},
   "outputs": [],
   "source": [
    "rating_with_genres_dict = rating_with_genres_df.to_dict(orient='list')\n",
    "genres_list = rating_with_genres_dict.pop('Genres')\n",
    "rating_list = rating_with_genres_dict.pop('rating')"
   ]
  },
  {
   "cell_type": "code",
   "execution_count": 9,
   "metadata": {},
   "outputs": [
    {
     "name": "stderr",
     "output_type": "stream",
     "text": [
      "100%|██████████| 7165619/7165619 [00:18<00:00, 391350.67it/s]\n"
     ]
    }
   ],
   "source": [
    "from tqdm import tqdm\n",
    "\n",
    "genre_feature_np = []\n",
    "\n",
    "for i, genres in enumerate(tqdm(genres_list)):\n",
    "    feature_np = np.zeros((genre_num), dtype=float)\n",
    "    for genre in genres:\n",
    "        genre = genre.strip()\n",
    "        feature_np[genre2genre_idx[genre]] = 1.\n",
    "    genre_feature_np.append(feature_np)\n",
    "\n",
    "rating_with_genres_dict['genre_vector'] = genre_feature_np"
   ]
  },
  {
   "cell_type": "code",
   "execution_count": 13,
   "metadata": {},
   "outputs": [
    {
     "data": {
      "text/html": [
       "<div>\n",
       "<style scoped>\n",
       "    .dataframe tbody tr th:only-of-type {\n",
       "        vertical-align: middle;\n",
       "    }\n",
       "\n",
       "    .dataframe tbody tr th {\n",
       "        vertical-align: top;\n",
       "    }\n",
       "\n",
       "    .dataframe thead th {\n",
       "        text-align: right;\n",
       "    }\n",
       "</style>\n",
       "<table border=\"1\" class=\"dataframe\">\n",
       "  <thead>\n",
       "    <tr style=\"text-align: right;\">\n",
       "      <th></th>\n",
       "      <th>user_id</th>\n",
       "      <th>genre_vector</th>\n",
       "    </tr>\n",
       "  </thead>\n",
       "  <tbody>\n",
       "    <tr>\n",
       "      <th>0</th>\n",
       "      <td>146</td>\n",
       "      <td>[0.16210053075893657, 0.0, 0.0, 0.287466049151...</td>\n",
       "    </tr>\n",
       "    <tr>\n",
       "      <th>1</th>\n",
       "      <td>240</td>\n",
       "      <td>[0.0, 0.0, 0.0, 0.29798188070925263, 0.0, 0.21...</td>\n",
       "    </tr>\n",
       "    <tr>\n",
       "      <th>2</th>\n",
       "      <td>436</td>\n",
       "      <td>[0.0, 0.0, 0.0, 0.20908885241998634, 0.0, 0.0,...</td>\n",
       "    </tr>\n",
       "    <tr>\n",
       "      <th>3</th>\n",
       "      <td>446</td>\n",
       "      <td>[0.0, 0.0, 0.0, 0.24833529774036153, 0.0, 0.20...</td>\n",
       "    </tr>\n",
       "    <tr>\n",
       "      <th>4</th>\n",
       "      <td>781</td>\n",
       "      <td>[0.0, 0.0, 0.0, 0.23456700510100628, 0.3665634...</td>\n",
       "    </tr>\n",
       "  </tbody>\n",
       "</table>\n",
       "</div>"
      ],
      "text/plain": [
       "   user_id                                       genre_vector\n",
       "0      146  [0.16210053075893657, 0.0, 0.0, 0.287466049151...\n",
       "1      240  [0.0, 0.0, 0.0, 0.29798188070925263, 0.0, 0.21...\n",
       "2      436  [0.0, 0.0, 0.0, 0.20908885241998634, 0.0, 0.0,...\n",
       "3      446  [0.0, 0.0, 0.0, 0.24833529774036153, 0.0, 0.20...\n",
       "4      781  [0.0, 0.0, 0.0, 0.23456700510100628, 0.3665634..."
      ]
     },
     "execution_count": 13,
     "metadata": {},
     "output_type": "execute_result"
    }
   ],
   "source": [
    "def np_choose_highest_10(x):\n",
    "    x[np.argsort(x)[:-10]] = 0\n",
    "    return x\n",
    "\n",
    "user_with_genre_vector = pd.DataFrame(rating_with_genres_dict)\n",
    "user_with_vector = user_with_genre_vector.groupby('user_id')[['genre_vector']].agg(lambda x: x.sum(axis=0))\n",
    "# user_with_vector['genre_vector'] = user_with_vector['genre_vector'].apply(np_choose_highest_10)\n",
    "user_with_vector['genre_vector'] = user_with_vector['genre_vector'].apply(lambda x: x/np.linalg.norm(x))\n",
    "\n",
    "user_with_vector.reset_index(inplace=True)\n",
    "user_with_vector.head(5)"
   ]
  },
  {
   "cell_type": "code",
   "execution_count": 11,
   "metadata": {},
   "outputs": [],
   "source": [
    "user_with_vector_dict = user_with_vector.to_dict(orient='list')"
   ]
  },
  {
   "cell_type": "markdown",
   "metadata": {},
   "source": [
    "Save the data"
   ]
  },
  {
   "cell_type": "code",
   "execution_count": 12,
   "metadata": {},
   "outputs": [],
   "source": [
    "import pickle\n",
    "\n",
    "INPUT_DIR = './model'\n",
    "\n",
    "with open(INPUT_DIR + \"/user_with_vector_dict.pickle\", 'wb') as f:\n",
    "    pickle.dump(user_with_vector_dict, f)"
   ]
  },
  {
   "cell_type": "markdown",
   "metadata": {},
   "source": [
    "# **Load user with vector dict (Restart the jupyter to clean up the used memory space)**"
   ]
  },
  {
   "cell_type": "code",
   "execution_count": null,
   "metadata": {},
   "outputs": [],
   "source": [
    "%cd ..\n",
    "import numpy as np\n",
    "import pandas as pd"
   ]
  },
  {
   "cell_type": "markdown",
   "metadata": {},
   "source": [
    "load the anime data with its genre."
   ]
  },
  {
   "cell_type": "code",
   "execution_count": 172,
   "metadata": {},
   "outputs": [
    {
     "name": "stdout",
     "output_type": "stream",
     "text": [
      "Number of anime's types: 16214\n",
      "Set of genres: {'Super Power', 'Shoujo', 'Seinen', 'Shounen Ai', 'Sports', 'Parody', 'Magic', 'Vampire', 'Mystery', 'Thriller', 'Psychological', 'Supernatural', 'Adventure', 'Action', 'Fantasy', 'Shounen', 'School', 'Kids', 'Cars', 'Drama', 'Romance', 'Comedy', 'Yaoi', 'Josei', 'Unknown', 'Horror', 'Martial Arts', 'Demons', 'Mecha', 'Ecchi', 'Slice of Life', 'Shoujo Ai', 'Dementia', 'Music', 'Space', 'Game', 'Samurai', 'Police', 'Historical', 'Military', 'Harem', 'Sci-Fi'}\n",
      "Number of genre: 42\n"
     ]
    },
    {
     "data": {
      "text/html": [
       "<div>\n",
       "<style scoped>\n",
       "    .dataframe tbody tr th:only-of-type {\n",
       "        vertical-align: middle;\n",
       "    }\n",
       "\n",
       "    .dataframe tbody tr th {\n",
       "        vertical-align: top;\n",
       "    }\n",
       "\n",
       "    .dataframe thead th {\n",
       "        text-align: right;\n",
       "    }\n",
       "</style>\n",
       "<table border=\"1\" class=\"dataframe\">\n",
       "  <thead>\n",
       "    <tr style=\"text-align: right;\">\n",
       "      <th></th>\n",
       "      <th>anime_id</th>\n",
       "      <th>Name</th>\n",
       "      <th>Genres</th>\n",
       "      <th>sypnopsis</th>\n",
       "    </tr>\n",
       "  </thead>\n",
       "  <tbody>\n",
       "    <tr>\n",
       "      <th>0</th>\n",
       "      <td>1</td>\n",
       "      <td>Cowboy Bebop</td>\n",
       "      <td>Action, Adventure, Comedy, Drama, Sci-Fi, Space</td>\n",
       "      <td>In the year 2071, humanity has colonized sever...</td>\n",
       "    </tr>\n",
       "    <tr>\n",
       "      <th>1</th>\n",
       "      <td>5</td>\n",
       "      <td>Cowboy Bebop: Tengoku no Tobira</td>\n",
       "      <td>Action, Drama, Mystery, Sci-Fi, Space</td>\n",
       "      <td>other day, another bounty—such is the life of ...</td>\n",
       "    </tr>\n",
       "    <tr>\n",
       "      <th>2</th>\n",
       "      <td>6</td>\n",
       "      <td>Trigun</td>\n",
       "      <td>Action, Sci-Fi, Adventure, Comedy, Drama, Shounen</td>\n",
       "      <td>Vash the Stampede is the man with a $$60,000,0...</td>\n",
       "    </tr>\n",
       "    <tr>\n",
       "      <th>3</th>\n",
       "      <td>7</td>\n",
       "      <td>Witch Hunter Robin</td>\n",
       "      <td>Action, Mystery, Police, Supernatural, Drama, ...</td>\n",
       "      <td>ches are individuals with special powers like ...</td>\n",
       "    </tr>\n",
       "    <tr>\n",
       "      <th>4</th>\n",
       "      <td>8</td>\n",
       "      <td>Bouken Ou Beet</td>\n",
       "      <td>Adventure, Fantasy, Shounen, Supernatural</td>\n",
       "      <td>It is the dark century and the people are suff...</td>\n",
       "    </tr>\n",
       "  </tbody>\n",
       "</table>\n",
       "</div>"
      ],
      "text/plain": [
       "   anime_id                             Name  \\\n",
       "0         1                     Cowboy Bebop   \n",
       "1         5  Cowboy Bebop: Tengoku no Tobira   \n",
       "2         6                           Trigun   \n",
       "3         7               Witch Hunter Robin   \n",
       "4         8                   Bouken Ou Beet   \n",
       "\n",
       "                                              Genres  \\\n",
       "0    Action, Adventure, Comedy, Drama, Sci-Fi, Space   \n",
       "1              Action, Drama, Mystery, Sci-Fi, Space   \n",
       "2  Action, Sci-Fi, Adventure, Comedy, Drama, Shounen   \n",
       "3  Action, Mystery, Police, Supernatural, Drama, ...   \n",
       "4          Adventure, Fantasy, Shounen, Supernatural   \n",
       "\n",
       "                                           sypnopsis  \n",
       "0  In the year 2071, humanity has colonized sever...  \n",
       "1  other day, another bounty—such is the life of ...  \n",
       "2  Vash the Stampede is the man with a $$60,000,0...  \n",
       "3  ches are individuals with special powers like ...  \n",
       "4  It is the dark century and the people are suff...  "
      ]
     },
     "execution_count": 172,
     "metadata": {},
     "output_type": "execute_result"
    }
   ],
   "source": [
    "INPUT_DIR = './data'\n",
    "\n",
    "animes_genres_df = pd.read_csv(\n",
    "    INPUT_DIR + '/anime_with_synopsis.csv', \n",
    "    low_memory=False, \n",
    "    usecols=[\"MAL_ID\", \"Name\", \"Genres\", \"sypnopsis\"]\n",
    ")\n",
    "animes_genres_df.rename({\"MAL_ID\": \"anime_id\"}, inplace=True, axis=1)\n",
    "\n",
    "anime_num = len(animes_genres_df[\"anime_id\"].unique())\n",
    "print(f\"Number of anime's types: {anime_num}\")\n",
    "\n",
    "genre_seperate = animes_genres_df[\"Genres\"].str.split(pat=\",\", expand=True)\n",
    "genre_series = pd.concat([genre_seperate[col] for col in genre_seperate.columns])\n",
    "genre_set = set([item.strip() for item in genre_series.unique().tolist() if item is not None])\n",
    "print(f\"Set of genres: {genre_set}\")\n",
    "genre_num = len(genre_set)\n",
    "print(f\"Number of genre: {genre_num}\")\n",
    "\n",
    "genre2genre_idx = {x: i for i, x in enumerate(genre_set)}\n",
    "genre_idx2genre = {i: x for i, x in enumerate(genre_set)}\n",
    "\n",
    "animes_genres_df.head(5)"
   ]
  },
  {
   "cell_type": "markdown",
   "metadata": {},
   "source": [
    "user_id with its corresponding index"
   ]
  },
  {
   "cell_type": "code",
   "execution_count": 173,
   "metadata": {},
   "outputs": [],
   "source": [
    "import pickle\n",
    "\n",
    "INPUT_DIR = './model'\n",
    "\n",
    "with open(INPUT_DIR + \"/user_with_vector_dict.pickle\", 'rb') as f:\n",
    "    user_with_vector_dict = pickle.load(f)"
   ]
  },
  {
   "cell_type": "code",
   "execution_count": 174,
   "metadata": {},
   "outputs": [],
   "source": [
    "user_id2user_id_idx = {x: i for i, x in enumerate(user_with_vector_dict['user_id'])}\n",
    "user_id_idx2user_id = {i: x for i, x in enumerate(user_with_vector_dict['user_id'])}"
   ]
  },
  {
   "cell_type": "markdown",
   "metadata": {},
   "source": [
    "user feature matrix"
   ]
  },
  {
   "cell_type": "code",
   "execution_count": 175,
   "metadata": {},
   "outputs": [],
   "source": [
    "user_feature_matrix = np.vstack(user_with_vector_dict['genre_vector'])"
   ]
  },
  {
   "cell_type": "markdown",
   "metadata": {},
   "source": [
    "# User feature mapping"
   ]
  },
  {
   "cell_type": "markdown",
   "metadata": {},
   "source": [
    "generate input feature"
   ]
  },
  {
   "cell_type": "code",
   "execution_count": 176,
   "metadata": {},
   "outputs": [
    {
     "name": "stdout",
     "output_type": "stream",
     "text": [
      "20\n",
      "16\n",
      "0\n"
     ]
    }
   ],
   "source": [
    "input_feature = {\"Romance\": 4, \"School\": 4, \"Super Power\": 2}\n",
    "input_feature_np = np.zeros((genre_num), dtype=float)\n",
    "for genre, score in input_feature.items():\n",
    "    print(genre2genre_idx[genre])\n",
    "    input_feature_np[genre2genre_idx[genre]] = score"
   ]
  },
  {
   "cell_type": "code",
   "execution_count": 177,
   "metadata": {},
   "outputs": [
    {
     "name": "stdout",
     "output_type": "stream",
     "text": [
      "Most similar user_id: 107224\n"
     ]
    }
   ],
   "source": [
    "most_similar_user_id = user_id_idx2user_id[np.argmax(np.inner(user_feature_matrix, input_feature_np))]\n",
    "print(f\"Most similar user_id: {most_similar_user_id}\")"
   ]
  },
  {
   "cell_type": "markdown",
   "metadata": {},
   "source": [
    "# Model predict"
   ]
  },
  {
   "cell_type": "markdown",
   "metadata": {},
   "source": [
    "load encoder config"
   ]
  },
  {
   "cell_type": "code",
   "execution_count": 178,
   "metadata": {},
   "outputs": [
    {
     "name": "stdout",
     "output_type": "stream",
     "text": [
      "['user2user_encoded', 'user_encoded2user', 'anime2anime_encoded', 'anime_encoded2anime']\n"
     ]
    }
   ],
   "source": [
    "import json\n",
    "\n",
    "INPUT_DIR = \"./model\"\n",
    "\n",
    "with open(INPUT_DIR + \"/encode_config.json\") as f:\n",
    "    encoder_conig = json.load(f)\n",
    "\n",
    "print(list(encoder_conig.keys()))"
   ]
  },
  {
   "cell_type": "code",
   "execution_count": 179,
   "metadata": {},
   "outputs": [
    {
     "name": "stdout",
     "output_type": "stream",
     "text": [
      "Num of users: 2463, Num of animes: 15749\n"
     ]
    }
   ],
   "source": [
    "user2user_encoded = encoder_conig['user2user_encoded']\n",
    "user_encoded2user = encoder_conig['user_encoded2user']\n",
    "anime2anime_encoded = encoder_conig['anime2anime_encoded']\n",
    "anime_encoded2anime = encoder_conig['anime_encoded2anime']\n",
    "\n",
    "n_users = len(user2user_encoded)\n",
    "n_animes = len(anime2anime_encoded)\n",
    "print(\"Num of users: {}, Num of animes: {}\".format(n_users, n_animes))"
   ]
  },
  {
   "cell_type": "markdown",
   "metadata": {},
   "source": [
    "Import the model"
   ]
  },
  {
   "cell_type": "code",
   "execution_count": 180,
   "metadata": {},
   "outputs": [
    {
     "data": {
      "text/plain": [
       "FactorizationMachineModel(\n",
       "  (embedding): FeaturesEmbedding(\n",
       "    (embedding): Embedding(18212, 32)\n",
       "  )\n",
       "  (linear): FeaturesLinear(\n",
       "    (fc): Embedding(18212, 1)\n",
       "  )\n",
       "  (fm): FactorizationMachine()\n",
       ")"
      ]
     },
     "execution_count": 180,
     "metadata": {},
     "output_type": "execute_result"
    }
   ],
   "source": [
    "import torch\n",
    "from recanime.recommender.ranking_base_filter.model import FactorizationMachineModel\n",
    "\n",
    "\n",
    "model = torch.load(INPUT_DIR + \"/model.pt\")\n",
    "model.eval()"
   ]
  },
  {
   "cell_type": "markdown",
   "metadata": {},
   "source": [
    "Prefilter the animes by select the anime has the highest score feature."
   ]
  },
  {
   "cell_type": "code",
   "execution_count": 83,
   "metadata": {},
   "outputs": [
    {
     "data": {
      "text/html": [
       "<div>\n",
       "<style scoped>\n",
       "    .dataframe tbody tr th:only-of-type {\n",
       "        vertical-align: middle;\n",
       "    }\n",
       "\n",
       "    .dataframe tbody tr th {\n",
       "        vertical-align: top;\n",
       "    }\n",
       "\n",
       "    .dataframe thead th {\n",
       "        text-align: right;\n",
       "    }\n",
       "</style>\n",
       "<table border=\"1\" class=\"dataframe\">\n",
       "  <thead>\n",
       "    <tr style=\"text-align: right;\">\n",
       "      <th></th>\n",
       "      <th>anime_id</th>\n",
       "      <th>Genres</th>\n",
       "    </tr>\n",
       "  </thead>\n",
       "  <tbody>\n",
       "    <tr>\n",
       "      <th>215</th>\n",
       "      <td>247</td>\n",
       "      <td>[Fantasy,  Magic,  Supernatural,  Demons,  His...</td>\n",
       "    </tr>\n",
       "    <tr>\n",
       "      <th>247</th>\n",
       "      <td>279</td>\n",
       "      <td>[Fantasy,  Historical,  Horror,  Mystery,  Psy...</td>\n",
       "    </tr>\n",
       "    <tr>\n",
       "      <th>302</th>\n",
       "      <td>336</td>\n",
       "      <td>[Fantasy,  Shoujo]</td>\n",
       "    </tr>\n",
       "    <tr>\n",
       "      <th>530</th>\n",
       "      <td>577</td>\n",
       "      <td>[Fantasy,  Magic]</td>\n",
       "    </tr>\n",
       "    <tr>\n",
       "      <th>622</th>\n",
       "      <td>682</td>\n",
       "      <td>[Fantasy,  Magic,  Comedy,  Harem,  Romance]</td>\n",
       "    </tr>\n",
       "  </tbody>\n",
       "</table>\n",
       "</div>"
      ],
      "text/plain": [
       "     anime_id                                             Genres\n",
       "215       247  [Fantasy,  Magic,  Supernatural,  Demons,  His...\n",
       "247       279  [Fantasy,  Historical,  Horror,  Mystery,  Psy...\n",
       "302       336                                 [Fantasy,  Shoujo]\n",
       "530       577                                  [Fantasy,  Magic]\n",
       "622       682       [Fantasy,  Magic,  Comedy,  Harem,  Romance]"
      ]
     },
     "execution_count": 83,
     "metadata": {},
     "output_type": "execute_result"
    }
   ],
   "source": [
    "# hightest_genre = sorted(input_feature.items(), key=lambda x: x[1], reverse=True)[0][0]\n",
    "# prefilter_animes_df = animes_genres_df[['anime_id', 'Genres']].copy(deep=True)\n",
    "# prefilter_animes_df['Genres'] = prefilter_animes_df['Genres'].str.split(pat=\",\", expand=False)\n",
    "# prefilter_animes_df['Genres'] = prefilter_animes_df['Genres'].apply(lambda x: np.nan if hightest_genre not in x else x)\n",
    "# prefilter_animes_df.dropna(inplace=True)\n",
    "\n",
    "# prefilter_animes_df.head(5)"
   ]
  },
  {
   "cell_type": "markdown",
   "metadata": {},
   "source": [
    "Select the animes with certain genre"
   ]
  },
  {
   "cell_type": "code",
   "execution_count": 181,
   "metadata": {},
   "outputs": [
    {
     "data": {
      "text/html": [
       "<div>\n",
       "<style scoped>\n",
       "    .dataframe tbody tr th:only-of-type {\n",
       "        vertical-align: middle;\n",
       "    }\n",
       "\n",
       "    .dataframe tbody tr th {\n",
       "        vertical-align: top;\n",
       "    }\n",
       "\n",
       "    .dataframe thead th {\n",
       "        text-align: right;\n",
       "    }\n",
       "</style>\n",
       "<table border=\"1\" class=\"dataframe\">\n",
       "  <thead>\n",
       "    <tr style=\"text-align: right;\">\n",
       "      <th></th>\n",
       "      <th>anime_id</th>\n",
       "      <th>Genres</th>\n",
       "    </tr>\n",
       "  </thead>\n",
       "  <tbody>\n",
       "    <tr>\n",
       "      <th>160</th>\n",
       "      <td>183</td>\n",
       "      <td>[School,  Shounen,  Sports]</td>\n",
       "    </tr>\n",
       "    <tr>\n",
       "      <th>327</th>\n",
       "      <td>361</td>\n",
       "      <td>[Romance,  Drama]</td>\n",
       "    </tr>\n",
       "    <tr>\n",
       "      <th>328</th>\n",
       "      <td>362</td>\n",
       "      <td>[Romance,  Drama]</td>\n",
       "    </tr>\n",
       "    <tr>\n",
       "      <th>329</th>\n",
       "      <td>363</td>\n",
       "      <td>[Romance,  Drama]</td>\n",
       "    </tr>\n",
       "    <tr>\n",
       "      <th>366</th>\n",
       "      <td>401</td>\n",
       "      <td>[Romance,  Samurai,  Historical,  Drama,  Shou...</td>\n",
       "    </tr>\n",
       "  </tbody>\n",
       "</table>\n",
       "</div>"
      ],
      "text/plain": [
       "     anime_id                                             Genres\n",
       "160       183                        [School,  Shounen,  Sports]\n",
       "327       361                                  [Romance,  Drama]\n",
       "328       362                                  [Romance,  Drama]\n",
       "329       363                                  [Romance,  Drama]\n",
       "366       401  [Romance,  Samurai,  Historical,  Drama,  Shou..."
      ]
     },
     "execution_count": 181,
     "metadata": {},
     "output_type": "execute_result"
    }
   ],
   "source": [
    "select_genre = set(input_feature.keys())\n",
    "prefilter_animes_df = animes_genres_df[['anime_id', 'Genres']].copy(deep=True)\n",
    "prefilter_animes_df['Genres'] = prefilter_animes_df['Genres'].str.split(pat=\",\", expand=False)\n",
    "prefilter_animes_df['Genres'] = prefilter_animes_df['Genres'].apply(lambda x: np.nan if len(select_genre&set(x)) == 0 else x)\n",
    "prefilter_animes_df.dropna(inplace=True)\n",
    "\n",
    "prefilter_animes_df.head(5)"
   ]
  },
  {
   "cell_type": "code",
   "execution_count": 182,
   "metadata": {},
   "outputs": [],
   "source": [
    "prefilter_animes_dict = prefilter_animes_df.to_dict(orient='list')\n",
    "prefilter_anime_id_list = prefilter_animes_dict['anime_id']\n",
    "\n",
    "prefilter_anime_id_encode_list = []\n",
    "anime_arg_id2_anime_id = []\n",
    "for anime_id in prefilter_anime_id_list:\n",
    "    try:\n",
    "        prefilter_anime_id_encode_list.append(anime2anime_encoded[str(anime_id)])\n",
    "        anime_arg_id2_anime_id.append(anime_id)\n",
    "    except:\n",
    "        pass"
   ]
  },
  {
   "cell_type": "markdown",
   "metadata": {},
   "source": [
    "load the data"
   ]
  },
  {
   "cell_type": "code",
   "execution_count": 183,
   "metadata": {},
   "outputs": [],
   "source": [
    "most_similar_user_id_encode = user2user_encoded[str(most_similar_user_id)]\n",
    "user_id_with_all_anime = [[most_similar_user_id_encode, anime_id_encode] for anime_id_encode in prefilter_anime_id_encode_list]\n",
    "user_id_with_all_anime_t = torch.tensor(user_id_with_all_anime)"
   ]
  },
  {
   "cell_type": "code",
   "execution_count": 194,
   "metadata": {},
   "outputs": [],
   "source": [
    "top_n_recommend = 10\n",
    "\n",
    "output = model(user_id_with_all_anime_t)\n",
    "output = output.squeeze()\n",
    "sort_asc_score, sort_asc_score_idx = output.sort(descending=True)\n",
    "sort_asc_score = sort_asc_score[:top_n_recommend].tolist()\n",
    "sort_asc_score_idx = sort_asc_score_idx[:top_n_recommend].tolist()"
   ]
  },
  {
   "cell_type": "code",
   "execution_count": 200,
   "metadata": {},
   "outputs": [],
   "source": [
    "top_n_anime_id = []\n",
    "for idx in sort_asc_score_idx:\n",
    "    top_n_anime_id.append(anime_arg_id2_anime_id[idx])\n",
    "    \n",
    "anime_id_with_score = pd.DataFrame({\"anime_id\": top_n_anime_id, \"predict_score\": sort_asc_score})"
   ]
  },
  {
   "cell_type": "markdown",
   "metadata": {},
   "source": [
    "# Recommend Result (For input_feature = {\"Romance\": 4, \"School\": 4, \"Super Power\": 2})"
   ]
  },
  {
   "cell_type": "code",
   "execution_count": 207,
   "metadata": {},
   "outputs": [
    {
     "data": {
      "text/html": [
       "<div>\n",
       "<style scoped>\n",
       "    .dataframe tbody tr th:only-of-type {\n",
       "        vertical-align: middle;\n",
       "    }\n",
       "\n",
       "    .dataframe tbody tr th {\n",
       "        vertical-align: top;\n",
       "    }\n",
       "\n",
       "    .dataframe thead th {\n",
       "        text-align: right;\n",
       "    }\n",
       "</style>\n",
       "<table border=\"1\" class=\"dataframe\">\n",
       "  <thead>\n",
       "    <tr style=\"text-align: right;\">\n",
       "      <th></th>\n",
       "      <th>anime_id</th>\n",
       "      <th>predict_score</th>\n",
       "      <th>Name</th>\n",
       "      <th>Genres</th>\n",
       "      <th>sypnopsis</th>\n",
       "    </tr>\n",
       "  </thead>\n",
       "  <tbody>\n",
       "    <tr>\n",
       "      <th>0</th>\n",
       "      <td>5081</td>\n",
       "      <td>0.868591</td>\n",
       "      <td>Bakemonogatari</td>\n",
       "      <td>Romance, Supernatural, Mystery, Vampire</td>\n",
       "      <td>Koyomi Araragi, a third-year high school stude...</td>\n",
       "    </tr>\n",
       "    <tr>\n",
       "      <th>1</th>\n",
       "      <td>32281</td>\n",
       "      <td>0.812265</td>\n",
       "      <td>Kimi no Na wa.</td>\n",
       "      <td>Romance, Supernatural, School, Drama</td>\n",
       "      <td>suha Miyamizu, a high school girl, yearns to l...</td>\n",
       "    </tr>\n",
       "    <tr>\n",
       "      <th>2</th>\n",
       "      <td>21185</td>\n",
       "      <td>0.604067</td>\n",
       "      <td>Baby Steps</td>\n",
       "      <td>Romance, School, Shounen, Sports</td>\n",
       "      <td>Diligent and methodical honor student Eiichiro...</td>\n",
       "    </tr>\n",
       "    <tr>\n",
       "      <th>3</th>\n",
       "      <td>35466</td>\n",
       "      <td>0.584536</td>\n",
       "      <td>ReLIFE: Kanketsu-hen</td>\n",
       "      <td>Romance, School, Slice of Life</td>\n",
       "      <td>fter reliving the life of a high school studen...</td>\n",
       "    </tr>\n",
       "    <tr>\n",
       "      <th>4</th>\n",
       "      <td>656</td>\n",
       "      <td>0.571132</td>\n",
       "      <td>Air in Summer</td>\n",
       "      <td>Romance, Supernatural, Comedy, Historical, Drama</td>\n",
       "      <td>xtension of the summer-arc in the Air TV-serie...</td>\n",
       "    </tr>\n",
       "    <tr>\n",
       "      <th>5</th>\n",
       "      <td>401</td>\n",
       "      <td>0.563583</td>\n",
       "      <td>Rurouni Kenshin: Meiji Kenkaku Romantan - Seis...</td>\n",
       "      <td>Romance, Samurai, Historical, Drama, Shounen</td>\n",
       "      <td>Kaoru goes to the harbor every day to see if K...</td>\n",
       "    </tr>\n",
       "    <tr>\n",
       "      <th>6</th>\n",
       "      <td>34984</td>\n",
       "      <td>0.552230</td>\n",
       "      <td>Koi wa Ameagari no You ni</td>\n",
       "      <td>Romance, Seinen</td>\n",
       "      <td>kira Tachibana, a reserved high school student...</td>\n",
       "    </tr>\n",
       "    <tr>\n",
       "      <th>7</th>\n",
       "      <td>8768</td>\n",
       "      <td>0.547601</td>\n",
       "      <td>Hiyokoi</td>\n",
       "      <td>Romance, School, Shoujo</td>\n",
       "      <td>Hiyori, a small and timid girl, goes to school...</td>\n",
       "    </tr>\n",
       "    <tr>\n",
       "      <th>8</th>\n",
       "      <td>34822</td>\n",
       "      <td>0.537041</td>\n",
       "      <td>Tsuki ga Kirei</td>\n",
       "      <td>Romance, School</td>\n",
       "      <td>h a new school year comes a new crowd of class...</td>\n",
       "    </tr>\n",
       "    <tr>\n",
       "      <th>9</th>\n",
       "      <td>31553</td>\n",
       "      <td>0.509156</td>\n",
       "      <td>Charlotte: Tsuyoimono-tachi</td>\n",
       "      <td>Super Power, Drama, School</td>\n",
       "      <td>Takehito Kumagami's clairvoyance leads his gro...</td>\n",
       "    </tr>\n",
       "  </tbody>\n",
       "</table>\n",
       "</div>"
      ],
      "text/plain": [
       "   anime_id  predict_score                                               Name  \\\n",
       "0      5081       0.868591                                     Bakemonogatari   \n",
       "1     32281       0.812265                                     Kimi no Na wa.   \n",
       "2     21185       0.604067                                         Baby Steps   \n",
       "3     35466       0.584536                               ReLIFE: Kanketsu-hen   \n",
       "4       656       0.571132                                      Air in Summer   \n",
       "5       401       0.563583  Rurouni Kenshin: Meiji Kenkaku Romantan - Seis...   \n",
       "6     34984       0.552230                          Koi wa Ameagari no You ni   \n",
       "7      8768       0.547601                                            Hiyokoi   \n",
       "8     34822       0.537041                                     Tsuki ga Kirei   \n",
       "9     31553       0.509156                        Charlotte: Tsuyoimono-tachi   \n",
       "\n",
       "                                             Genres  \\\n",
       "0           Romance, Supernatural, Mystery, Vampire   \n",
       "1              Romance, Supernatural, School, Drama   \n",
       "2                  Romance, School, Shounen, Sports   \n",
       "3                    Romance, School, Slice of Life   \n",
       "4  Romance, Supernatural, Comedy, Historical, Drama   \n",
       "5      Romance, Samurai, Historical, Drama, Shounen   \n",
       "6                                   Romance, Seinen   \n",
       "7                           Romance, School, Shoujo   \n",
       "8                                   Romance, School   \n",
       "9                        Super Power, Drama, School   \n",
       "\n",
       "                                           sypnopsis  \n",
       "0  Koyomi Araragi, a third-year high school stude...  \n",
       "1  suha Miyamizu, a high school girl, yearns to l...  \n",
       "2  Diligent and methodical honor student Eiichiro...  \n",
       "3  fter reliving the life of a high school studen...  \n",
       "4  xtension of the summer-arc in the Air TV-serie...  \n",
       "5  Kaoru goes to the harbor every day to see if K...  \n",
       "6  kira Tachibana, a reserved high school student...  \n",
       "7  Hiyori, a small and timid girl, goes to school...  \n",
       "8  h a new school year comes a new crowd of class...  \n",
       "9  Takehito Kumagami's clairvoyance leads his gro...  "
      ]
     },
     "execution_count": 207,
     "metadata": {},
     "output_type": "execute_result"
    }
   ],
   "source": [
    "show_result_df = pd.merge(anime_id_with_score, animes_genres_df, how=\"inner\", on=\"anime_id\").sort_values(by=[\"predict_score\"], ascending=False)\n",
    "show_result_df"
   ]
  }
 ],
 "metadata": {
  "kernelspec": {
   "display_name": "Python 3.8.13 ('ml')",
   "language": "python",
   "name": "python3"
  },
  "language_info": {
   "codemirror_mode": {
    "name": "ipython",
    "version": 3
   },
   "file_extension": ".py",
   "mimetype": "text/x-python",
   "name": "python",
   "nbconvert_exporter": "python",
   "pygments_lexer": "ipython3",
   "version": "3.8.13"
  },
  "orig_nbformat": 4,
  "vscode": {
   "interpreter": {
    "hash": "cb2a16ad5343214987ec83273b09d3ac2f528968793a43e301f018a7f4736060"
   }
  }
 },
 "nbformat": 4,
 "nbformat_minor": 2
}
