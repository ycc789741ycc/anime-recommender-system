{
 "cells": [
  {
   "cell_type": "markdown",
   "metadata": {},
   "source": [
    "# **The Genres of animes**"
   ]
  },
  {
   "cell_type": "code",
   "execution_count": 1,
   "metadata": {},
   "outputs": [
    {
     "name": "stdout",
     "output_type": "stream",
     "text": [
      "/mnt/c/Users/Yoshi/source/repos/Sideprojects/Anime_Recommender_system\n"
     ]
    }
   ],
   "source": [
    "%cd .."
   ]
  },
  {
   "cell_type": "markdown",
   "metadata": {},
   "source": [
    "# Load the library"
   ]
  },
  {
   "cell_type": "code",
   "execution_count": 2,
   "metadata": {},
   "outputs": [],
   "source": [
    "import numpy as np\n",
    "import pandas as pd"
   ]
  },
  {
   "cell_type": "markdown",
   "metadata": {},
   "source": [
    "# load the anime data with its genre."
   ]
  },
  {
   "cell_type": "code",
   "execution_count": 3,
   "metadata": {},
   "outputs": [
    {
     "name": "stdout",
     "output_type": "stream",
     "text": [
      "Number of anime's types: 16214\n",
      "Set of genres: {'Sports', 'Military', 'Adventure', 'Martial Arts', 'Kids', 'Supernatural', 'Magic', 'Romance', 'Action', 'Cars', 'Shounen', 'Mecha', 'Josei', 'Super Power', 'Dementia', 'Parody', 'Yaoi', 'Fantasy', 'Police', 'Ecchi', 'Seinen', 'Music', 'Mystery', 'Shounen Ai', 'School', 'Harem', 'Thriller', 'Shoujo', 'Samurai', 'Space', 'Vampire', 'Shoujo Ai', 'Game', 'Psychological', 'Drama', 'Horror', 'Historical', 'Demons', 'Slice of Life', 'Unknown', 'Comedy', 'Sci-Fi'}\n",
      "Number of genre: 42\n"
     ]
    },
    {
     "data": {
      "text/html": [
       "<div>\n",
       "<style scoped>\n",
       "    .dataframe tbody tr th:only-of-type {\n",
       "        vertical-align: middle;\n",
       "    }\n",
       "\n",
       "    .dataframe tbody tr th {\n",
       "        vertical-align: top;\n",
       "    }\n",
       "\n",
       "    .dataframe thead th {\n",
       "        text-align: right;\n",
       "    }\n",
       "</style>\n",
       "<table border=\"1\" class=\"dataframe\">\n",
       "  <thead>\n",
       "    <tr style=\"text-align: right;\">\n",
       "      <th></th>\n",
       "      <th>anime_id</th>\n",
       "      <th>Name</th>\n",
       "      <th>Genres</th>\n",
       "      <th>sypnopsis</th>\n",
       "    </tr>\n",
       "  </thead>\n",
       "  <tbody>\n",
       "    <tr>\n",
       "      <th>0</th>\n",
       "      <td>1</td>\n",
       "      <td>Cowboy Bebop</td>\n",
       "      <td>Action, Adventure, Comedy, Drama, Sci-Fi, Space</td>\n",
       "      <td>In the year 2071, humanity has colonized sever...</td>\n",
       "    </tr>\n",
       "    <tr>\n",
       "      <th>1</th>\n",
       "      <td>5</td>\n",
       "      <td>Cowboy Bebop: Tengoku no Tobira</td>\n",
       "      <td>Action, Drama, Mystery, Sci-Fi, Space</td>\n",
       "      <td>other day, another bounty—such is the life of ...</td>\n",
       "    </tr>\n",
       "    <tr>\n",
       "      <th>2</th>\n",
       "      <td>6</td>\n",
       "      <td>Trigun</td>\n",
       "      <td>Action, Sci-Fi, Adventure, Comedy, Drama, Shounen</td>\n",
       "      <td>Vash the Stampede is the man with a $$60,000,0...</td>\n",
       "    </tr>\n",
       "    <tr>\n",
       "      <th>3</th>\n",
       "      <td>7</td>\n",
       "      <td>Witch Hunter Robin</td>\n",
       "      <td>Action, Mystery, Police, Supernatural, Drama, ...</td>\n",
       "      <td>ches are individuals with special powers like ...</td>\n",
       "    </tr>\n",
       "    <tr>\n",
       "      <th>4</th>\n",
       "      <td>8</td>\n",
       "      <td>Bouken Ou Beet</td>\n",
       "      <td>Adventure, Fantasy, Shounen, Supernatural</td>\n",
       "      <td>It is the dark century and the people are suff...</td>\n",
       "    </tr>\n",
       "  </tbody>\n",
       "</table>\n",
       "</div>"
      ],
      "text/plain": [
       "   anime_id                             Name  \\\n",
       "0         1                     Cowboy Bebop   \n",
       "1         5  Cowboy Bebop: Tengoku no Tobira   \n",
       "2         6                           Trigun   \n",
       "3         7               Witch Hunter Robin   \n",
       "4         8                   Bouken Ou Beet   \n",
       "\n",
       "                                              Genres  \\\n",
       "0    Action, Adventure, Comedy, Drama, Sci-Fi, Space   \n",
       "1              Action, Drama, Mystery, Sci-Fi, Space   \n",
       "2  Action, Sci-Fi, Adventure, Comedy, Drama, Shounen   \n",
       "3  Action, Mystery, Police, Supernatural, Drama, ...   \n",
       "4          Adventure, Fantasy, Shounen, Supernatural   \n",
       "\n",
       "                                           sypnopsis  \n",
       "0  In the year 2071, humanity has colonized sever...  \n",
       "1  other day, another bounty—such is the life of ...  \n",
       "2  Vash the Stampede is the man with a $$60,000,0...  \n",
       "3  ches are individuals with special powers like ...  \n",
       "4  It is the dark century and the people are suff...  "
      ]
     },
     "execution_count": 3,
     "metadata": {},
     "output_type": "execute_result"
    }
   ],
   "source": [
    "INPUT_DIR = './data'\n",
    "\n",
    "animes_genres_df = pd.read_csv(\n",
    "    INPUT_DIR + '/anime_with_synopsis.csv', \n",
    "    low_memory=False, \n",
    "    usecols=[\"MAL_ID\", \"Name\", \"Genres\", \"sypnopsis\"]\n",
    ")\n",
    "animes_genres_df.rename({\"MAL_ID\": \"anime_id\"}, inplace=True, axis=1)\n",
    "\n",
    "anime_num = len(animes_genres_df[\"anime_id\"].unique())\n",
    "print(f\"Number of anime's types: {anime_num}\")\n",
    "\n",
    "genre_seperate = animes_genres_df[\"Genres\"].str.split(pat=\",\", expand=True)\n",
    "genre_series = pd.concat([genre_seperate[col] for col in genre_seperate.columns])\n",
    "genre_set = set([item.strip() for item in genre_series.unique().tolist() if item is not None])\n",
    "print(f\"Set of genres: {genre_set}\")\n",
    "genre_num = len(genre_set)\n",
    "print(f\"Number of genre: {genre_num}\")\n",
    "\n",
    "animes_genres_df.head(5)"
   ]
  },
  {
   "cell_type": "code",
   "execution_count": 4,
   "metadata": {},
   "outputs": [],
   "source": [
    "genre2genre_idx = {x: i for i, x in enumerate(genre_set)}\n",
    "genre_idx2genre = {i: x for i, x in enumerate(genre_set)}"
   ]
  },
  {
   "cell_type": "markdown",
   "metadata": {},
   "source": [
    "# load the preprocessed user data with anime rating."
   ]
  },
  {
   "cell_type": "code",
   "execution_count": 163,
   "metadata": {},
   "outputs": [
    {
     "data": {
      "text/html": [
       "<div>\n",
       "<style scoped>\n",
       "    .dataframe tbody tr th:only-of-type {\n",
       "        vertical-align: middle;\n",
       "    }\n",
       "\n",
       "    .dataframe tbody tr th {\n",
       "        vertical-align: top;\n",
       "    }\n",
       "\n",
       "    .dataframe thead th {\n",
       "        text-align: right;\n",
       "    }\n",
       "</style>\n",
       "<table border=\"1\" class=\"dataframe\">\n",
       "  <thead>\n",
       "    <tr style=\"text-align: right;\">\n",
       "      <th></th>\n",
       "      <th>user_id</th>\n",
       "      <th>anime_id</th>\n",
       "      <th>rating</th>\n",
       "    </tr>\n",
       "  </thead>\n",
       "  <tbody>\n",
       "    <tr>\n",
       "      <th>0</th>\n",
       "      <td>278536</td>\n",
       "      <td>31845</td>\n",
       "      <td>0.9</td>\n",
       "    </tr>\n",
       "    <tr>\n",
       "      <th>1</th>\n",
       "      <td>56255</td>\n",
       "      <td>24919</td>\n",
       "      <td>0.0</td>\n",
       "    </tr>\n",
       "    <tr>\n",
       "      <th>2</th>\n",
       "      <td>54171</td>\n",
       "      <td>2386</td>\n",
       "      <td>0.6</td>\n",
       "    </tr>\n",
       "    <tr>\n",
       "      <th>3</th>\n",
       "      <td>292408</td>\n",
       "      <td>5028</td>\n",
       "      <td>0.7</td>\n",
       "    </tr>\n",
       "    <tr>\n",
       "      <th>4</th>\n",
       "      <td>334396</td>\n",
       "      <td>30243</td>\n",
       "      <td>0.4</td>\n",
       "    </tr>\n",
       "  </tbody>\n",
       "</table>\n",
       "</div>"
      ],
      "text/plain": [
       "   user_id  anime_id  rating\n",
       "0   278536     31845     0.9\n",
       "1    56255     24919     0.0\n",
       "2    54171      2386     0.6\n",
       "3   292408      5028     0.7\n",
       "4   334396     30243     0.4"
      ]
     },
     "execution_count": 163,
     "metadata": {},
     "output_type": "execute_result"
    }
   ],
   "source": [
    "rating_df = pd.read_csv(INPUT_DIR + '/preprocessed_animelist.csv', \n",
    "                        low_memory=False, \n",
    "                        usecols=[\"user_id\", \"anime_id\", \"rating\"]\n",
    "                        )\n",
    "\n",
    "rating_df.head(5)"
   ]
  },
  {
   "cell_type": "markdown",
   "metadata": {},
   "source": [
    "# Join two different table"
   ]
  },
  {
   "cell_type": "code",
   "execution_count": 6,
   "metadata": {},
   "outputs": [
    {
     "data": {
      "text/html": [
       "<div>\n",
       "<style scoped>\n",
       "    .dataframe tbody tr th:only-of-type {\n",
       "        vertical-align: middle;\n",
       "    }\n",
       "\n",
       "    .dataframe tbody tr th {\n",
       "        vertical-align: top;\n",
       "    }\n",
       "\n",
       "    .dataframe thead th {\n",
       "        text-align: right;\n",
       "    }\n",
       "</style>\n",
       "<table border=\"1\" class=\"dataframe\">\n",
       "  <thead>\n",
       "    <tr style=\"text-align: right;\">\n",
       "      <th></th>\n",
       "      <th>user_id</th>\n",
       "      <th>anime_id</th>\n",
       "      <th>rating</th>\n",
       "      <th>Name</th>\n",
       "      <th>Genres</th>\n",
       "    </tr>\n",
       "  </thead>\n",
       "  <tbody>\n",
       "    <tr>\n",
       "      <th>0</th>\n",
       "      <td>278536</td>\n",
       "      <td>31845</td>\n",
       "      <td>0.9</td>\n",
       "      <td>Masou Gakuen HxH</td>\n",
       "      <td>Action, Sci-Fi, Harem, Comedy, Romance, Ecchi,...</td>\n",
       "    </tr>\n",
       "    <tr>\n",
       "      <th>1</th>\n",
       "      <td>240056</td>\n",
       "      <td>31845</td>\n",
       "      <td>0.3</td>\n",
       "      <td>Masou Gakuen HxH</td>\n",
       "      <td>Action, Sci-Fi, Harem, Comedy, Romance, Ecchi,...</td>\n",
       "    </tr>\n",
       "    <tr>\n",
       "      <th>2</th>\n",
       "      <td>232230</td>\n",
       "      <td>31845</td>\n",
       "      <td>0.0</td>\n",
       "      <td>Masou Gakuen HxH</td>\n",
       "      <td>Action, Sci-Fi, Harem, Comedy, Romance, Ecchi,...</td>\n",
       "    </tr>\n",
       "    <tr>\n",
       "      <th>3</th>\n",
       "      <td>436</td>\n",
       "      <td>31845</td>\n",
       "      <td>0.0</td>\n",
       "      <td>Masou Gakuen HxH</td>\n",
       "      <td>Action, Sci-Fi, Harem, Comedy, Romance, Ecchi,...</td>\n",
       "    </tr>\n",
       "    <tr>\n",
       "      <th>4</th>\n",
       "      <td>39660</td>\n",
       "      <td>31845</td>\n",
       "      <td>0.7</td>\n",
       "      <td>Masou Gakuen HxH</td>\n",
       "      <td>Action, Sci-Fi, Harem, Comedy, Romance, Ecchi,...</td>\n",
       "    </tr>\n",
       "  </tbody>\n",
       "</table>\n",
       "</div>"
      ],
      "text/plain": [
       "   user_id  anime_id  rating              Name  \\\n",
       "0   278536     31845     0.9  Masou Gakuen HxH   \n",
       "1   240056     31845     0.3  Masou Gakuen HxH   \n",
       "2   232230     31845     0.0  Masou Gakuen HxH   \n",
       "3      436     31845     0.0  Masou Gakuen HxH   \n",
       "4    39660     31845     0.7  Masou Gakuen HxH   \n",
       "\n",
       "                                              Genres  \n",
       "0  Action, Sci-Fi, Harem, Comedy, Romance, Ecchi,...  \n",
       "1  Action, Sci-Fi, Harem, Comedy, Romance, Ecchi,...  \n",
       "2  Action, Sci-Fi, Harem, Comedy, Romance, Ecchi,...  \n",
       "3  Action, Sci-Fi, Harem, Comedy, Romance, Ecchi,...  \n",
       "4  Action, Sci-Fi, Harem, Comedy, Romance, Ecchi,...  "
      ]
     },
     "execution_count": 6,
     "metadata": {},
     "output_type": "execute_result"
    }
   ],
   "source": [
    "rating_with_genres_df = rating_df.merge(animes_genres_df, on=\"anime_id\", how=\"inner\")\n",
    "rating_with_genres_df.head(5)"
   ]
  },
  {
   "cell_type": "code",
   "execution_count": 7,
   "metadata": {},
   "outputs": [
    {
     "data": {
      "text/html": [
       "<div>\n",
       "<style scoped>\n",
       "    .dataframe tbody tr th:only-of-type {\n",
       "        vertical-align: middle;\n",
       "    }\n",
       "\n",
       "    .dataframe tbody tr th {\n",
       "        vertical-align: top;\n",
       "    }\n",
       "\n",
       "    .dataframe thead th {\n",
       "        text-align: right;\n",
       "    }\n",
       "</style>\n",
       "<table border=\"1\" class=\"dataframe\">\n",
       "  <thead>\n",
       "    <tr style=\"text-align: right;\">\n",
       "      <th></th>\n",
       "      <th>user_id</th>\n",
       "      <th>anime_id</th>\n",
       "      <th>rating</th>\n",
       "      <th>Name</th>\n",
       "      <th>Genres</th>\n",
       "    </tr>\n",
       "  </thead>\n",
       "  <tbody>\n",
       "    <tr>\n",
       "      <th>0</th>\n",
       "      <td>278536</td>\n",
       "      <td>31845</td>\n",
       "      <td>0.9</td>\n",
       "      <td>Masou Gakuen HxH</td>\n",
       "      <td>[Action,  Sci-Fi,  Harem,  Comedy,  Romance,  ...</td>\n",
       "    </tr>\n",
       "    <tr>\n",
       "      <th>1</th>\n",
       "      <td>240056</td>\n",
       "      <td>31845</td>\n",
       "      <td>0.3</td>\n",
       "      <td>Masou Gakuen HxH</td>\n",
       "      <td>[Action,  Sci-Fi,  Harem,  Comedy,  Romance,  ...</td>\n",
       "    </tr>\n",
       "    <tr>\n",
       "      <th>2</th>\n",
       "      <td>232230</td>\n",
       "      <td>31845</td>\n",
       "      <td>0.0</td>\n",
       "      <td>Masou Gakuen HxH</td>\n",
       "      <td>[Action,  Sci-Fi,  Harem,  Comedy,  Romance,  ...</td>\n",
       "    </tr>\n",
       "    <tr>\n",
       "      <th>3</th>\n",
       "      <td>436</td>\n",
       "      <td>31845</td>\n",
       "      <td>0.0</td>\n",
       "      <td>Masou Gakuen HxH</td>\n",
       "      <td>[Action,  Sci-Fi,  Harem,  Comedy,  Romance,  ...</td>\n",
       "    </tr>\n",
       "    <tr>\n",
       "      <th>4</th>\n",
       "      <td>39660</td>\n",
       "      <td>31845</td>\n",
       "      <td>0.7</td>\n",
       "      <td>Masou Gakuen HxH</td>\n",
       "      <td>[Action,  Sci-Fi,  Harem,  Comedy,  Romance,  ...</td>\n",
       "    </tr>\n",
       "  </tbody>\n",
       "</table>\n",
       "</div>"
      ],
      "text/plain": [
       "   user_id  anime_id  rating              Name  \\\n",
       "0   278536     31845     0.9  Masou Gakuen HxH   \n",
       "1   240056     31845     0.3  Masou Gakuen HxH   \n",
       "2   232230     31845     0.0  Masou Gakuen HxH   \n",
       "3      436     31845     0.0  Masou Gakuen HxH   \n",
       "4    39660     31845     0.7  Masou Gakuen HxH   \n",
       "\n",
       "                                              Genres  \n",
       "0  [Action,  Sci-Fi,  Harem,  Comedy,  Romance,  ...  \n",
       "1  [Action,  Sci-Fi,  Harem,  Comedy,  Romance,  ...  \n",
       "2  [Action,  Sci-Fi,  Harem,  Comedy,  Romance,  ...  \n",
       "3  [Action,  Sci-Fi,  Harem,  Comedy,  Romance,  ...  \n",
       "4  [Action,  Sci-Fi,  Harem,  Comedy,  Romance,  ...  "
      ]
     },
     "execution_count": 7,
     "metadata": {},
     "output_type": "execute_result"
    }
   ],
   "source": [
    "# rating_with_genres_df = rating_with_genres_df[rating_with_genres_df['rating'] > 0]\n",
    "rating_with_genres_df['Genres'] = rating_with_genres_df['Genres'].str.split(pat=\",\", expand=False)\n",
    "rating_with_genres_df.head(5)"
   ]
  },
  {
   "cell_type": "markdown",
   "metadata": {},
   "source": [
    "# Convert the table to the user_id with corresponded feature representation."
   ]
  },
  {
   "cell_type": "code",
   "execution_count": 8,
   "metadata": {},
   "outputs": [],
   "source": [
    "rating_with_genres_dict = rating_with_genres_df.to_dict(orient='list')\n",
    "genres_list = rating_with_genres_dict.pop('Genres')\n",
    "rating_list = rating_with_genres_dict.pop('rating')"
   ]
  },
  {
   "cell_type": "code",
   "execution_count": 9,
   "metadata": {},
   "outputs": [
    {
     "name": "stderr",
     "output_type": "stream",
     "text": [
      "100%|██████████| 7165619/7165619 [00:18<00:00, 391350.67it/s]\n"
     ]
    }
   ],
   "source": [
    "from tqdm import tqdm\n",
    "\n",
    "genre_feature_np = []\n",
    "\n",
    "for i, genres in enumerate(tqdm(genres_list)):\n",
    "    feature_np = np.zeros((genre_num), dtype=float)\n",
    "    for genre in genres:\n",
    "        genre = genre.strip()\n",
    "        feature_np[genre2genre_idx[genre]] = 1.\n",
    "    genre_feature_np.append(feature_np)\n",
    "\n",
    "rating_with_genres_dict['genre_vector'] = genre_feature_np"
   ]
  },
  {
   "cell_type": "code",
   "execution_count": 13,
   "metadata": {},
   "outputs": [
    {
     "data": {
      "text/html": [
       "<div>\n",
       "<style scoped>\n",
       "    .dataframe tbody tr th:only-of-type {\n",
       "        vertical-align: middle;\n",
       "    }\n",
       "\n",
       "    .dataframe tbody tr th {\n",
       "        vertical-align: top;\n",
       "    }\n",
       "\n",
       "    .dataframe thead th {\n",
       "        text-align: right;\n",
       "    }\n",
       "</style>\n",
       "<table border=\"1\" class=\"dataframe\">\n",
       "  <thead>\n",
       "    <tr style=\"text-align: right;\">\n",
       "      <th></th>\n",
       "      <th>user_id</th>\n",
       "      <th>genre_vector</th>\n",
       "    </tr>\n",
       "  </thead>\n",
       "  <tbody>\n",
       "    <tr>\n",
       "      <th>0</th>\n",
       "      <td>146</td>\n",
       "      <td>[0.16210053075893657, 0.0, 0.0, 0.287466049151...</td>\n",
       "    </tr>\n",
       "    <tr>\n",
       "      <th>1</th>\n",
       "      <td>240</td>\n",
       "      <td>[0.0, 0.0, 0.0, 0.29798188070925263, 0.0, 0.21...</td>\n",
       "    </tr>\n",
       "    <tr>\n",
       "      <th>2</th>\n",
       "      <td>436</td>\n",
       "      <td>[0.0, 0.0, 0.0, 0.20908885241998634, 0.0, 0.0,...</td>\n",
       "    </tr>\n",
       "    <tr>\n",
       "      <th>3</th>\n",
       "      <td>446</td>\n",
       "      <td>[0.0, 0.0, 0.0, 0.24833529774036153, 0.0, 0.20...</td>\n",
       "    </tr>\n",
       "    <tr>\n",
       "      <th>4</th>\n",
       "      <td>781</td>\n",
       "      <td>[0.0, 0.0, 0.0, 0.23456700510100628, 0.3665634...</td>\n",
       "    </tr>\n",
       "  </tbody>\n",
       "</table>\n",
       "</div>"
      ],
      "text/plain": [
       "   user_id                                       genre_vector\n",
       "0      146  [0.16210053075893657, 0.0, 0.0, 0.287466049151...\n",
       "1      240  [0.0, 0.0, 0.0, 0.29798188070925263, 0.0, 0.21...\n",
       "2      436  [0.0, 0.0, 0.0, 0.20908885241998634, 0.0, 0.0,...\n",
       "3      446  [0.0, 0.0, 0.0, 0.24833529774036153, 0.0, 0.20...\n",
       "4      781  [0.0, 0.0, 0.0, 0.23456700510100628, 0.3665634..."
      ]
     },
     "execution_count": 13,
     "metadata": {},
     "output_type": "execute_result"
    }
   ],
   "source": [
    "def np_choose_highest_10(x):\n",
    "    x[np.argsort(x)[:-10]] = 0\n",
    "    return x\n",
    "\n",
    "user_with_genre_vector = pd.DataFrame(rating_with_genres_dict)\n",
    "user_with_vector = user_with_genre_vector.groupby('user_id')[['genre_vector']].agg(lambda x: x.sum(axis=0))\n",
    "# user_with_vector['genre_vector'] = user_with_vector['genre_vector'].apply(np_choose_highest_10)\n",
    "user_with_vector['genre_vector'] = user_with_vector['genre_vector'].apply(lambda x: x/np.linalg.norm(x))\n",
    "\n",
    "user_with_vector.reset_index(inplace=True)\n",
    "user_with_vector.head(5)"
   ]
  },
  {
   "cell_type": "code",
   "execution_count": 11,
   "metadata": {},
   "outputs": [],
   "source": [
    "user_with_vector_dict = user_with_vector.to_dict(orient='list')"
   ]
  },
  {
   "cell_type": "markdown",
   "metadata": {},
   "source": [
    "Save the data"
   ]
  },
  {
   "cell_type": "code",
   "execution_count": 12,
   "metadata": {},
   "outputs": [],
   "source": [
    "import pickle\n",
    "\n",
    "INPUT_DIR = './data'\n",
    "\n",
    "with open(INPUT_DIR + \"/user_with_vector_dict.pickle\", 'wb') as f:\n",
    "    pickle.dump(user_with_vector_dict, f)"
   ]
  },
  {
   "cell_type": "code",
   "execution_count": null,
   "metadata": {},
   "outputs": [],
   "source": [
    "import pickle\n",
    "\n",
    "INPUT_DIR = './data'\n",
    "\n",
    "genre_index_mapping = {}\n",
    "genre_index_mapping[\"genre2genre_idx\"] = genre2genre_idx\n",
    "genre_index_mapping[\"genre_idx2genre\"] = genre_idx2genre\n",
    "\n",
    "with open(INPUT_DIR + \"/genre_index_mapping.pickle\", 'wb') as f:\n",
    "    pickle.dump(genre_index_mapping, f)"
   ]
  },
  {
   "cell_type": "markdown",
   "metadata": {},
   "source": [
    "# **Load user with vector dict (Restart the jupyter to clean up the used memory space)**"
   ]
  },
  {
   "cell_type": "code",
   "execution_count": 1,
   "metadata": {},
   "outputs": [
    {
     "name": "stdout",
     "output_type": "stream",
     "text": [
      "/mnt/c/Users/Yoshi/source/repos/Sideprojects/Anime_Recommender_system\n"
     ]
    }
   ],
   "source": [
    "%cd ..\n",
    "import numpy as np\n",
    "import pandas as pd"
   ]
  },
  {
   "cell_type": "markdown",
   "metadata": {},
   "source": [
    "load the anime data with its genre."
   ]
  },
  {
   "cell_type": "code",
   "execution_count": 21,
   "metadata": {},
   "outputs": [
    {
     "name": "stdout",
     "output_type": "stream",
     "text": [
      "Number of anime's types: 16214\n",
      "Set of genres: {'Comedy', 'Fantasy', 'Martial Arts', 'Action', 'Shounen', 'Super Power', 'Drama', 'Horror', 'Seinen', 'School', 'Dementia', 'Mystery', 'Cars', 'Game', 'Military', 'Ecchi', 'Music', 'Vampire', 'Romance', 'Psychological', 'Mecha', 'Slice of Life', 'Yaoi', 'Samurai', 'Harem', 'Space', 'Sports', 'Historical', 'Unknown', 'Parody', 'Supernatural', 'Kids', 'Demons', 'Sci-Fi', 'Magic', 'Shoujo Ai', 'Police', 'Shounen Ai', 'Shoujo', 'Josei', 'Adventure', 'Thriller'}\n",
      "Number of genre: 42\n"
     ]
    },
    {
     "data": {
      "text/html": [
       "<div>\n",
       "<style scoped>\n",
       "    .dataframe tbody tr th:only-of-type {\n",
       "        vertical-align: middle;\n",
       "    }\n",
       "\n",
       "    .dataframe tbody tr th {\n",
       "        vertical-align: top;\n",
       "    }\n",
       "\n",
       "    .dataframe thead th {\n",
       "        text-align: right;\n",
       "    }\n",
       "</style>\n",
       "<table border=\"1\" class=\"dataframe\">\n",
       "  <thead>\n",
       "    <tr style=\"text-align: right;\">\n",
       "      <th></th>\n",
       "      <th>anime_id</th>\n",
       "      <th>Name</th>\n",
       "      <th>Genres</th>\n",
       "      <th>sypnopsis</th>\n",
       "    </tr>\n",
       "  </thead>\n",
       "  <tbody>\n",
       "    <tr>\n",
       "      <th>0</th>\n",
       "      <td>1</td>\n",
       "      <td>Cowboy Bebop</td>\n",
       "      <td>Action, Adventure, Comedy, Drama, Sci-Fi, Space</td>\n",
       "      <td>In the year 2071, humanity has colonized sever...</td>\n",
       "    </tr>\n",
       "    <tr>\n",
       "      <th>1</th>\n",
       "      <td>5</td>\n",
       "      <td>Cowboy Bebop: Tengoku no Tobira</td>\n",
       "      <td>Action, Drama, Mystery, Sci-Fi, Space</td>\n",
       "      <td>other day, another bounty—such is the life of ...</td>\n",
       "    </tr>\n",
       "    <tr>\n",
       "      <th>2</th>\n",
       "      <td>6</td>\n",
       "      <td>Trigun</td>\n",
       "      <td>Action, Sci-Fi, Adventure, Comedy, Drama, Shounen</td>\n",
       "      <td>Vash the Stampede is the man with a $$60,000,0...</td>\n",
       "    </tr>\n",
       "    <tr>\n",
       "      <th>3</th>\n",
       "      <td>7</td>\n",
       "      <td>Witch Hunter Robin</td>\n",
       "      <td>Action, Mystery, Police, Supernatural, Drama, ...</td>\n",
       "      <td>ches are individuals with special powers like ...</td>\n",
       "    </tr>\n",
       "    <tr>\n",
       "      <th>4</th>\n",
       "      <td>8</td>\n",
       "      <td>Bouken Ou Beet</td>\n",
       "      <td>Adventure, Fantasy, Shounen, Supernatural</td>\n",
       "      <td>It is the dark century and the people are suff...</td>\n",
       "    </tr>\n",
       "  </tbody>\n",
       "</table>\n",
       "</div>"
      ],
      "text/plain": [
       "   anime_id                             Name  \\\n",
       "0         1                     Cowboy Bebop   \n",
       "1         5  Cowboy Bebop: Tengoku no Tobira   \n",
       "2         6                           Trigun   \n",
       "3         7               Witch Hunter Robin   \n",
       "4         8                   Bouken Ou Beet   \n",
       "\n",
       "                                              Genres  \\\n",
       "0    Action, Adventure, Comedy, Drama, Sci-Fi, Space   \n",
       "1              Action, Drama, Mystery, Sci-Fi, Space   \n",
       "2  Action, Sci-Fi, Adventure, Comedy, Drama, Shounen   \n",
       "3  Action, Mystery, Police, Supernatural, Drama, ...   \n",
       "4          Adventure, Fantasy, Shounen, Supernatural   \n",
       "\n",
       "                                           sypnopsis  \n",
       "0  In the year 2071, humanity has colonized sever...  \n",
       "1  other day, another bounty—such is the life of ...  \n",
       "2  Vash the Stampede is the man with a $$60,000,0...  \n",
       "3  ches are individuals with special powers like ...  \n",
       "4  It is the dark century and the people are suff...  "
      ]
     },
     "execution_count": 21,
     "metadata": {},
     "output_type": "execute_result"
    }
   ],
   "source": [
    "INPUT_DIR = './data'\n",
    "\n",
    "animes_genres_df = pd.read_csv(\n",
    "    INPUT_DIR + '/anime_with_synopsis.csv', \n",
    "    low_memory=False, \n",
    "    usecols=[\"MAL_ID\", \"Name\", \"Genres\", \"sypnopsis\"]\n",
    ")\n",
    "animes_genres_df.rename({\"MAL_ID\": \"anime_id\"}, inplace=True, axis=1)\n",
    "\n",
    "anime_num = len(animes_genres_df[\"anime_id\"].unique())\n",
    "print(f\"Number of anime's types: {anime_num}\")\n",
    "\n",
    "genre_seperate = animes_genres_df[\"Genres\"].str.split(pat=\",\", expand=True)\n",
    "genre_series = pd.concat([genre_seperate[col] for col in genre_seperate.columns])\n",
    "genre_set = set([item.strip() for item in genre_series.unique().tolist() if item is not None])\n",
    "print(f\"Set of genres: {genre_set}\")\n",
    "genre_num = len(genre_set)\n",
    "print(f\"Number of genre: {genre_num}\")\n",
    "\n",
    "genre2genre_idx = {x: i for i, x in enumerate(genre_set)}\n",
    "genre_idx2genre = {i: x for i, x in enumerate(genre_set)}\n",
    "\n",
    "animes_genres_df.head(5)"
   ]
  },
  {
   "cell_type": "markdown",
   "metadata": {},
   "source": [
    "user_id with its corresponding index"
   ]
  },
  {
   "cell_type": "code",
   "execution_count": 22,
   "metadata": {},
   "outputs": [],
   "source": [
    "import pickle\n",
    "\n",
    "INPUT_DIR = './data'\n",
    "\n",
    "with open(INPUT_DIR + \"/user_with_vector_dict.pickle\", 'rb') as f:\n",
    "    user_with_vector_dict = pickle.load(f)"
   ]
  },
  {
   "cell_type": "code",
   "execution_count": 23,
   "metadata": {},
   "outputs": [],
   "source": [
    "user_id2user_id_idx = {x: i for i, x in enumerate(user_with_vector_dict['user_id'])}\n",
    "user_id_idx2user_id = {i: x for i, x in enumerate(user_with_vector_dict['user_id'])}"
   ]
  },
  {
   "cell_type": "markdown",
   "metadata": {},
   "source": [
    "user feature matrix"
   ]
  },
  {
   "cell_type": "code",
   "execution_count": 24,
   "metadata": {},
   "outputs": [],
   "source": [
    "user_feature_matrix = np.vstack(user_with_vector_dict['genre_vector'])"
   ]
  },
  {
   "cell_type": "markdown",
   "metadata": {},
   "source": [
    "# User feature mapping"
   ]
  },
  {
   "cell_type": "markdown",
   "metadata": {},
   "source": [
    "generate input feature"
   ]
  },
  {
   "cell_type": "code",
   "execution_count": 25,
   "metadata": {},
   "outputs": [
    {
     "name": "stdout",
     "output_type": "stream",
     "text": [
      "18\n",
      "9\n",
      "5\n"
     ]
    }
   ],
   "source": [
    "input_feature = {\"Romance\": 4, \"School\": 4, \"Super Power\": 2}\n",
    "input_feature_np = np.zeros((genre_num), dtype=float)\n",
    "for genre, score in input_feature.items():\n",
    "    print(genre2genre_idx[genre])\n",
    "    input_feature_np[genre2genre_idx[genre]] = score"
   ]
  },
  {
   "cell_type": "code",
   "execution_count": 26,
   "metadata": {},
   "outputs": [
    {
     "name": "stdout",
     "output_type": "stream",
     "text": [
      "Most similar user_id: 27413\n"
     ]
    }
   ],
   "source": [
    "most_similar_user_id = user_id_idx2user_id[np.argmax(np.inner(user_feature_matrix, input_feature_np))]\n",
    "print(f\"Most similar user_id: {most_similar_user_id}\")"
   ]
  },
  {
   "cell_type": "markdown",
   "metadata": {},
   "source": [
    "# Model predict"
   ]
  },
  {
   "cell_type": "markdown",
   "metadata": {},
   "source": [
    "load encoder config"
   ]
  },
  {
   "cell_type": "code",
   "execution_count": 27,
   "metadata": {},
   "outputs": [
    {
     "name": "stdout",
     "output_type": "stream",
     "text": [
      "['user2user_encoded', 'user_encoded2user', 'anime2anime_encoded', 'anime_encoded2anime']\n"
     ]
    }
   ],
   "source": [
    "import json\n",
    "\n",
    "INPUT_DIR = './model'\n",
    "\n",
    "with open(INPUT_DIR + \"/encode_config.json\") as f:\n",
    "    encoder_conig = json.load(f)\n",
    "\n",
    "print(list(encoder_conig.keys()))"
   ]
  },
  {
   "cell_type": "code",
   "execution_count": 28,
   "metadata": {},
   "outputs": [
    {
     "name": "stdout",
     "output_type": "stream",
     "text": [
      "Num of users: 2463, Num of animes: 15749\n"
     ]
    }
   ],
   "source": [
    "user2user_encoded = encoder_conig['user2user_encoded']\n",
    "user_encoded2user = encoder_conig['user_encoded2user']\n",
    "anime2anime_encoded = encoder_conig['anime2anime_encoded']\n",
    "anime_encoded2anime = encoder_conig['anime_encoded2anime']\n",
    "\n",
    "n_users = len(user2user_encoded)\n",
    "n_animes = len(anime2anime_encoded)\n",
    "\n",
    "field_dims = [n_users, n_animes]\n",
    "\n",
    "print(\"Num of users: {}, Num of animes: {}\".format(n_users, n_animes))"
   ]
  },
  {
   "cell_type": "markdown",
   "metadata": {},
   "source": [
    "Import the model"
   ]
  },
  {
   "cell_type": "code",
   "execution_count": 29,
   "metadata": {},
   "outputs": [
    {
     "data": {
      "text/plain": [
       "FactorizationMachineModel(\n",
       "  (embedding): FeaturesEmbedding(\n",
       "    (embedding): Embedding(18212, 32)\n",
       "  )\n",
       "  (linear): FeaturesLinear(\n",
       "    (fc): Embedding(18212, 1)\n",
       "  )\n",
       "  (fm): FactorizationMachine()\n",
       ")"
      ]
     },
     "execution_count": 29,
     "metadata": {},
     "output_type": "execute_result"
    }
   ],
   "source": [
    "import torch\n",
    "from recanime.recommender.ranking_base_filter.model import FactorizationMachineModel\n",
    "\n",
    "model = FactorizationMachineModel(\n",
    "    field_dims=field_dims,\n",
    "    embed_dim=32\n",
    ")\n",
    "\n",
    "model.load_state_dict(torch.load(INPUT_DIR + \"/model_state_dict.pt\"))\n",
    "model.eval()"
   ]
  },
  {
   "cell_type": "markdown",
   "metadata": {},
   "source": [
    "Prefilter the animes by select the anime has the highest score feature."
   ]
  },
  {
   "cell_type": "code",
   "execution_count": 14,
   "metadata": {},
   "outputs": [],
   "source": [
    "# hightest_genre = sorted(input_feature.items(), key=lambda x: x[1], reverse=True)[0][0]\n",
    "# prefilter_animes_df = animes_genres_df[['anime_id', 'Genres']].copy(deep=True)\n",
    "# prefilter_animes_df['Genres'] = prefilter_animes_df['Genres'].str.split(pat=\",\", expand=False)\n",
    "# prefilter_animes_df['Genres'] = prefilter_animes_df['Genres'].apply(lambda x: np.nan if hightest_genre not in x else x)\n",
    "# prefilter_animes_df.dropna(inplace=True)\n",
    "\n",
    "# prefilter_animes_df.head(5)"
   ]
  },
  {
   "cell_type": "markdown",
   "metadata": {},
   "source": [
    "Select the animes with certain genre"
   ]
  },
  {
   "cell_type": "code",
   "execution_count": 30,
   "metadata": {},
   "outputs": [
    {
     "data": {
      "text/html": [
       "<div>\n",
       "<style scoped>\n",
       "    .dataframe tbody tr th:only-of-type {\n",
       "        vertical-align: middle;\n",
       "    }\n",
       "\n",
       "    .dataframe tbody tr th {\n",
       "        vertical-align: top;\n",
       "    }\n",
       "\n",
       "    .dataframe thead th {\n",
       "        text-align: right;\n",
       "    }\n",
       "</style>\n",
       "<table border=\"1\" class=\"dataframe\">\n",
       "  <thead>\n",
       "    <tr style=\"text-align: right;\">\n",
       "      <th></th>\n",
       "      <th>anime_id</th>\n",
       "      <th>Genres</th>\n",
       "    </tr>\n",
       "  </thead>\n",
       "  <tbody>\n",
       "    <tr>\n",
       "      <th>6</th>\n",
       "      <td>16</td>\n",
       "      <td>[Comedy, Drama, Josei, Romance, Slice of Life]</td>\n",
       "    </tr>\n",
       "    <tr>\n",
       "      <th>10</th>\n",
       "      <td>20</td>\n",
       "      <td>[Action, Adventure, Comedy, Super Power, Marti...</td>\n",
       "    </tr>\n",
       "    <tr>\n",
       "      <th>11</th>\n",
       "      <td>21</td>\n",
       "      <td>[Action, Adventure, Comedy, Super Power, Drama...</td>\n",
       "    </tr>\n",
       "    <tr>\n",
       "      <th>12</th>\n",
       "      <td>22</td>\n",
       "      <td>[Action, Comedy, Sports, School, Shounen]</td>\n",
       "    </tr>\n",
       "    <tr>\n",
       "      <th>14</th>\n",
       "      <td>24</td>\n",
       "      <td>[Comedy, Romance, School, Shounen]</td>\n",
       "    </tr>\n",
       "  </tbody>\n",
       "</table>\n",
       "</div>"
      ],
      "text/plain": [
       "    anime_id                                             Genres\n",
       "6         16     [Comedy, Drama, Josei, Romance, Slice of Life]\n",
       "10        20  [Action, Adventure, Comedy, Super Power, Marti...\n",
       "11        21  [Action, Adventure, Comedy, Super Power, Drama...\n",
       "12        22          [Action, Comedy, Sports, School, Shounen]\n",
       "14        24                 [Comedy, Romance, School, Shounen]"
      ]
     },
     "execution_count": 30,
     "metadata": {},
     "output_type": "execute_result"
    }
   ],
   "source": [
    "select_genre = set(input_feature.keys())\n",
    "prefilter_animes_df = animes_genres_df[['anime_id', 'Genres']].copy(deep=True)\n",
    "prefilter_animes_df['Genres'] = prefilter_animes_df['Genres'].str.split(pat=\",\", expand=False)\n",
    "prefilter_animes_df['Genres'] = prefilter_animes_df['Genres'].apply(lambda genres: [genre.strip() for genre in genres])\n",
    "prefilter_animes_df['Genres'] = prefilter_animes_df['Genres'].apply(lambda x: np.nan if len(select_genre&set(x)) == 0 else x)\n",
    "prefilter_animes_df.dropna(inplace=True)\n",
    "\n",
    "prefilter_animes_df.head(5)"
   ]
  },
  {
   "cell_type": "code",
   "execution_count": 31,
   "metadata": {},
   "outputs": [],
   "source": [
    "prefilter_animes_dict = prefilter_animes_df.to_dict(orient='list')\n",
    "prefilter_anime_id_list = prefilter_animes_dict['anime_id']\n",
    "\n",
    "prefilter_anime_id_encode_list = []\n",
    "anime_arg_id2_anime_id =  []\n",
    "for anime_id in prefilter_anime_id_list:\n",
    "    try:\n",
    "        prefilter_anime_id_encode_list.append(anime2anime_encoded[str(anime_id)])\n",
    "        anime_arg_id2_anime_id.append(anime_id)\n",
    "    except:\n",
    "        pass"
   ]
  },
  {
   "cell_type": "markdown",
   "metadata": {},
   "source": [
    "load the data"
   ]
  },
  {
   "cell_type": "code",
   "execution_count": 32,
   "metadata": {},
   "outputs": [],
   "source": [
    "most_similar_user_id_encode = user2user_encoded[str(most_similar_user_id)]\n",
    "user_id_with_all_anime = [[most_similar_user_id_encode, anime_id_encode] for anime_id_encode in prefilter_anime_id_encode_list]\n",
    "user_id_with_all_anime_t = torch.tensor(user_id_with_all_anime)"
   ]
  },
  {
   "cell_type": "code",
   "execution_count": 33,
   "metadata": {},
   "outputs": [],
   "source": [
    "top_n_recommend = 10\n",
    "\n",
    "output = model(user_id_with_all_anime_t)\n",
    "output = output.squeeze()\n",
    "sort_asc_score, sort_asc_score_idx = output.sort(descending=True)\n",
    "sort_asc_score = sort_asc_score[:top_n_recommend].tolist()\n",
    "sort_asc_score_idx = sort_asc_score_idx[:top_n_recommend].tolist()"
   ]
  },
  {
   "cell_type": "code",
   "execution_count": 34,
   "metadata": {},
   "outputs": [],
   "source": [
    "top_n_anime_id = []\n",
    "for idx in sort_asc_score_idx:\n",
    "    top_n_anime_id.append(anime_arg_id2_anime_id[idx])\n",
    "    \n",
    "anime_id_with_score = pd.DataFrame({\"anime_id\": top_n_anime_id, \"predict_score\": sort_asc_score})"
   ]
  },
  {
   "cell_type": "markdown",
   "metadata": {},
   "source": [
    "# Recommend Result (For input_feature = {\"Romance\": 4, \"School\": 4, \"Super Power\": 2})"
   ]
  },
  {
   "cell_type": "code",
   "execution_count": 35,
   "metadata": {},
   "outputs": [
    {
     "data": {
      "text/html": [
       "<div>\n",
       "<style scoped>\n",
       "    .dataframe tbody tr th:only-of-type {\n",
       "        vertical-align: middle;\n",
       "    }\n",
       "\n",
       "    .dataframe tbody tr th {\n",
       "        vertical-align: top;\n",
       "    }\n",
       "\n",
       "    .dataframe thead th {\n",
       "        text-align: right;\n",
       "    }\n",
       "</style>\n",
       "<table border=\"1\" class=\"dataframe\">\n",
       "  <thead>\n",
       "    <tr style=\"text-align: right;\">\n",
       "      <th></th>\n",
       "      <th>anime_id</th>\n",
       "      <th>predict_score</th>\n",
       "      <th>Name</th>\n",
       "      <th>Genres</th>\n",
       "      <th>sypnopsis</th>\n",
       "    </tr>\n",
       "  </thead>\n",
       "  <tbody>\n",
       "    <tr>\n",
       "      <th>0</th>\n",
       "      <td>30276</td>\n",
       "      <td>0.910624</td>\n",
       "      <td>One Punch Man</td>\n",
       "      <td>Action, Sci-Fi, Comedy, Parody, Super Power, S...</td>\n",
       "      <td>The seemingly ordinary and unimpressive Saitam...</td>\n",
       "    </tr>\n",
       "    <tr>\n",
       "      <th>1</th>\n",
       "      <td>4224</td>\n",
       "      <td>0.907217</td>\n",
       "      <td>Toradora!</td>\n",
       "      <td>Slice of Life, Comedy, Romance, School</td>\n",
       "      <td>uuji Takasu is a gentle high school student wi...</td>\n",
       "    </tr>\n",
       "    <tr>\n",
       "      <th>2</th>\n",
       "      <td>5081</td>\n",
       "      <td>0.903895</td>\n",
       "      <td>Bakemonogatari</td>\n",
       "      <td>Romance, Supernatural, Mystery, Vampire</td>\n",
       "      <td>Koyomi Araragi, a third-year high school stude...</td>\n",
       "    </tr>\n",
       "    <tr>\n",
       "      <th>3</th>\n",
       "      <td>2904</td>\n",
       "      <td>0.897971</td>\n",
       "      <td>Code Geass: Hangyaku no Lelouch R2</td>\n",
       "      <td>Action, Military, Sci-Fi, Super Power, Drama, ...</td>\n",
       "      <td>One year has passed since the Black Rebellion,...</td>\n",
       "    </tr>\n",
       "    <tr>\n",
       "      <th>4</th>\n",
       "      <td>16498</td>\n",
       "      <td>0.892058</td>\n",
       "      <td>Shingeki no Kyojin</td>\n",
       "      <td>Action, Military, Mystery, Super Power, Drama,...</td>\n",
       "      <td>Centuries ago, mankind was slaughtered to near...</td>\n",
       "    </tr>\n",
       "    <tr>\n",
       "      <th>5</th>\n",
       "      <td>6547</td>\n",
       "      <td>0.889648</td>\n",
       "      <td>Angel Beats!</td>\n",
       "      <td>Action, Comedy, Drama, School, Supernatural</td>\n",
       "      <td>Otonashi awakens only to learn he is dead. A r...</td>\n",
       "    </tr>\n",
       "    <tr>\n",
       "      <th>6</th>\n",
       "      <td>15809</td>\n",
       "      <td>0.886228</td>\n",
       "      <td>Hataraku Maou-sama!</td>\n",
       "      <td>Comedy, Demons, Supernatural, Romance, Fantasy</td>\n",
       "      <td>Striking fear into the hearts of mortals, the ...</td>\n",
       "    </tr>\n",
       "    <tr>\n",
       "      <th>7</th>\n",
       "      <td>1575</td>\n",
       "      <td>0.882840</td>\n",
       "      <td>Code Geass: Hangyaku no Lelouch</td>\n",
       "      <td>Action, Military, Sci-Fi, Super Power, Drama, ...</td>\n",
       "      <td>In the year 2010, the Holy Empire of Britannia...</td>\n",
       "    </tr>\n",
       "    <tr>\n",
       "      <th>8</th>\n",
       "      <td>4282</td>\n",
       "      <td>0.873331</td>\n",
       "      <td>Kara no Kyoukai 5: Mujun Rasen</td>\n",
       "      <td>Action, Mystery, Supernatural, Drama, Romance,...</td>\n",
       "      <td>In November 1998, a double homicide occurs at ...</td>\n",
       "    </tr>\n",
       "    <tr>\n",
       "      <th>9</th>\n",
       "      <td>28171</td>\n",
       "      <td>0.871553</td>\n",
       "      <td>Shokugeki no Souma</td>\n",
       "      <td>Ecchi, School, Shounen</td>\n",
       "      <td>Ever since he was a child, fifteen-year-old So...</td>\n",
       "    </tr>\n",
       "  </tbody>\n",
       "</table>\n",
       "</div>"
      ],
      "text/plain": [
       "   anime_id  predict_score                                Name  \\\n",
       "0     30276       0.910624                       One Punch Man   \n",
       "1      4224       0.907217                           Toradora!   \n",
       "2      5081       0.903895                      Bakemonogatari   \n",
       "3      2904       0.897971  Code Geass: Hangyaku no Lelouch R2   \n",
       "4     16498       0.892058                  Shingeki no Kyojin   \n",
       "5      6547       0.889648                        Angel Beats!   \n",
       "6     15809       0.886228                 Hataraku Maou-sama!   \n",
       "7      1575       0.882840     Code Geass: Hangyaku no Lelouch   \n",
       "8      4282       0.873331      Kara no Kyoukai 5: Mujun Rasen   \n",
       "9     28171       0.871553                  Shokugeki no Souma   \n",
       "\n",
       "                                              Genres  \\\n",
       "0  Action, Sci-Fi, Comedy, Parody, Super Power, S...   \n",
       "1             Slice of Life, Comedy, Romance, School   \n",
       "2            Romance, Supernatural, Mystery, Vampire   \n",
       "3  Action, Military, Sci-Fi, Super Power, Drama, ...   \n",
       "4  Action, Military, Mystery, Super Power, Drama,...   \n",
       "5        Action, Comedy, Drama, School, Supernatural   \n",
       "6     Comedy, Demons, Supernatural, Romance, Fantasy   \n",
       "7  Action, Military, Sci-Fi, Super Power, Drama, ...   \n",
       "8  Action, Mystery, Supernatural, Drama, Romance,...   \n",
       "9                             Ecchi, School, Shounen   \n",
       "\n",
       "                                           sypnopsis  \n",
       "0  The seemingly ordinary and unimpressive Saitam...  \n",
       "1  uuji Takasu is a gentle high school student wi...  \n",
       "2  Koyomi Araragi, a third-year high school stude...  \n",
       "3  One year has passed since the Black Rebellion,...  \n",
       "4  Centuries ago, mankind was slaughtered to near...  \n",
       "5  Otonashi awakens only to learn he is dead. A r...  \n",
       "6  Striking fear into the hearts of mortals, the ...  \n",
       "7  In the year 2010, the Holy Empire of Britannia...  \n",
       "8  In November 1998, a double homicide occurs at ...  \n",
       "9  Ever since he was a child, fifteen-year-old So...  "
      ]
     },
     "execution_count": 35,
     "metadata": {},
     "output_type": "execute_result"
    }
   ],
   "source": [
    "show_result_df = pd.merge(anime_id_with_score, animes_genres_df, how=\"inner\", on=\"anime_id\").sort_values(by=[\"predict_score\"], ascending=False)\n",
    "show_result_df"
   ]
  }
 ],
 "metadata": {
  "kernelspec": {
   "display_name": "Python 3.8.13 ('ml')",
   "language": "python",
   "name": "python3"
  },
  "language_info": {
   "codemirror_mode": {
    "name": "ipython",
    "version": 3
   },
   "file_extension": ".py",
   "mimetype": "text/x-python",
   "name": "python",
   "nbconvert_exporter": "python",
   "pygments_lexer": "ipython3",
   "version": "3.8.13"
  },
  "orig_nbformat": 4,
  "vscode": {
   "interpreter": {
    "hash": "cb2a16ad5343214987ec83273b09d3ac2f528968793a43e301f018a7f4736060"
   }
  }
 },
 "nbformat": 4,
 "nbformat_minor": 2
}
