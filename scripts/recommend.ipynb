{
 "cells": [
  {
   "cell_type": "markdown",
   "metadata": {},
   "source": [
    "# **The Genres of animes**"
   ]
  },
  {
   "cell_type": "code",
   "execution_count": 1,
   "metadata": {},
   "outputs": [
    {
     "name": "stdout",
     "output_type": "stream",
     "text": [
      "/mnt/c/Users/Yoshi/source/repos/Sideprojects/Anime_Recommender_system\n"
     ]
    }
   ],
   "source": [
    "%cd .."
   ]
  },
  {
   "cell_type": "markdown",
   "metadata": {},
   "source": [
    "# Load the library"
   ]
  },
  {
   "cell_type": "code",
   "execution_count": 2,
   "metadata": {},
   "outputs": [],
   "source": [
    "import numpy as np\n",
    "import pandas as pd"
   ]
  },
  {
   "cell_type": "markdown",
   "metadata": {},
   "source": [
    "# load the anime data with its genre."
   ]
  },
  {
   "cell_type": "code",
   "execution_count": 3,
   "metadata": {},
   "outputs": [
    {
     "name": "stdout",
     "output_type": "stream",
     "text": [
      "Number of anime's types: 16214\n",
      "Set of genres: ['Action', 'Adventure', 'Cars', 'Comedy', 'Dementia', 'Demons', 'Drama', 'Ecchi', 'Fantasy', 'Game', 'Harem', 'Historical', 'Horror', 'Josei', 'Kids', 'Magic', 'Martial Arts', 'Mecha', 'Military', 'Music', 'Mystery', 'Parody', 'Police', 'Psychological', 'Romance', 'Samurai', 'School', 'Sci-Fi', 'Seinen', 'Shoujo', 'Shoujo Ai', 'Shounen', 'Shounen Ai', 'Slice of Life', 'Space', 'Sports', 'Super Power', 'Supernatural', 'Thriller', 'Unknown', 'Vampire', 'Yaoi']\n",
      "Number of genre: 42\n"
     ]
    },
    {
     "data": {
      "text/html": [
       "<div>\n",
       "<style scoped>\n",
       "    .dataframe tbody tr th:only-of-type {\n",
       "        vertical-align: middle;\n",
       "    }\n",
       "\n",
       "    .dataframe tbody tr th {\n",
       "        vertical-align: top;\n",
       "    }\n",
       "\n",
       "    .dataframe thead th {\n",
       "        text-align: right;\n",
       "    }\n",
       "</style>\n",
       "<table border=\"1\" class=\"dataframe\">\n",
       "  <thead>\n",
       "    <tr style=\"text-align: right;\">\n",
       "      <th></th>\n",
       "      <th>anime_id</th>\n",
       "      <th>Name</th>\n",
       "      <th>Genres</th>\n",
       "      <th>synopsis</th>\n",
       "    </tr>\n",
       "  </thead>\n",
       "  <tbody>\n",
       "    <tr>\n",
       "      <th>0</th>\n",
       "      <td>1</td>\n",
       "      <td>Cowboy Bebop</td>\n",
       "      <td>Action, Adventure, Comedy, Drama, Sci-Fi, Space</td>\n",
       "      <td>In the year 2071, humanity has colonized sever...</td>\n",
       "    </tr>\n",
       "    <tr>\n",
       "      <th>1</th>\n",
       "      <td>1</td>\n",
       "      <td>Cowboy Bebop</td>\n",
       "      <td>Action, Adventure, Comedy, Drama, Sci-Fi, Space</td>\n",
       "      <td>In the year 2071, humanity has colonized sever...</td>\n",
       "    </tr>\n",
       "    <tr>\n",
       "      <th>2</th>\n",
       "      <td>5</td>\n",
       "      <td>Cowboy Bebop: Tengoku no Tobira</td>\n",
       "      <td>Action, Drama, Mystery, Sci-Fi, Space</td>\n",
       "      <td>other day, another bounty—such is the life of ...</td>\n",
       "    </tr>\n",
       "    <tr>\n",
       "      <th>3</th>\n",
       "      <td>6</td>\n",
       "      <td>Trigun</td>\n",
       "      <td>Action, Sci-Fi, Adventure, Comedy, Drama, Shounen</td>\n",
       "      <td>Vash the Stampede is the man with a $$60,000,0...</td>\n",
       "    </tr>\n",
       "    <tr>\n",
       "      <th>4</th>\n",
       "      <td>7</td>\n",
       "      <td>Witch Hunter Robin</td>\n",
       "      <td>Action, Mystery, Police, Supernatural, Drama, ...</td>\n",
       "      <td>ches are individuals with special powers like ...</td>\n",
       "    </tr>\n",
       "  </tbody>\n",
       "</table>\n",
       "</div>"
      ],
      "text/plain": [
       "   anime_id                             Name  \\\n",
       "0         1                     Cowboy Bebop   \n",
       "1         1                     Cowboy Bebop   \n",
       "2         5  Cowboy Bebop: Tengoku no Tobira   \n",
       "3         6                           Trigun   \n",
       "4         7               Witch Hunter Robin   \n",
       "\n",
       "                                              Genres  \\\n",
       "0    Action, Adventure, Comedy, Drama, Sci-Fi, Space   \n",
       "1    Action, Adventure, Comedy, Drama, Sci-Fi, Space   \n",
       "2              Action, Drama, Mystery, Sci-Fi, Space   \n",
       "3  Action, Sci-Fi, Adventure, Comedy, Drama, Shounen   \n",
       "4  Action, Mystery, Police, Supernatural, Drama, ...   \n",
       "\n",
       "                                            synopsis  \n",
       "0  In the year 2071, humanity has colonized sever...  \n",
       "1  In the year 2071, humanity has colonized sever...  \n",
       "2  other day, another bounty—such is the life of ...  \n",
       "3  Vash the Stampede is the man with a $$60,000,0...  \n",
       "4  ches are individuals with special powers like ...  "
      ]
     },
     "execution_count": 3,
     "metadata": {},
     "output_type": "execute_result"
    }
   ],
   "source": [
    "INPUT_DIR = './data'\n",
    "\n",
    "animes_genres_df = pd.read_csv(\n",
    "    INPUT_DIR + '/anime_with_synopsis.csv', \n",
    "    low_memory=False, \n",
    "    usecols=[\"MAL_ID\", \"Name\", \"Genres\", \"synopsis\"]\n",
    ")\n",
    "animes_genres_df.rename({\"MAL_ID\": \"anime_id\"}, inplace=True, axis=1)\n",
    "\n",
    "anime_num = len(animes_genres_df[\"anime_id\"].unique())\n",
    "print(f\"Number of anime's types: {anime_num}\")\n",
    "\n",
    "genre_seperate = animes_genres_df[\"Genres\"].str.split(pat=\",\", expand=True)\n",
    "genre_series = pd.concat([genre_seperate[col] for col in genre_seperate.columns])\n",
    "genre_unique = list(set([item.strip() for item in genre_series.unique().tolist() if item is not None]))\n",
    "genre_unique.sort()\n",
    "print(f\"Set of genres: {genre_unique}\")\n",
    "genre_num = len(genre_unique)\n",
    "print(f\"Number of genre: {genre_num}\")\n",
    "\n",
    "animes_genres_df.head(5)"
   ]
  },
  {
   "cell_type": "code",
   "execution_count": 4,
   "metadata": {},
   "outputs": [],
   "source": [
    "genre2genre_idx = {x: i for i, x in enumerate(genre_unique)}\n",
    "genre_idx2genre = {i: x for i, x in enumerate(genre_unique)}"
   ]
  },
  {
   "cell_type": "markdown",
   "metadata": {},
   "source": [
    "# load the preprocessed user data with anime rating."
   ]
  },
  {
   "cell_type": "code",
   "execution_count": 5,
   "metadata": {},
   "outputs": [
    {
     "data": {
      "text/html": [
       "<div>\n",
       "<style scoped>\n",
       "    .dataframe tbody tr th:only-of-type {\n",
       "        vertical-align: middle;\n",
       "    }\n",
       "\n",
       "    .dataframe tbody tr th {\n",
       "        vertical-align: top;\n",
       "    }\n",
       "\n",
       "    .dataframe thead th {\n",
       "        text-align: right;\n",
       "    }\n",
       "</style>\n",
       "<table border=\"1\" class=\"dataframe\">\n",
       "  <thead>\n",
       "    <tr style=\"text-align: right;\">\n",
       "      <th></th>\n",
       "      <th>user_id</th>\n",
       "      <th>anime_id</th>\n",
       "      <th>rating</th>\n",
       "    </tr>\n",
       "  </thead>\n",
       "  <tbody>\n",
       "    <tr>\n",
       "      <th>0</th>\n",
       "      <td>278536</td>\n",
       "      <td>31845</td>\n",
       "      <td>0.9</td>\n",
       "    </tr>\n",
       "    <tr>\n",
       "      <th>1</th>\n",
       "      <td>56255</td>\n",
       "      <td>24919</td>\n",
       "      <td>0.0</td>\n",
       "    </tr>\n",
       "    <tr>\n",
       "      <th>2</th>\n",
       "      <td>54171</td>\n",
       "      <td>2386</td>\n",
       "      <td>0.6</td>\n",
       "    </tr>\n",
       "    <tr>\n",
       "      <th>3</th>\n",
       "      <td>292408</td>\n",
       "      <td>5028</td>\n",
       "      <td>0.7</td>\n",
       "    </tr>\n",
       "    <tr>\n",
       "      <th>4</th>\n",
       "      <td>334396</td>\n",
       "      <td>30243</td>\n",
       "      <td>0.4</td>\n",
       "    </tr>\n",
       "  </tbody>\n",
       "</table>\n",
       "</div>"
      ],
      "text/plain": [
       "   user_id  anime_id  rating\n",
       "0   278536     31845     0.9\n",
       "1    56255     24919     0.0\n",
       "2    54171      2386     0.6\n",
       "3   292408      5028     0.7\n",
       "4   334396     30243     0.4"
      ]
     },
     "execution_count": 5,
     "metadata": {},
     "output_type": "execute_result"
    }
   ],
   "source": [
    "rating_df = pd.read_csv(INPUT_DIR + '/preprocessed_animelist.csv', \n",
    "                        low_memory=False, \n",
    "                        usecols=[\"user_id\", \"anime_id\", \"rating\"]\n",
    "                        )\n",
    "\n",
    "rating_df.head(5)"
   ]
  },
  {
   "cell_type": "markdown",
   "metadata": {},
   "source": [
    "# Join two different table"
   ]
  },
  {
   "cell_type": "code",
   "execution_count": 6,
   "metadata": {},
   "outputs": [
    {
     "data": {
      "text/html": [
       "<div>\n",
       "<style scoped>\n",
       "    .dataframe tbody tr th:only-of-type {\n",
       "        vertical-align: middle;\n",
       "    }\n",
       "\n",
       "    .dataframe tbody tr th {\n",
       "        vertical-align: top;\n",
       "    }\n",
       "\n",
       "    .dataframe thead th {\n",
       "        text-align: right;\n",
       "    }\n",
       "</style>\n",
       "<table border=\"1\" class=\"dataframe\">\n",
       "  <thead>\n",
       "    <tr style=\"text-align: right;\">\n",
       "      <th></th>\n",
       "      <th>user_id</th>\n",
       "      <th>anime_id</th>\n",
       "      <th>rating</th>\n",
       "      <th>Name</th>\n",
       "      <th>Genres</th>\n",
       "      <th>synopsis</th>\n",
       "    </tr>\n",
       "  </thead>\n",
       "  <tbody>\n",
       "    <tr>\n",
       "      <th>0</th>\n",
       "      <td>278536</td>\n",
       "      <td>31845</td>\n",
       "      <td>0.9</td>\n",
       "      <td>Masou Gakuen HxH</td>\n",
       "      <td>Action, Sci-Fi, Harem, Comedy, Romance, Ecchi,...</td>\n",
       "      <td>Hida Kizuna possesses the HHG (Heart Hybrid Ge...</td>\n",
       "    </tr>\n",
       "    <tr>\n",
       "      <th>1</th>\n",
       "      <td>240056</td>\n",
       "      <td>31845</td>\n",
       "      <td>0.3</td>\n",
       "      <td>Masou Gakuen HxH</td>\n",
       "      <td>Action, Sci-Fi, Harem, Comedy, Romance, Ecchi,...</td>\n",
       "      <td>Hida Kizuna possesses the HHG (Heart Hybrid Ge...</td>\n",
       "    </tr>\n",
       "    <tr>\n",
       "      <th>2</th>\n",
       "      <td>232230</td>\n",
       "      <td>31845</td>\n",
       "      <td>0.0</td>\n",
       "      <td>Masou Gakuen HxH</td>\n",
       "      <td>Action, Sci-Fi, Harem, Comedy, Romance, Ecchi,...</td>\n",
       "      <td>Hida Kizuna possesses the HHG (Heart Hybrid Ge...</td>\n",
       "    </tr>\n",
       "    <tr>\n",
       "      <th>3</th>\n",
       "      <td>436</td>\n",
       "      <td>31845</td>\n",
       "      <td>0.0</td>\n",
       "      <td>Masou Gakuen HxH</td>\n",
       "      <td>Action, Sci-Fi, Harem, Comedy, Romance, Ecchi,...</td>\n",
       "      <td>Hida Kizuna possesses the HHG (Heart Hybrid Ge...</td>\n",
       "    </tr>\n",
       "    <tr>\n",
       "      <th>4</th>\n",
       "      <td>39660</td>\n",
       "      <td>31845</td>\n",
       "      <td>0.7</td>\n",
       "      <td>Masou Gakuen HxH</td>\n",
       "      <td>Action, Sci-Fi, Harem, Comedy, Romance, Ecchi,...</td>\n",
       "      <td>Hida Kizuna possesses the HHG (Heart Hybrid Ge...</td>\n",
       "    </tr>\n",
       "  </tbody>\n",
       "</table>\n",
       "</div>"
      ],
      "text/plain": [
       "   user_id  anime_id  rating              Name  \\\n",
       "0   278536     31845     0.9  Masou Gakuen HxH   \n",
       "1   240056     31845     0.3  Masou Gakuen HxH   \n",
       "2   232230     31845     0.0  Masou Gakuen HxH   \n",
       "3      436     31845     0.0  Masou Gakuen HxH   \n",
       "4    39660     31845     0.7  Masou Gakuen HxH   \n",
       "\n",
       "                                              Genres  \\\n",
       "0  Action, Sci-Fi, Harem, Comedy, Romance, Ecchi,...   \n",
       "1  Action, Sci-Fi, Harem, Comedy, Romance, Ecchi,...   \n",
       "2  Action, Sci-Fi, Harem, Comedy, Romance, Ecchi,...   \n",
       "3  Action, Sci-Fi, Harem, Comedy, Romance, Ecchi,...   \n",
       "4  Action, Sci-Fi, Harem, Comedy, Romance, Ecchi,...   \n",
       "\n",
       "                                            synopsis  \n",
       "0  Hida Kizuna possesses the HHG (Heart Hybrid Ge...  \n",
       "1  Hida Kizuna possesses the HHG (Heart Hybrid Ge...  \n",
       "2  Hida Kizuna possesses the HHG (Heart Hybrid Ge...  \n",
       "3  Hida Kizuna possesses the HHG (Heart Hybrid Ge...  \n",
       "4  Hida Kizuna possesses the HHG (Heart Hybrid Ge...  "
      ]
     },
     "execution_count": 6,
     "metadata": {},
     "output_type": "execute_result"
    }
   ],
   "source": [
    "rating_with_genres_df = rating_df.merge(animes_genres_df, on=\"anime_id\", how=\"inner\")\n",
    "rating_with_genres_df.head(5)"
   ]
  },
  {
   "cell_type": "code",
   "execution_count": 7,
   "metadata": {},
   "outputs": [
    {
     "data": {
      "text/html": [
       "<div>\n",
       "<style scoped>\n",
       "    .dataframe tbody tr th:only-of-type {\n",
       "        vertical-align: middle;\n",
       "    }\n",
       "\n",
       "    .dataframe tbody tr th {\n",
       "        vertical-align: top;\n",
       "    }\n",
       "\n",
       "    .dataframe thead th {\n",
       "        text-align: right;\n",
       "    }\n",
       "</style>\n",
       "<table border=\"1\" class=\"dataframe\">\n",
       "  <thead>\n",
       "    <tr style=\"text-align: right;\">\n",
       "      <th></th>\n",
       "      <th>user_id</th>\n",
       "      <th>anime_id</th>\n",
       "      <th>rating</th>\n",
       "      <th>Name</th>\n",
       "      <th>Genres</th>\n",
       "      <th>synopsis</th>\n",
       "    </tr>\n",
       "  </thead>\n",
       "  <tbody>\n",
       "    <tr>\n",
       "      <th>0</th>\n",
       "      <td>278536</td>\n",
       "      <td>31845</td>\n",
       "      <td>0.9</td>\n",
       "      <td>Masou Gakuen HxH</td>\n",
       "      <td>[Action,  Sci-Fi,  Harem,  Comedy,  Romance,  ...</td>\n",
       "      <td>Hida Kizuna possesses the HHG (Heart Hybrid Ge...</td>\n",
       "    </tr>\n",
       "    <tr>\n",
       "      <th>1</th>\n",
       "      <td>240056</td>\n",
       "      <td>31845</td>\n",
       "      <td>0.3</td>\n",
       "      <td>Masou Gakuen HxH</td>\n",
       "      <td>[Action,  Sci-Fi,  Harem,  Comedy,  Romance,  ...</td>\n",
       "      <td>Hida Kizuna possesses the HHG (Heart Hybrid Ge...</td>\n",
       "    </tr>\n",
       "    <tr>\n",
       "      <th>2</th>\n",
       "      <td>232230</td>\n",
       "      <td>31845</td>\n",
       "      <td>0.0</td>\n",
       "      <td>Masou Gakuen HxH</td>\n",
       "      <td>[Action,  Sci-Fi,  Harem,  Comedy,  Romance,  ...</td>\n",
       "      <td>Hida Kizuna possesses the HHG (Heart Hybrid Ge...</td>\n",
       "    </tr>\n",
       "    <tr>\n",
       "      <th>3</th>\n",
       "      <td>436</td>\n",
       "      <td>31845</td>\n",
       "      <td>0.0</td>\n",
       "      <td>Masou Gakuen HxH</td>\n",
       "      <td>[Action,  Sci-Fi,  Harem,  Comedy,  Romance,  ...</td>\n",
       "      <td>Hida Kizuna possesses the HHG (Heart Hybrid Ge...</td>\n",
       "    </tr>\n",
       "    <tr>\n",
       "      <th>4</th>\n",
       "      <td>39660</td>\n",
       "      <td>31845</td>\n",
       "      <td>0.7</td>\n",
       "      <td>Masou Gakuen HxH</td>\n",
       "      <td>[Action,  Sci-Fi,  Harem,  Comedy,  Romance,  ...</td>\n",
       "      <td>Hida Kizuna possesses the HHG (Heart Hybrid Ge...</td>\n",
       "    </tr>\n",
       "  </tbody>\n",
       "</table>\n",
       "</div>"
      ],
      "text/plain": [
       "   user_id  anime_id  rating              Name  \\\n",
       "0   278536     31845     0.9  Masou Gakuen HxH   \n",
       "1   240056     31845     0.3  Masou Gakuen HxH   \n",
       "2   232230     31845     0.0  Masou Gakuen HxH   \n",
       "3      436     31845     0.0  Masou Gakuen HxH   \n",
       "4    39660     31845     0.7  Masou Gakuen HxH   \n",
       "\n",
       "                                              Genres  \\\n",
       "0  [Action,  Sci-Fi,  Harem,  Comedy,  Romance,  ...   \n",
       "1  [Action,  Sci-Fi,  Harem,  Comedy,  Romance,  ...   \n",
       "2  [Action,  Sci-Fi,  Harem,  Comedy,  Romance,  ...   \n",
       "3  [Action,  Sci-Fi,  Harem,  Comedy,  Romance,  ...   \n",
       "4  [Action,  Sci-Fi,  Harem,  Comedy,  Romance,  ...   \n",
       "\n",
       "                                            synopsis  \n",
       "0  Hida Kizuna possesses the HHG (Heart Hybrid Ge...  \n",
       "1  Hida Kizuna possesses the HHG (Heart Hybrid Ge...  \n",
       "2  Hida Kizuna possesses the HHG (Heart Hybrid Ge...  \n",
       "3  Hida Kizuna possesses the HHG (Heart Hybrid Ge...  \n",
       "4  Hida Kizuna possesses the HHG (Heart Hybrid Ge...  "
      ]
     },
     "execution_count": 7,
     "metadata": {},
     "output_type": "execute_result"
    }
   ],
   "source": [
    "# rating_with_genres_df = rating_with_genres_df[rating_with_genres_df['rating'] > 0]\n",
    "rating_with_genres_df['Genres'] = rating_with_genres_df['Genres'].str.split(pat=\",\", expand=False)\n",
    "rating_with_genres_df.head(5)"
   ]
  },
  {
   "cell_type": "markdown",
   "metadata": {},
   "source": [
    "# Convert the table to the user_id with corresponded feature representation."
   ]
  },
  {
   "cell_type": "code",
   "execution_count": 8,
   "metadata": {},
   "outputs": [],
   "source": [
    "rating_with_genres_dict = rating_with_genres_df.to_dict(orient='list')\n",
    "genres_list = rating_with_genres_dict.pop('Genres')\n",
    "rating_list = rating_with_genres_dict.pop('rating')"
   ]
  },
  {
   "cell_type": "code",
   "execution_count": 9,
   "metadata": {},
   "outputs": [
    {
     "name": "stderr",
     "output_type": "stream",
     "text": [
      "100%|██████████| 7167828/7167828 [01:52<00:00, 63519.83it/s] \n"
     ]
    }
   ],
   "source": [
    "from tqdm import tqdm\n",
    "\n",
    "genre_feature_np = []\n",
    "\n",
    "for i, genres in enumerate(tqdm(genres_list)):\n",
    "    feature_np = np.zeros((genre_num), dtype=float)\n",
    "    for genre in genres:\n",
    "        genre = genre.strip()\n",
    "        feature_np[genre2genre_idx[genre]] = 1.\n",
    "    genre_feature_np.append(feature_np)\n",
    "\n",
    "rating_with_genres_dict['genre_vector'] = genre_feature_np"
   ]
  },
  {
   "cell_type": "code",
   "execution_count": 10,
   "metadata": {},
   "outputs": [
    {
     "data": {
      "text/html": [
       "<div>\n",
       "<style scoped>\n",
       "    .dataframe tbody tr th:only-of-type {\n",
       "        vertical-align: middle;\n",
       "    }\n",
       "\n",
       "    .dataframe tbody tr th {\n",
       "        vertical-align: top;\n",
       "    }\n",
       "\n",
       "    .dataframe thead th {\n",
       "        text-align: right;\n",
       "    }\n",
       "</style>\n",
       "<table border=\"1\" class=\"dataframe\">\n",
       "  <thead>\n",
       "    <tr style=\"text-align: right;\">\n",
       "      <th></th>\n",
       "      <th>user_id</th>\n",
       "      <th>genre_vector</th>\n",
       "    </tr>\n",
       "  </thead>\n",
       "  <tbody>\n",
       "    <tr>\n",
       "      <th>0</th>\n",
       "      <td>146</td>\n",
       "      <td>[0.3364680271937393, 0.12344443854835241, 0.0,...</td>\n",
       "    </tr>\n",
       "    <tr>\n",
       "      <th>1</th>\n",
       "      <td>240</td>\n",
       "      <td>[0.4034134564441187, 0.21088539177045493, 0.00...</td>\n",
       "    </tr>\n",
       "    <tr>\n",
       "      <th>2</th>\n",
       "      <td>436</td>\n",
       "      <td>[0.38909533850579003, 0.18608907493755178, 0.0...</td>\n",
       "    </tr>\n",
       "    <tr>\n",
       "      <th>3</th>\n",
       "      <td>446</td>\n",
       "      <td>[0.37972615753639605, 0.14338207608220763, 0.0...</td>\n",
       "    </tr>\n",
       "    <tr>\n",
       "      <th>4</th>\n",
       "      <td>781</td>\n",
       "      <td>[0.32928673606661446, 0.1617068037996573, 0.01...</td>\n",
       "    </tr>\n",
       "  </tbody>\n",
       "</table>\n",
       "</div>"
      ],
      "text/plain": [
       "   user_id                                       genre_vector\n",
       "0      146  [0.3364680271937393, 0.12344443854835241, 0.0,...\n",
       "1      240  [0.4034134564441187, 0.21088539177045493, 0.00...\n",
       "2      436  [0.38909533850579003, 0.18608907493755178, 0.0...\n",
       "3      446  [0.37972615753639605, 0.14338207608220763, 0.0...\n",
       "4      781  [0.32928673606661446, 0.1617068037996573, 0.01..."
      ]
     },
     "execution_count": 10,
     "metadata": {},
     "output_type": "execute_result"
    }
   ],
   "source": [
    "def np_choose_highest_10(x):\n",
    "    x[np.argsort(x)[:-10]] = 0\n",
    "    return x\n",
    "\n",
    "user_with_genre_vector = pd.DataFrame(rating_with_genres_dict)\n",
    "user_with_vector = user_with_genre_vector.groupby('user_id')[['genre_vector']].agg(lambda x: x.sum(axis=0))\n",
    "# user_with_vector['genre_vector'] = user_with_vector['genre_vector'].apply(np_choose_highest_10)\n",
    "user_with_vector['genre_vector'] = user_with_vector['genre_vector'].apply(lambda x: x/np.linalg.norm(x))\n",
    "\n",
    "user_with_vector.reset_index(inplace=True)\n",
    "user_with_vector.head(5)"
   ]
  },
  {
   "cell_type": "code",
   "execution_count": 11,
   "metadata": {},
   "outputs": [],
   "source": [
    "user_with_vector_dict = user_with_vector.to_dict(orient='list')"
   ]
  },
  {
   "cell_type": "markdown",
   "metadata": {},
   "source": [
    "Save the data"
   ]
  },
  {
   "cell_type": "code",
   "execution_count": 12,
   "metadata": {},
   "outputs": [],
   "source": [
    "import pickle\n",
    "\n",
    "INPUT_DIR = './data'\n",
    "\n",
    "with open(INPUT_DIR + \"/user_with_vector_dict.pickle\", 'wb') as f:\n",
    "    pickle.dump(user_with_vector_dict, f)"
   ]
  },
  {
   "cell_type": "code",
   "execution_count": null,
   "metadata": {},
   "outputs": [],
   "source": [
    "import pickle\n",
    "\n",
    "INPUT_DIR = './data'\n",
    "\n",
    "genre_index_mapping = {}\n",
    "genre_index_mapping[\"genre2genre_idx\"] = genre2genre_idx\n",
    "genre_index_mapping[\"genre_idx2genre\"] = genre_idx2genre\n",
    "\n",
    "with open(INPUT_DIR + \"/genre_index_mapping.pickle\", 'wb') as f:\n",
    "    pickle.dump(genre_index_mapping, f)"
   ]
  },
  {
   "cell_type": "markdown",
   "metadata": {},
   "source": [
    "# **Load user with vector dict (Restart the jupyter to clean up the used memory space)**"
   ]
  },
  {
   "cell_type": "code",
   "execution_count": 1,
   "metadata": {},
   "outputs": [
    {
     "name": "stdout",
     "output_type": "stream",
     "text": [
      "/mnt/c/Users/Yoshi/source/repos/Sideprojects/Anime_Recommender_system\n"
     ]
    }
   ],
   "source": [
    "%cd ..\n",
    "import numpy as np\n",
    "import pandas as pd"
   ]
  },
  {
   "cell_type": "markdown",
   "metadata": {},
   "source": [
    "load the anime data with its genre."
   ]
  },
  {
   "cell_type": "code",
   "execution_count": 3,
   "metadata": {},
   "outputs": [
    {
     "name": "stdout",
     "output_type": "stream",
     "text": [
      "Number of anime's types: 16214\n",
      "Set of genres: ['Action', 'Adventure', 'Cars', 'Comedy', 'Dementia', 'Demons', 'Drama', 'Ecchi', 'Fantasy', 'Game', 'Harem', 'Historical', 'Horror', 'Josei', 'Kids', 'Magic', 'Martial Arts', 'Mecha', 'Military', 'Music', 'Mystery', 'Parody', 'Police', 'Psychological', 'Romance', 'Samurai', 'School', 'Sci-Fi', 'Seinen', 'Shoujo', 'Shoujo Ai', 'Shounen', 'Shounen Ai', 'Slice of Life', 'Space', 'Sports', 'Super Power', 'Supernatural', 'Thriller', 'Unknown', 'Vampire', 'Yaoi']\n",
      "Number of genre: 42\n"
     ]
    },
    {
     "data": {
      "text/html": [
       "<div>\n",
       "<style scoped>\n",
       "    .dataframe tbody tr th:only-of-type {\n",
       "        vertical-align: middle;\n",
       "    }\n",
       "\n",
       "    .dataframe tbody tr th {\n",
       "        vertical-align: top;\n",
       "    }\n",
       "\n",
       "    .dataframe thead th {\n",
       "        text-align: right;\n",
       "    }\n",
       "</style>\n",
       "<table border=\"1\" class=\"dataframe\">\n",
       "  <thead>\n",
       "    <tr style=\"text-align: right;\">\n",
       "      <th></th>\n",
       "      <th>anime_id</th>\n",
       "      <th>Name</th>\n",
       "      <th>Genres</th>\n",
       "      <th>synopsis</th>\n",
       "    </tr>\n",
       "  </thead>\n",
       "  <tbody>\n",
       "    <tr>\n",
       "      <th>0</th>\n",
       "      <td>1</td>\n",
       "      <td>Cowboy Bebop</td>\n",
       "      <td>Action, Adventure, Comedy, Drama, Sci-Fi, Space</td>\n",
       "      <td>In the year 2071, humanity has colonized sever...</td>\n",
       "    </tr>\n",
       "    <tr>\n",
       "      <th>1</th>\n",
       "      <td>1</td>\n",
       "      <td>Cowboy Bebop</td>\n",
       "      <td>Action, Adventure, Comedy, Drama, Sci-Fi, Space</td>\n",
       "      <td>In the year 2071, humanity has colonized sever...</td>\n",
       "    </tr>\n",
       "    <tr>\n",
       "      <th>2</th>\n",
       "      <td>5</td>\n",
       "      <td>Cowboy Bebop: Tengoku no Tobira</td>\n",
       "      <td>Action, Drama, Mystery, Sci-Fi, Space</td>\n",
       "      <td>other day, another bounty—such is the life of ...</td>\n",
       "    </tr>\n",
       "    <tr>\n",
       "      <th>3</th>\n",
       "      <td>6</td>\n",
       "      <td>Trigun</td>\n",
       "      <td>Action, Sci-Fi, Adventure, Comedy, Drama, Shounen</td>\n",
       "      <td>Vash the Stampede is the man with a $$60,000,0...</td>\n",
       "    </tr>\n",
       "    <tr>\n",
       "      <th>4</th>\n",
       "      <td>7</td>\n",
       "      <td>Witch Hunter Robin</td>\n",
       "      <td>Action, Mystery, Police, Supernatural, Drama, ...</td>\n",
       "      <td>ches are individuals with special powers like ...</td>\n",
       "    </tr>\n",
       "  </tbody>\n",
       "</table>\n",
       "</div>"
      ],
      "text/plain": [
       "   anime_id                             Name  \\\n",
       "0         1                     Cowboy Bebop   \n",
       "1         1                     Cowboy Bebop   \n",
       "2         5  Cowboy Bebop: Tengoku no Tobira   \n",
       "3         6                           Trigun   \n",
       "4         7               Witch Hunter Robin   \n",
       "\n",
       "                                              Genres  \\\n",
       "0    Action, Adventure, Comedy, Drama, Sci-Fi, Space   \n",
       "1    Action, Adventure, Comedy, Drama, Sci-Fi, Space   \n",
       "2              Action, Drama, Mystery, Sci-Fi, Space   \n",
       "3  Action, Sci-Fi, Adventure, Comedy, Drama, Shounen   \n",
       "4  Action, Mystery, Police, Supernatural, Drama, ...   \n",
       "\n",
       "                                            synopsis  \n",
       "0  In the year 2071, humanity has colonized sever...  \n",
       "1  In the year 2071, humanity has colonized sever...  \n",
       "2  other day, another bounty—such is the life of ...  \n",
       "3  Vash the Stampede is the man with a $$60,000,0...  \n",
       "4  ches are individuals with special powers like ...  "
      ]
     },
     "execution_count": 3,
     "metadata": {},
     "output_type": "execute_result"
    }
   ],
   "source": [
    "INPUT_DIR = './data'\n",
    "\n",
    "animes_genres_df = pd.read_csv(\n",
    "    INPUT_DIR + '/anime_with_synopsis.csv', \n",
    "    low_memory=False, \n",
    "    usecols=[\"MAL_ID\", \"Name\", \"Genres\", \"synopsis\"]\n",
    ")\n",
    "animes_genres_df.rename({\"MAL_ID\": \"anime_id\"}, inplace=True, axis=1)\n",
    "\n",
    "anime_num = len(animes_genres_df[\"anime_id\"].unique())\n",
    "print(f\"Number of anime's types: {anime_num}\")\n",
    "\n",
    "genre_seperate = animes_genres_df[\"Genres\"].str.split(pat=\",\", expand=True)\n",
    "genre_series = pd.concat([genre_seperate[col] for col in genre_seperate.columns])\n",
    "genre_unique = list(set([item.strip() for item in genre_series.unique().tolist() if item is not None]))\n",
    "genre_unique.sort()\n",
    "print(f\"Set of genres: {genre_unique}\")\n",
    "genre_num = len(genre_unique)\n",
    "print(f\"Number of genre: {genre_num}\")\n",
    "\n",
    "genre2genre_idx = {x: i for i, x in enumerate(genre_unique)}\n",
    "genre_idx2genre = {i: x for i, x in enumerate(genre_unique)}\n",
    "\n",
    "animes_genres_df.head(5)"
   ]
  },
  {
   "cell_type": "markdown",
   "metadata": {},
   "source": [
    "user_id with its corresponding index"
   ]
  },
  {
   "cell_type": "code",
   "execution_count": 4,
   "metadata": {},
   "outputs": [],
   "source": [
    "import pickle\n",
    "\n",
    "INPUT_DIR = './data'\n",
    "\n",
    "with open(INPUT_DIR + \"/user_with_vector_dict.pickle\", 'rb') as f:\n",
    "    user_with_vector_dict = pickle.load(f)"
   ]
  },
  {
   "cell_type": "code",
   "execution_count": 5,
   "metadata": {},
   "outputs": [],
   "source": [
    "user_id2user_id_idx = {x: i for i, x in enumerate(user_with_vector_dict['user_id'])}\n",
    "user_id_idx2user_id = {i: x for i, x in enumerate(user_with_vector_dict['user_id'])}"
   ]
  },
  {
   "cell_type": "markdown",
   "metadata": {},
   "source": [
    "user feature matrix"
   ]
  },
  {
   "cell_type": "code",
   "execution_count": 6,
   "metadata": {},
   "outputs": [],
   "source": [
    "user_feature_matrix = np.vstack(user_with_vector_dict['genre_vector'])"
   ]
  },
  {
   "cell_type": "markdown",
   "metadata": {},
   "source": [
    "# User feature mapping"
   ]
  },
  {
   "cell_type": "markdown",
   "metadata": {},
   "source": [
    "generate input feature"
   ]
  },
  {
   "cell_type": "code",
   "execution_count": 7,
   "metadata": {},
   "outputs": [
    {
     "name": "stdout",
     "output_type": "stream",
     "text": [
      "24\n",
      "26\n",
      "36\n"
     ]
    }
   ],
   "source": [
    "input_feature = {\"Romance\": 4, \"School\": 4, \"Super Power\": 2}\n",
    "input_feature_np = np.zeros((genre_num), dtype=float)\n",
    "for genre, score in input_feature.items():\n",
    "    print(genre2genre_idx[genre])\n",
    "    input_feature_np[genre2genre_idx[genre]] = score"
   ]
  },
  {
   "cell_type": "code",
   "execution_count": 8,
   "metadata": {},
   "outputs": [
    {
     "name": "stdout",
     "output_type": "stream",
     "text": [
      "Most similar user_id: 154328\n"
     ]
    }
   ],
   "source": [
    "most_similar_user_id = user_id_idx2user_id[np.argmax(np.inner(user_feature_matrix, input_feature_np))]\n",
    "print(f\"Most similar user_id: {most_similar_user_id}\")"
   ]
  },
  {
   "cell_type": "markdown",
   "metadata": {},
   "source": [
    "# Model predict"
   ]
  },
  {
   "cell_type": "markdown",
   "metadata": {},
   "source": [
    "load encoder config"
   ]
  },
  {
   "cell_type": "code",
   "execution_count": 9,
   "metadata": {},
   "outputs": [
    {
     "name": "stdout",
     "output_type": "stream",
     "text": [
      "['user2user_encoded', 'user_encoded2user', 'anime2anime_encoded', 'anime_encoded2anime']\n"
     ]
    }
   ],
   "source": [
    "import json\n",
    "\n",
    "INPUT_DIR = './model/ranking_base'\n",
    "\n",
    "with open(INPUT_DIR + \"/encode_config.json\") as f:\n",
    "    encoder_conig = json.load(f)\n",
    "\n",
    "print(list(encoder_conig.keys()))"
   ]
  },
  {
   "cell_type": "code",
   "execution_count": 10,
   "metadata": {},
   "outputs": [
    {
     "name": "stdout",
     "output_type": "stream",
     "text": [
      "Num of users: 2463, Num of animes: 15749\n"
     ]
    }
   ],
   "source": [
    "user2user_encoded = encoder_conig['user2user_encoded']\n",
    "user_encoded2user = encoder_conig['user_encoded2user']\n",
    "anime2anime_encoded = encoder_conig['anime2anime_encoded']\n",
    "anime_encoded2anime = encoder_conig['anime_encoded2anime']\n",
    "\n",
    "n_users = len(user2user_encoded)\n",
    "n_animes = len(anime2anime_encoded)\n",
    "\n",
    "field_dims = [n_users, n_animes]\n",
    "\n",
    "print(\"Num of users: {}, Num of animes: {}\".format(n_users, n_animes))"
   ]
  },
  {
   "cell_type": "markdown",
   "metadata": {},
   "source": [
    "Import the model"
   ]
  },
  {
   "cell_type": "code",
   "execution_count": 11,
   "metadata": {},
   "outputs": [
    {
     "name": "stderr",
     "output_type": "stream",
     "text": [
      "/home/yoshi/miniconda3/envs/ml/lib/python3.8/site-packages/tqdm/auto.py:22: TqdmWarning: IProgress not found. Please update jupyter and ipywidgets. See https://ipywidgets.readthedocs.io/en/stable/user_install.html\n",
      "  from .autonotebook import tqdm as notebook_tqdm\n"
     ]
    },
    {
     "data": {
      "text/plain": [
       "FactorizationMachineModel(\n",
       "  (embedding): FeaturesEmbedding(\n",
       "    (embedding): Embedding(18212, 32)\n",
       "  )\n",
       "  (linear): FeaturesLinear(\n",
       "    (fc): Embedding(18212, 1)\n",
       "  )\n",
       "  (fm): FactorizationMachine()\n",
       ")"
      ]
     },
     "execution_count": 11,
     "metadata": {},
     "output_type": "execute_result"
    }
   ],
   "source": [
    "import torch\n",
    "from recanime.recommender.ranking_base_filter.model import FactorizationMachineModel\n",
    "\n",
    "model = FactorizationMachineModel(\n",
    "    field_dims=field_dims,\n",
    "    embed_dim=32\n",
    ")\n",
    "\n",
    "model.load_state_dict(torch.load(INPUT_DIR + \"/model_state_dict.pt\"))\n",
    "model.eval()"
   ]
  },
  {
   "cell_type": "markdown",
   "metadata": {},
   "source": [
    "Prefilter the animes by select the anime has the highest score feature."
   ]
  },
  {
   "cell_type": "code",
   "execution_count": 14,
   "metadata": {},
   "outputs": [],
   "source": [
    "# hightest_genre = sorted(input_feature.items(), key=lambda x: x[1], reverse=True)[0][0]\n",
    "# prefilter_animes_df = animes_genres_df[['anime_id', 'Genres']].copy(deep=True)\n",
    "# prefilter_animes_df['Genres'] = prefilter_animes_df['Genres'].str.split(pat=\",\", expand=False)\n",
    "# prefilter_animes_df['Genres'] = prefilter_animes_df['Genres'].apply(lambda x: np.nan if hightest_genre not in x else x)\n",
    "# prefilter_animes_df.dropna(inplace=True)\n",
    "\n",
    "# prefilter_animes_df.head(5)"
   ]
  },
  {
   "cell_type": "markdown",
   "metadata": {},
   "source": [
    "Select the animes with certain genre"
   ]
  },
  {
   "cell_type": "code",
   "execution_count": 12,
   "metadata": {},
   "outputs": [
    {
     "data": {
      "text/html": [
       "<div>\n",
       "<style scoped>\n",
       "    .dataframe tbody tr th:only-of-type {\n",
       "        vertical-align: middle;\n",
       "    }\n",
       "\n",
       "    .dataframe tbody tr th {\n",
       "        vertical-align: top;\n",
       "    }\n",
       "\n",
       "    .dataframe thead th {\n",
       "        text-align: right;\n",
       "    }\n",
       "</style>\n",
       "<table border=\"1\" class=\"dataframe\">\n",
       "  <thead>\n",
       "    <tr style=\"text-align: right;\">\n",
       "      <th></th>\n",
       "      <th>anime_id</th>\n",
       "      <th>Genres</th>\n",
       "    </tr>\n",
       "  </thead>\n",
       "  <tbody>\n",
       "    <tr>\n",
       "      <th>7</th>\n",
       "      <td>16</td>\n",
       "      <td>[Comedy, Drama, Josei, Romance, Slice of Life]</td>\n",
       "    </tr>\n",
       "    <tr>\n",
       "      <th>11</th>\n",
       "      <td>20</td>\n",
       "      <td>[Action, Adventure, Comedy, Super Power, Marti...</td>\n",
       "    </tr>\n",
       "    <tr>\n",
       "      <th>12</th>\n",
       "      <td>21</td>\n",
       "      <td>[Action, Adventure, Comedy, Super Power, Drama...</td>\n",
       "    </tr>\n",
       "    <tr>\n",
       "      <th>13</th>\n",
       "      <td>22</td>\n",
       "      <td>[Action, Comedy, Sports, School, Shounen]</td>\n",
       "    </tr>\n",
       "    <tr>\n",
       "      <th>15</th>\n",
       "      <td>24</td>\n",
       "      <td>[Comedy, Romance, School, Shounen]</td>\n",
       "    </tr>\n",
       "  </tbody>\n",
       "</table>\n",
       "</div>"
      ],
      "text/plain": [
       "    anime_id                                             Genres\n",
       "7         16     [Comedy, Drama, Josei, Romance, Slice of Life]\n",
       "11        20  [Action, Adventure, Comedy, Super Power, Marti...\n",
       "12        21  [Action, Adventure, Comedy, Super Power, Drama...\n",
       "13        22          [Action, Comedy, Sports, School, Shounen]\n",
       "15        24                 [Comedy, Romance, School, Shounen]"
      ]
     },
     "execution_count": 12,
     "metadata": {},
     "output_type": "execute_result"
    }
   ],
   "source": [
    "select_genre = set(input_feature.keys())\n",
    "prefilter_animes_df = animes_genres_df[['anime_id', 'Genres']].copy(deep=True)\n",
    "prefilter_animes_df['Genres'] = prefilter_animes_df['Genres'].str.split(pat=\",\", expand=False)\n",
    "prefilter_animes_df['Genres'] = prefilter_animes_df['Genres'].apply(lambda genres: [genre.strip() for genre in genres])\n",
    "prefilter_animes_df['Genres'] = prefilter_animes_df['Genres'].apply(lambda x: np.nan if len(select_genre&set(x)) == 0 else x)\n",
    "prefilter_animes_df.dropna(inplace=True)\n",
    "\n",
    "prefilter_animes_df.head(5)"
   ]
  },
  {
   "cell_type": "code",
   "execution_count": 13,
   "metadata": {},
   "outputs": [],
   "source": [
    "prefilter_animes_dict = prefilter_animes_df.to_dict(orient='list')\n",
    "prefilter_anime_id_list = prefilter_animes_dict['anime_id']\n",
    "\n",
    "prefilter_anime_id_encode_list = []\n",
    "anime_arg_id2_anime_id =  []\n",
    "for anime_id in prefilter_anime_id_list:\n",
    "    try:\n",
    "        prefilter_anime_id_encode_list.append(anime2anime_encoded[str(anime_id)])\n",
    "        anime_arg_id2_anime_id.append(anime_id)\n",
    "    except:\n",
    "        pass"
   ]
  },
  {
   "cell_type": "markdown",
   "metadata": {},
   "source": [
    "load the data"
   ]
  },
  {
   "cell_type": "code",
   "execution_count": 14,
   "metadata": {},
   "outputs": [],
   "source": [
    "most_similar_user_id_encode = user2user_encoded[str(most_similar_user_id)]\n",
    "user_id_with_all_anime = [[most_similar_user_id_encode, anime_id_encode] for anime_id_encode in prefilter_anime_id_encode_list]\n",
    "user_id_with_all_anime_t = torch.tensor(user_id_with_all_anime)"
   ]
  },
  {
   "cell_type": "code",
   "execution_count": 15,
   "metadata": {},
   "outputs": [],
   "source": [
    "top_n_recommend = 10\n",
    "\n",
    "output = model(user_id_with_all_anime_t)\n",
    "output = output.squeeze()\n",
    "sort_asc_score, sort_asc_score_idx = output.sort(descending=True)\n",
    "sort_asc_score = sort_asc_score[:top_n_recommend].tolist()\n",
    "sort_asc_score_idx = sort_asc_score_idx[:top_n_recommend].tolist()"
   ]
  },
  {
   "cell_type": "code",
   "execution_count": 16,
   "metadata": {},
   "outputs": [],
   "source": [
    "top_n_anime_id = []\n",
    "for idx in sort_asc_score_idx:\n",
    "    top_n_anime_id.append(anime_arg_id2_anime_id[idx])\n",
    "    \n",
    "anime_id_with_score = pd.DataFrame({\"anime_id\": top_n_anime_id, \"predict_score\": sort_asc_score})"
   ]
  },
  {
   "cell_type": "markdown",
   "metadata": {},
   "source": [
    "# Recommend Result (For input_feature = {\"Romance\": 4, \"School\": 4, \"Super Power\": 2})"
   ]
  },
  {
   "cell_type": "code",
   "execution_count": 17,
   "metadata": {},
   "outputs": [
    {
     "data": {
      "text/html": [
       "<div>\n",
       "<style scoped>\n",
       "    .dataframe tbody tr th:only-of-type {\n",
       "        vertical-align: middle;\n",
       "    }\n",
       "\n",
       "    .dataframe tbody tr th {\n",
       "        vertical-align: top;\n",
       "    }\n",
       "\n",
       "    .dataframe thead th {\n",
       "        text-align: right;\n",
       "    }\n",
       "</style>\n",
       "<table border=\"1\" class=\"dataframe\">\n",
       "  <thead>\n",
       "    <tr style=\"text-align: right;\">\n",
       "      <th></th>\n",
       "      <th>anime_id</th>\n",
       "      <th>predict_score</th>\n",
       "      <th>Name</th>\n",
       "      <th>Genres</th>\n",
       "      <th>synopsis</th>\n",
       "    </tr>\n",
       "  </thead>\n",
       "  <tbody>\n",
       "    <tr>\n",
       "      <th>0</th>\n",
       "      <td>44221</td>\n",
       "      <td>1.0</td>\n",
       "      <td>Xie Wang Zhui Qi Zhi Yishi Qingcheng</td>\n",
       "      <td>Action, Comedy, Drama, Romance, Martial Arts, ...</td>\n",
       "      <td>The well-known special agent, Su Luo, was betr...</td>\n",
       "    </tr>\n",
       "    <tr>\n",
       "      <th>1</th>\n",
       "      <td>31530</td>\n",
       "      <td>1.0</td>\n",
       "      <td>Classroom☆Crisis: Tabi no Haji wa Uwanuri</td>\n",
       "      <td>Sci-Fi, School</td>\n",
       "      <td>Unaired episode included with the third Blu-ra...</td>\n",
       "    </tr>\n",
       "    <tr>\n",
       "      <th>2</th>\n",
       "      <td>9790</td>\n",
       "      <td>1.0</td>\n",
       "      <td>Sora no Otoshimono: Tokeijikake no Angeloid</td>\n",
       "      <td>Comedy, Drama, Ecchi, Harem, Romance, Sci-Fi, ...</td>\n",
       "      <td>ovie adaptation of the Sora no Otoshimono mang...</td>\n",
       "    </tr>\n",
       "    <tr>\n",
       "      <th>3</th>\n",
       "      <td>9795</td>\n",
       "      <td>1.0</td>\n",
       "      <td>Atashin'chi Movie</td>\n",
       "      <td>Comedy, Super Power</td>\n",
       "      <td>In a stormy night, Mikan and Mom were stricken...</td>\n",
       "    </tr>\n",
       "    <tr>\n",
       "      <th>4</th>\n",
       "      <td>9796</td>\n",
       "      <td>1.0</td>\n",
       "      <td>Atashin'chi 3D Movie: Jounetsu no Chou Chounou...</td>\n",
       "      <td>Comedy, Super Power</td>\n",
       "      <td>3D theatrical anime adaptation. Mother is havi...</td>\n",
       "    </tr>\n",
       "    <tr>\n",
       "      <th>5</th>\n",
       "      <td>9799</td>\n",
       "      <td>1.0</td>\n",
       "      <td>Shin-Men</td>\n",
       "      <td>Action, Comedy, Super Power, Seinen</td>\n",
       "      <td>The spinoff is set in a parallel world known a...</td>\n",
       "    </tr>\n",
       "    <tr>\n",
       "      <th>6</th>\n",
       "      <td>31521</td>\n",
       "      <td>1.0</td>\n",
       "      <td>Ushinawareta Mirai wo Motomete: Ushinawareta N...</td>\n",
       "      <td>Romance</td>\n",
       "      <td>Thirteenth episode delivered as a bonus Blu-ra...</td>\n",
       "    </tr>\n",
       "    <tr>\n",
       "      <th>7</th>\n",
       "      <td>9922</td>\n",
       "      <td>1.0</td>\n",
       "      <td>Oretachi ni Tsubasa wa Nai: Under the Innocent...</td>\n",
       "      <td>Comedy, Drama, Ecchi, Harem, Romance</td>\n",
       "      <td>Haneda Takashi has a secret he cannot speak of...</td>\n",
       "    </tr>\n",
       "    <tr>\n",
       "      <th>8</th>\n",
       "      <td>9925</td>\n",
       "      <td>1.0</td>\n",
       "      <td>Amagami SS: Tachibana Miya-hen - Imouto</td>\n",
       "      <td>School</td>\n",
       "      <td>a Tachibana, assuming her annoying brother Jun...</td>\n",
       "    </tr>\n",
       "    <tr>\n",
       "      <th>9</th>\n",
       "      <td>37938</td>\n",
       "      <td>1.0</td>\n",
       "      <td>Hua Jianghu Zhi Huan Shi Men Sheng</td>\n",
       "      <td>Action, Drama, Fantasy, Martial Arts, Mystery,...</td>\n",
       "      <td>Nian Yangxiao, came from a parallel world to s...</td>\n",
       "    </tr>\n",
       "  </tbody>\n",
       "</table>\n",
       "</div>"
      ],
      "text/plain": [
       "   anime_id  predict_score                                               Name  \\\n",
       "0     44221            1.0               Xie Wang Zhui Qi Zhi Yishi Qingcheng   \n",
       "1     31530            1.0          Classroom☆Crisis: Tabi no Haji wa Uwanuri   \n",
       "2      9790            1.0        Sora no Otoshimono: Tokeijikake no Angeloid   \n",
       "3      9795            1.0                                  Atashin'chi Movie   \n",
       "4      9796            1.0  Atashin'chi 3D Movie: Jounetsu no Chou Chounou...   \n",
       "5      9799            1.0                                           Shin-Men   \n",
       "6     31521            1.0  Ushinawareta Mirai wo Motomete: Ushinawareta N...   \n",
       "7      9922            1.0  Oretachi ni Tsubasa wa Nai: Under the Innocent...   \n",
       "8      9925            1.0            Amagami SS: Tachibana Miya-hen - Imouto   \n",
       "9     37938            1.0                 Hua Jianghu Zhi Huan Shi Men Sheng   \n",
       "\n",
       "                                              Genres  \\\n",
       "0  Action, Comedy, Drama, Romance, Martial Arts, ...   \n",
       "1                                     Sci-Fi, School   \n",
       "2  Comedy, Drama, Ecchi, Harem, Romance, Sci-Fi, ...   \n",
       "3                                Comedy, Super Power   \n",
       "4                                Comedy, Super Power   \n",
       "5                Action, Comedy, Super Power, Seinen   \n",
       "6                                            Romance   \n",
       "7               Comedy, Drama, Ecchi, Harem, Romance   \n",
       "8                                             School   \n",
       "9  Action, Drama, Fantasy, Martial Arts, Mystery,...   \n",
       "\n",
       "                                            synopsis  \n",
       "0  The well-known special agent, Su Luo, was betr...  \n",
       "1  Unaired episode included with the third Blu-ra...  \n",
       "2  ovie adaptation of the Sora no Otoshimono mang...  \n",
       "3  In a stormy night, Mikan and Mom were stricken...  \n",
       "4  3D theatrical anime adaptation. Mother is havi...  \n",
       "5  The spinoff is set in a parallel world known a...  \n",
       "6  Thirteenth episode delivered as a bonus Blu-ra...  \n",
       "7  Haneda Takashi has a secret he cannot speak of...  \n",
       "8  a Tachibana, assuming her annoying brother Jun...  \n",
       "9  Nian Yangxiao, came from a parallel world to s...  "
      ]
     },
     "execution_count": 17,
     "metadata": {},
     "output_type": "execute_result"
    }
   ],
   "source": [
    "show_result_df = pd.merge(anime_id_with_score, animes_genres_df, how=\"inner\", on=\"anime_id\").sort_values(by=[\"predict_score\"], ascending=False)\n",
    "show_result_df"
   ]
  }
 ],
 "metadata": {
  "kernelspec": {
   "display_name": "Python 3.8.13 ('ml')",
   "language": "python",
   "name": "python3"
  },
  "language_info": {
   "codemirror_mode": {
    "name": "ipython",
    "version": 3
   },
   "file_extension": ".py",
   "mimetype": "text/x-python",
   "name": "python",
   "nbconvert_exporter": "python",
   "pygments_lexer": "ipython3",
   "version": "3.8.13"
  },
  "orig_nbformat": 4,
  "vscode": {
   "interpreter": {
    "hash": "cb2a16ad5343214987ec83273b09d3ac2f528968793a43e301f018a7f4736060"
   }
  }
 },
 "nbformat": 4,
 "nbformat_minor": 2
}
