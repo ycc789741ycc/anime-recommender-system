{
 "cells": [
  {
   "cell_type": "markdown",
   "metadata": {},
   "source": [
    "# **The Genres of animes**"
   ]
  },
  {
   "cell_type": "code",
   "execution_count": 1,
   "metadata": {},
   "outputs": [
    {
     "name": "stdout",
     "output_type": "stream",
     "text": [
      "/mnt/c/Users/Yoshi/source/repos/Sideprojects/Anime_Recommender_system\n"
     ]
    }
   ],
   "source": [
    "%cd .."
   ]
  },
  {
   "cell_type": "markdown",
   "metadata": {},
   "source": [
    "# Load the library"
   ]
  },
  {
   "cell_type": "code",
   "execution_count": 2,
   "metadata": {},
   "outputs": [],
   "source": [
    "import numpy as np"
   ]
  },
  {
   "cell_type": "markdown",
   "metadata": {},
   "source": [
    "# load the anime data with its genre."
   ]
  },
  {
   "cell_type": "code",
   "execution_count": 3,
   "metadata": {},
   "outputs": [
    {
     "name": "stdout",
     "output_type": "stream",
     "text": [
      "Number of anime's types: 16214\n",
      "Set of genres: {'Vampire', 'Seinen', 'School', 'Magic', 'Police', 'Parody', 'Mecha', 'Space', 'Comedy', 'Ecchi', 'Shounen', 'Romance', 'Horror', 'Game', 'Drama', 'Slice of Life', 'Demons', 'Historical', 'Adventure', 'Martial Arts', 'Supernatural', 'Josei', 'Kids', 'Mystery', 'Super Power', 'Samurai', 'Unknown', 'Shoujo', 'Cars', 'Sci-Fi', 'Military', 'Music', 'Thriller', 'Fantasy', 'Yaoi', 'Psychological', 'Harem', 'Shoujo Ai', 'Action', 'Sports', 'Shounen Ai', 'Dementia'}\n",
      "Number of genre: 42\n"
     ]
    },
    {
     "data": {
      "text/html": [
       "<div>\n",
       "<style scoped>\n",
       "    .dataframe tbody tr th:only-of-type {\n",
       "        vertical-align: middle;\n",
       "    }\n",
       "\n",
       "    .dataframe tbody tr th {\n",
       "        vertical-align: top;\n",
       "    }\n",
       "\n",
       "    .dataframe thead th {\n",
       "        text-align: right;\n",
       "    }\n",
       "</style>\n",
       "<table border=\"1\" class=\"dataframe\">\n",
       "  <thead>\n",
       "    <tr style=\"text-align: right;\">\n",
       "      <th></th>\n",
       "      <th>anime_id</th>\n",
       "      <th>Name</th>\n",
       "      <th>Genres</th>\n",
       "    </tr>\n",
       "  </thead>\n",
       "  <tbody>\n",
       "    <tr>\n",
       "      <th>0</th>\n",
       "      <td>1</td>\n",
       "      <td>Cowboy Bebop</td>\n",
       "      <td>Action, Adventure, Comedy, Drama, Sci-Fi, Space</td>\n",
       "    </tr>\n",
       "    <tr>\n",
       "      <th>1</th>\n",
       "      <td>5</td>\n",
       "      <td>Cowboy Bebop: Tengoku no Tobira</td>\n",
       "      <td>Action, Drama, Mystery, Sci-Fi, Space</td>\n",
       "    </tr>\n",
       "    <tr>\n",
       "      <th>2</th>\n",
       "      <td>6</td>\n",
       "      <td>Trigun</td>\n",
       "      <td>Action, Sci-Fi, Adventure, Comedy, Drama, Shounen</td>\n",
       "    </tr>\n",
       "    <tr>\n",
       "      <th>3</th>\n",
       "      <td>7</td>\n",
       "      <td>Witch Hunter Robin</td>\n",
       "      <td>Action, Mystery, Police, Supernatural, Drama, ...</td>\n",
       "    </tr>\n",
       "    <tr>\n",
       "      <th>4</th>\n",
       "      <td>8</td>\n",
       "      <td>Bouken Ou Beet</td>\n",
       "      <td>Adventure, Fantasy, Shounen, Supernatural</td>\n",
       "    </tr>\n",
       "  </tbody>\n",
       "</table>\n",
       "</div>"
      ],
      "text/plain": [
       "   anime_id                             Name  \\\n",
       "0         1                     Cowboy Bebop   \n",
       "1         5  Cowboy Bebop: Tengoku no Tobira   \n",
       "2         6                           Trigun   \n",
       "3         7               Witch Hunter Robin   \n",
       "4         8                   Bouken Ou Beet   \n",
       "\n",
       "                                              Genres  \n",
       "0    Action, Adventure, Comedy, Drama, Sci-Fi, Space  \n",
       "1              Action, Drama, Mystery, Sci-Fi, Space  \n",
       "2  Action, Sci-Fi, Adventure, Comedy, Drama, Shounen  \n",
       "3  Action, Mystery, Police, Supernatural, Drama, ...  \n",
       "4          Adventure, Fantasy, Shounen, Supernatural  "
      ]
     },
     "execution_count": 3,
     "metadata": {},
     "output_type": "execute_result"
    }
   ],
   "source": [
    "import pandas as pd\n",
    "\n",
    "INPUT_DIR = './data'\n",
    "\n",
    "animes_genres_df = pd.read_csv(\n",
    "    INPUT_DIR + '/anime_with_synopsis.csv', \n",
    "    low_memory=False, \n",
    "    usecols=[\"MAL_ID\", \"Name\", \"Genres\"]\n",
    ")\n",
    "animes_genres_df.rename({\"MAL_ID\": \"anime_id\"}, inplace=True, axis=1)\n",
    "\n",
    "anime_num = len(animes_genres_df[\"anime_id\"].unique())\n",
    "print(f\"Number of anime's types: {anime_num}\")\n",
    "\n",
    "genre_seperate = animes_genres_df[\"Genres\"].str.split(pat=\",\", expand=True)\n",
    "genre_series = pd.concat([genre_seperate[col] for col in genre_seperate.columns])\n",
    "genre_set = set([item.strip() for item in genre_series.unique().tolist() if item is not None])\n",
    "print(f\"Set of genres: {genre_set}\")\n",
    "genre_num = len(genre_set)\n",
    "print(f\"Number of genre: {genre_num}\")\n",
    "\n",
    "animes_genres_df.head(5)"
   ]
  },
  {
   "cell_type": "code",
   "execution_count": 4,
   "metadata": {},
   "outputs": [],
   "source": [
    "genre2genre_idx = {x: i for i, x in enumerate(genre_set)}\n",
    "genre_idx2genre = {i: x for i, x in enumerate(genre_set)}"
   ]
  },
  {
   "cell_type": "markdown",
   "metadata": {},
   "source": [
    "# load the preprocessed user data with anime rating."
   ]
  },
  {
   "cell_type": "code",
   "execution_count": 5,
   "metadata": {},
   "outputs": [
    {
     "data": {
      "text/html": [
       "<div>\n",
       "<style scoped>\n",
       "    .dataframe tbody tr th:only-of-type {\n",
       "        vertical-align: middle;\n",
       "    }\n",
       "\n",
       "    .dataframe tbody tr th {\n",
       "        vertical-align: top;\n",
       "    }\n",
       "\n",
       "    .dataframe thead th {\n",
       "        text-align: right;\n",
       "    }\n",
       "</style>\n",
       "<table border=\"1\" class=\"dataframe\">\n",
       "  <thead>\n",
       "    <tr style=\"text-align: right;\">\n",
       "      <th></th>\n",
       "      <th>user_id</th>\n",
       "      <th>anime_id</th>\n",
       "      <th>rating</th>\n",
       "    </tr>\n",
       "  </thead>\n",
       "  <tbody>\n",
       "    <tr>\n",
       "      <th>0</th>\n",
       "      <td>279596</td>\n",
       "      <td>2695</td>\n",
       "      <td>0.0</td>\n",
       "    </tr>\n",
       "    <tr>\n",
       "      <th>1</th>\n",
       "      <td>121782</td>\n",
       "      <td>15505</td>\n",
       "      <td>0.0</td>\n",
       "    </tr>\n",
       "    <tr>\n",
       "      <th>2</th>\n",
       "      <td>160479</td>\n",
       "      <td>39085</td>\n",
       "      <td>0.0</td>\n",
       "    </tr>\n",
       "    <tr>\n",
       "      <th>3</th>\n",
       "      <td>53950</td>\n",
       "      <td>32245</td>\n",
       "      <td>0.0</td>\n",
       "    </tr>\n",
       "    <tr>\n",
       "      <th>4</th>\n",
       "      <td>86402</td>\n",
       "      <td>35860</td>\n",
       "      <td>0.8</td>\n",
       "    </tr>\n",
       "  </tbody>\n",
       "</table>\n",
       "</div>"
      ],
      "text/plain": [
       "   user_id  anime_id  rating\n",
       "0   279596      2695     0.0\n",
       "1   121782     15505     0.0\n",
       "2   160479     39085     0.0\n",
       "3    53950     32245     0.0\n",
       "4    86402     35860     0.8"
      ]
     },
     "execution_count": 5,
     "metadata": {},
     "output_type": "execute_result"
    }
   ],
   "source": [
    "rating_df = pd.read_csv(INPUT_DIR + '/preprocessed_animelist.csv', \n",
    "                        low_memory=False, \n",
    "                        usecols=[\"user_id\", \"anime_id\", \"rating\"]\n",
    "                        )\n",
    "\n",
    "rating_df.head(5)"
   ]
  },
  {
   "cell_type": "markdown",
   "metadata": {},
   "source": [
    "# Join two different table"
   ]
  },
  {
   "cell_type": "code",
   "execution_count": 6,
   "metadata": {},
   "outputs": [
    {
     "data": {
      "text/html": [
       "<div>\n",
       "<style scoped>\n",
       "    .dataframe tbody tr th:only-of-type {\n",
       "        vertical-align: middle;\n",
       "    }\n",
       "\n",
       "    .dataframe tbody tr th {\n",
       "        vertical-align: top;\n",
       "    }\n",
       "\n",
       "    .dataframe thead th {\n",
       "        text-align: right;\n",
       "    }\n",
       "</style>\n",
       "<table border=\"1\" class=\"dataframe\">\n",
       "  <thead>\n",
       "    <tr style=\"text-align: right;\">\n",
       "      <th></th>\n",
       "      <th>user_id</th>\n",
       "      <th>anime_id</th>\n",
       "      <th>rating</th>\n",
       "      <th>Name</th>\n",
       "      <th>Genres</th>\n",
       "    </tr>\n",
       "  </thead>\n",
       "  <tbody>\n",
       "    <tr>\n",
       "      <th>0</th>\n",
       "      <td>279596</td>\n",
       "      <td>2695</td>\n",
       "      <td>0.0</td>\n",
       "      <td>Mobile Suit Gundam 0083: The Fading Light of Zeon</td>\n",
       "      <td>Action, Sci-Fi, Adventure, Space, Mecha</td>\n",
       "    </tr>\n",
       "    <tr>\n",
       "      <th>1</th>\n",
       "      <td>297666</td>\n",
       "      <td>2695</td>\n",
       "      <td>0.0</td>\n",
       "      <td>Mobile Suit Gundam 0083: The Fading Light of Zeon</td>\n",
       "      <td>Action, Sci-Fi, Adventure, Space, Mecha</td>\n",
       "    </tr>\n",
       "    <tr>\n",
       "      <th>2</th>\n",
       "      <td>251620</td>\n",
       "      <td>2695</td>\n",
       "      <td>0.6</td>\n",
       "      <td>Mobile Suit Gundam 0083: The Fading Light of Zeon</td>\n",
       "      <td>Action, Sci-Fi, Adventure, Space, Mecha</td>\n",
       "    </tr>\n",
       "    <tr>\n",
       "      <th>3</th>\n",
       "      <td>152637</td>\n",
       "      <td>2695</td>\n",
       "      <td>0.0</td>\n",
       "      <td>Mobile Suit Gundam 0083: The Fading Light of Zeon</td>\n",
       "      <td>Action, Sci-Fi, Adventure, Space, Mecha</td>\n",
       "    </tr>\n",
       "    <tr>\n",
       "      <th>4</th>\n",
       "      <td>74911</td>\n",
       "      <td>2695</td>\n",
       "      <td>0.0</td>\n",
       "      <td>Mobile Suit Gundam 0083: The Fading Light of Zeon</td>\n",
       "      <td>Action, Sci-Fi, Adventure, Space, Mecha</td>\n",
       "    </tr>\n",
       "  </tbody>\n",
       "</table>\n",
       "</div>"
      ],
      "text/plain": [
       "   user_id  anime_id  rating  \\\n",
       "0   279596      2695     0.0   \n",
       "1   297666      2695     0.0   \n",
       "2   251620      2695     0.6   \n",
       "3   152637      2695     0.0   \n",
       "4    74911      2695     0.0   \n",
       "\n",
       "                                                Name  \\\n",
       "0  Mobile Suit Gundam 0083: The Fading Light of Zeon   \n",
       "1  Mobile Suit Gundam 0083: The Fading Light of Zeon   \n",
       "2  Mobile Suit Gundam 0083: The Fading Light of Zeon   \n",
       "3  Mobile Suit Gundam 0083: The Fading Light of Zeon   \n",
       "4  Mobile Suit Gundam 0083: The Fading Light of Zeon   \n",
       "\n",
       "                                    Genres  \n",
       "0  Action, Sci-Fi, Adventure, Space, Mecha  \n",
       "1  Action, Sci-Fi, Adventure, Space, Mecha  \n",
       "2  Action, Sci-Fi, Adventure, Space, Mecha  \n",
       "3  Action, Sci-Fi, Adventure, Space, Mecha  \n",
       "4  Action, Sci-Fi, Adventure, Space, Mecha  "
      ]
     },
     "execution_count": 6,
     "metadata": {},
     "output_type": "execute_result"
    }
   ],
   "source": [
    "rating_with_genres_df = rating_df.merge(animes_genres_df, on=\"anime_id\", how=\"inner\")\n",
    "rating_with_genres_df.head(5)"
   ]
  },
  {
   "cell_type": "code",
   "execution_count": 7,
   "metadata": {},
   "outputs": [
    {
     "data": {
      "text/html": [
       "<div>\n",
       "<style scoped>\n",
       "    .dataframe tbody tr th:only-of-type {\n",
       "        vertical-align: middle;\n",
       "    }\n",
       "\n",
       "    .dataframe tbody tr th {\n",
       "        vertical-align: top;\n",
       "    }\n",
       "\n",
       "    .dataframe thead th {\n",
       "        text-align: right;\n",
       "    }\n",
       "</style>\n",
       "<table border=\"1\" class=\"dataframe\">\n",
       "  <thead>\n",
       "    <tr style=\"text-align: right;\">\n",
       "      <th></th>\n",
       "      <th>user_id</th>\n",
       "      <th>anime_id</th>\n",
       "      <th>rating</th>\n",
       "      <th>Name</th>\n",
       "      <th>Genres</th>\n",
       "    </tr>\n",
       "  </thead>\n",
       "  <tbody>\n",
       "    <tr>\n",
       "      <th>2</th>\n",
       "      <td>251620</td>\n",
       "      <td>2695</td>\n",
       "      <td>0.6</td>\n",
       "      <td>Mobile Suit Gundam 0083: The Fading Light of Zeon</td>\n",
       "      <td>[Action,  Sci-Fi,  Adventure,  Space,  Mecha]</td>\n",
       "    </tr>\n",
       "    <tr>\n",
       "      <th>13</th>\n",
       "      <td>55748</td>\n",
       "      <td>2695</td>\n",
       "      <td>0.7</td>\n",
       "      <td>Mobile Suit Gundam 0083: The Fading Light of Zeon</td>\n",
       "      <td>[Action,  Sci-Fi,  Adventure,  Space,  Mecha]</td>\n",
       "    </tr>\n",
       "    <tr>\n",
       "      <th>16</th>\n",
       "      <td>90350</td>\n",
       "      <td>2695</td>\n",
       "      <td>0.5</td>\n",
       "      <td>Mobile Suit Gundam 0083: The Fading Light of Zeon</td>\n",
       "      <td>[Action,  Sci-Fi,  Adventure,  Space,  Mecha]</td>\n",
       "    </tr>\n",
       "    <tr>\n",
       "      <th>17</th>\n",
       "      <td>196906</td>\n",
       "      <td>2695</td>\n",
       "      <td>0.5</td>\n",
       "      <td>Mobile Suit Gundam 0083: The Fading Light of Zeon</td>\n",
       "      <td>[Action,  Sci-Fi,  Adventure,  Space,  Mecha]</td>\n",
       "    </tr>\n",
       "    <tr>\n",
       "      <th>18</th>\n",
       "      <td>310955</td>\n",
       "      <td>2695</td>\n",
       "      <td>0.6</td>\n",
       "      <td>Mobile Suit Gundam 0083: The Fading Light of Zeon</td>\n",
       "      <td>[Action,  Sci-Fi,  Adventure,  Space,  Mecha]</td>\n",
       "    </tr>\n",
       "  </tbody>\n",
       "</table>\n",
       "</div>"
      ],
      "text/plain": [
       "    user_id  anime_id  rating  \\\n",
       "2    251620      2695     0.6   \n",
       "13    55748      2695     0.7   \n",
       "16    90350      2695     0.5   \n",
       "17   196906      2695     0.5   \n",
       "18   310955      2695     0.6   \n",
       "\n",
       "                                                 Name  \\\n",
       "2   Mobile Suit Gundam 0083: The Fading Light of Zeon   \n",
       "13  Mobile Suit Gundam 0083: The Fading Light of Zeon   \n",
       "16  Mobile Suit Gundam 0083: The Fading Light of Zeon   \n",
       "17  Mobile Suit Gundam 0083: The Fading Light of Zeon   \n",
       "18  Mobile Suit Gundam 0083: The Fading Light of Zeon   \n",
       "\n",
       "                                           Genres  \n",
       "2   [Action,  Sci-Fi,  Adventure,  Space,  Mecha]  \n",
       "13  [Action,  Sci-Fi,  Adventure,  Space,  Mecha]  \n",
       "16  [Action,  Sci-Fi,  Adventure,  Space,  Mecha]  \n",
       "17  [Action,  Sci-Fi,  Adventure,  Space,  Mecha]  \n",
       "18  [Action,  Sci-Fi,  Adventure,  Space,  Mecha]  "
      ]
     },
     "execution_count": 7,
     "metadata": {},
     "output_type": "execute_result"
    }
   ],
   "source": [
    "rating_with_genres_df = rating_with_genres_df[rating_with_genres_df['rating'] > 0]\n",
    "# rating_with_genres_df.set_index(['user_id'], inplace=True)\n",
    "rating_with_genres_df['Genres'] = rating_with_genres_df['Genres'].str.split(pat=\",\", expand=False)\n",
    "rating_with_genres_df.head(5)"
   ]
  },
  {
   "cell_type": "markdown",
   "metadata": {},
   "source": [
    "# Convert the table to the user_id with corresponded feature representation."
   ]
  },
  {
   "cell_type": "code",
   "execution_count": 8,
   "metadata": {},
   "outputs": [],
   "source": [
    "rating_with_genres_dict = rating_with_genres_df.to_dict(orient='list')\n",
    "genres_list = rating_with_genres_dict.pop('Genres')\n",
    "rating_list = rating_with_genres_dict.pop('rating')"
   ]
  },
  {
   "cell_type": "code",
   "execution_count": 9,
   "metadata": {},
   "outputs": [
    {
     "name": "stderr",
     "output_type": "stream",
     "text": [
      "100%|██████████| 3405589/3405589 [00:10<00:00, 335556.31it/s]\n"
     ]
    }
   ],
   "source": [
    "from tqdm import tqdm\n",
    "\n",
    "genre_feature_np = []\n",
    "\n",
    "for i, genres in enumerate(tqdm(genres_list)):\n",
    "    feature_np = np.zeros((genre_num), dtype=float)\n",
    "    for genre in genres:\n",
    "        genre = genre.strip()\n",
    "        feature_np[genre2genre_idx[genre]] = rating_list[i]\n",
    "    genre_feature_np.append(feature_np)\n",
    "\n",
    "rating_with_genres_dict['genre_vector'] = genre_feature_np"
   ]
  },
  {
   "cell_type": "code",
   "execution_count": 22,
   "metadata": {},
   "outputs": [
    {
     "data": {
      "text/html": [
       "<div>\n",
       "<style scoped>\n",
       "    .dataframe tbody tr th:only-of-type {\n",
       "        vertical-align: middle;\n",
       "    }\n",
       "\n",
       "    .dataframe tbody tr th {\n",
       "        vertical-align: top;\n",
       "    }\n",
       "\n",
       "    .dataframe thead th {\n",
       "        text-align: right;\n",
       "    }\n",
       "</style>\n",
       "<table border=\"1\" class=\"dataframe\">\n",
       "  <thead>\n",
       "    <tr style=\"text-align: right;\">\n",
       "      <th></th>\n",
       "      <th>genre_vector</th>\n",
       "    </tr>\n",
       "    <tr>\n",
       "      <th>user_id</th>\n",
       "      <th></th>\n",
       "    </tr>\n",
       "  </thead>\n",
       "  <tbody>\n",
       "    <tr>\n",
       "      <th>146</th>\n",
       "      <td>[0.02133620137755008, 0.07410005073014013, 0.3...</td>\n",
       "    </tr>\n",
       "    <tr>\n",
       "      <th>240</th>\n",
       "      <td>[0.029401839550478273, 0.06558871899722075, 0....</td>\n",
       "    </tr>\n",
       "    <tr>\n",
       "      <th>436</th>\n",
       "      <td>[0.0236820575402239, 0.08513291374373591, 0.32...</td>\n",
       "    </tr>\n",
       "    <tr>\n",
       "      <th>446</th>\n",
       "      <td>[0.02361067826558718, 0.11031885879265745, 0.2...</td>\n",
       "    </tr>\n",
       "    <tr>\n",
       "      <th>781</th>\n",
       "      <td>[0.01581213518904316, 0.12810757676308096, 0.2...</td>\n",
       "    </tr>\n",
       "  </tbody>\n",
       "</table>\n",
       "</div>"
      ],
      "text/plain": [
       "                                              genre_vector\n",
       "user_id                                                   \n",
       "146      [0.02133620137755008, 0.07410005073014013, 0.3...\n",
       "240      [0.029401839550478273, 0.06558871899722075, 0....\n",
       "436      [0.0236820575402239, 0.08513291374373591, 0.32...\n",
       "446      [0.02361067826558718, 0.11031885879265745, 0.2...\n",
       "781      [0.01581213518904316, 0.12810757676308096, 0.2..."
      ]
     },
     "execution_count": 22,
     "metadata": {},
     "output_type": "execute_result"
    }
   ],
   "source": [
    "user_with_genre_vector = pd.DataFrame(rating_with_genres_dict)\n",
    "user_with_vector = user_with_genre_vector.groupby('user_id')[['genre_vector']].agg(lambda x: x.sum(axis=0))\n",
    "user_with_vector['genre_vector'] = user_with_vector['genre_vector'].transform(lambda x: x/np.linalg.norm(x))\n",
    "user_with_vector.head(5)"
   ]
  }
 ],
 "metadata": {
  "kernelspec": {
   "display_name": "Python 3.8.13 ('ml')",
   "language": "python",
   "name": "python3"
  },
  "language_info": {
   "codemirror_mode": {
    "name": "ipython",
    "version": 3
   },
   "file_extension": ".py",
   "mimetype": "text/x-python",
   "name": "python",
   "nbconvert_exporter": "python",
   "pygments_lexer": "ipython3",
   "version": "3.8.13"
  },
  "orig_nbformat": 4,
  "vscode": {
   "interpreter": {
    "hash": "cb2a16ad5343214987ec83273b09d3ac2f528968793a43e301f018a7f4736060"
   }
  }
 },
 "nbformat": 4,
 "nbformat_minor": 2
}
