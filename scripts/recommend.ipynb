{
 "cells": [
  {
   "cell_type": "markdown",
   "metadata": {},
   "source": [
    "# **The Genres of animes**"
   ]
  },
  {
   "cell_type": "code",
   "execution_count": 1,
   "metadata": {},
   "outputs": [
    {
     "name": "stdout",
     "output_type": "stream",
     "text": [
      "/mnt/c/Users/Yoshi/source/repos/Sideprojects/Anime_Recommender_system\n"
     ]
    }
   ],
   "source": [
    "%cd .."
   ]
  },
  {
   "cell_type": "markdown",
   "metadata": {},
   "source": [
    "# Load the library"
   ]
  },
  {
   "cell_type": "code",
   "execution_count": 2,
   "metadata": {},
   "outputs": [],
   "source": [
    "import numpy as np"
   ]
  },
  {
   "cell_type": "markdown",
   "metadata": {},
   "source": [
    "# load the anime data with its genre."
   ]
  },
  {
   "cell_type": "code",
   "execution_count": 3,
   "metadata": {},
   "outputs": [
    {
     "name": "stdout",
     "output_type": "stream",
     "text": [
      "Number of anime's types: 16214\n",
      "Set of genres: {'Shoujo', 'Kids', 'Romance', 'Fantasy', 'Thriller', 'Slice of Life', 'Seinen', 'Unknown', 'Shounen', 'Supernatural', 'Sports', 'Demons', 'Yaoi', 'Martial Arts', 'Psychological', 'Horror', 'Ecchi', 'Historical', 'Dementia', 'Drama', 'Adventure', 'Game', 'Parody', 'Military', 'Police', 'Josei', 'Action', 'Samurai', 'Mecha', 'Harem', 'Shounen Ai', 'Magic', 'Sci-Fi', 'Cars', 'Shoujo Ai', 'Comedy', 'Space', 'Super Power', 'Mystery', 'Vampire', 'Music', 'School'}\n",
      "Number of genre: 42\n"
     ]
    },
    {
     "data": {
      "text/html": [
       "<div>\n",
       "<style scoped>\n",
       "    .dataframe tbody tr th:only-of-type {\n",
       "        vertical-align: middle;\n",
       "    }\n",
       "\n",
       "    .dataframe tbody tr th {\n",
       "        vertical-align: top;\n",
       "    }\n",
       "\n",
       "    .dataframe thead th {\n",
       "        text-align: right;\n",
       "    }\n",
       "</style>\n",
       "<table border=\"1\" class=\"dataframe\">\n",
       "  <thead>\n",
       "    <tr style=\"text-align: right;\">\n",
       "      <th></th>\n",
       "      <th>anime_id</th>\n",
       "      <th>Name</th>\n",
       "      <th>Genres</th>\n",
       "    </tr>\n",
       "  </thead>\n",
       "  <tbody>\n",
       "    <tr>\n",
       "      <th>0</th>\n",
       "      <td>1</td>\n",
       "      <td>Cowboy Bebop</td>\n",
       "      <td>Action, Adventure, Comedy, Drama, Sci-Fi, Space</td>\n",
       "    </tr>\n",
       "    <tr>\n",
       "      <th>1</th>\n",
       "      <td>5</td>\n",
       "      <td>Cowboy Bebop: Tengoku no Tobira</td>\n",
       "      <td>Action, Drama, Mystery, Sci-Fi, Space</td>\n",
       "    </tr>\n",
       "    <tr>\n",
       "      <th>2</th>\n",
       "      <td>6</td>\n",
       "      <td>Trigun</td>\n",
       "      <td>Action, Sci-Fi, Adventure, Comedy, Drama, Shounen</td>\n",
       "    </tr>\n",
       "    <tr>\n",
       "      <th>3</th>\n",
       "      <td>7</td>\n",
       "      <td>Witch Hunter Robin</td>\n",
       "      <td>Action, Mystery, Police, Supernatural, Drama, ...</td>\n",
       "    </tr>\n",
       "    <tr>\n",
       "      <th>4</th>\n",
       "      <td>8</td>\n",
       "      <td>Bouken Ou Beet</td>\n",
       "      <td>Adventure, Fantasy, Shounen, Supernatural</td>\n",
       "    </tr>\n",
       "  </tbody>\n",
       "</table>\n",
       "</div>"
      ],
      "text/plain": [
       "   anime_id                             Name  \\\n",
       "0         1                     Cowboy Bebop   \n",
       "1         5  Cowboy Bebop: Tengoku no Tobira   \n",
       "2         6                           Trigun   \n",
       "3         7               Witch Hunter Robin   \n",
       "4         8                   Bouken Ou Beet   \n",
       "\n",
       "                                              Genres  \n",
       "0    Action, Adventure, Comedy, Drama, Sci-Fi, Space  \n",
       "1              Action, Drama, Mystery, Sci-Fi, Space  \n",
       "2  Action, Sci-Fi, Adventure, Comedy, Drama, Shounen  \n",
       "3  Action, Mystery, Police, Supernatural, Drama, ...  \n",
       "4          Adventure, Fantasy, Shounen, Supernatural  "
      ]
     },
     "execution_count": 3,
     "metadata": {},
     "output_type": "execute_result"
    }
   ],
   "source": [
    "import pandas as pd\n",
    "\n",
    "INPUT_DIR = './data'\n",
    "\n",
    "animes_genres_df = pd.read_csv(\n",
    "    INPUT_DIR + '/anime_with_synopsis.csv', \n",
    "    low_memory=False, \n",
    "    usecols=[\"MAL_ID\", \"Name\", \"Genres\"]\n",
    ")\n",
    "animes_genres_df.rename({\"MAL_ID\": \"anime_id\"}, inplace=True, axis=1)\n",
    "\n",
    "anime_num = len(animes_genres_df[\"anime_id\"].unique())\n",
    "print(f\"Number of anime's types: {anime_num}\")\n",
    "\n",
    "genre_seperate = animes_genres_df[\"Genres\"].str.split(pat=\",\", expand=True)\n",
    "genre_series = pd.concat([genre_seperate[col] for col in genre_seperate.columns])\n",
    "genre_set = set([item.strip() for item in genre_series.unique().tolist() if item is not None])\n",
    "print(f\"Set of genres: {genre_set}\")\n",
    "genre_num = len(genre_set)\n",
    "print(f\"Number of genre: {genre_num}\")\n",
    "\n",
    "animes_genres_df.head(5)"
   ]
  },
  {
   "cell_type": "code",
   "execution_count": 4,
   "metadata": {},
   "outputs": [],
   "source": [
    "genre2genre_idx = {x: i for i, x in enumerate(genre_set)}\n",
    "genre_idx2genre = {i: x for i, x in enumerate(genre_set)}"
   ]
  },
  {
   "cell_type": "markdown",
   "metadata": {},
   "source": [
    "# load the preprocessed user data with anime rating."
   ]
  },
  {
   "cell_type": "code",
   "execution_count": 5,
   "metadata": {},
   "outputs": [
    {
     "data": {
      "text/html": [
       "<div>\n",
       "<style scoped>\n",
       "    .dataframe tbody tr th:only-of-type {\n",
       "        vertical-align: middle;\n",
       "    }\n",
       "\n",
       "    .dataframe tbody tr th {\n",
       "        vertical-align: top;\n",
       "    }\n",
       "\n",
       "    .dataframe thead th {\n",
       "        text-align: right;\n",
       "    }\n",
       "</style>\n",
       "<table border=\"1\" class=\"dataframe\">\n",
       "  <thead>\n",
       "    <tr style=\"text-align: right;\">\n",
       "      <th></th>\n",
       "      <th>user_id</th>\n",
       "      <th>anime_id</th>\n",
       "      <th>rating</th>\n",
       "    </tr>\n",
       "  </thead>\n",
       "  <tbody>\n",
       "    <tr>\n",
       "      <th>0</th>\n",
       "      <td>279596</td>\n",
       "      <td>2695</td>\n",
       "      <td>0.0</td>\n",
       "    </tr>\n",
       "    <tr>\n",
       "      <th>1</th>\n",
       "      <td>121782</td>\n",
       "      <td>15505</td>\n",
       "      <td>0.0</td>\n",
       "    </tr>\n",
       "    <tr>\n",
       "      <th>2</th>\n",
       "      <td>160479</td>\n",
       "      <td>39085</td>\n",
       "      <td>0.0</td>\n",
       "    </tr>\n",
       "    <tr>\n",
       "      <th>3</th>\n",
       "      <td>53950</td>\n",
       "      <td>32245</td>\n",
       "      <td>0.0</td>\n",
       "    </tr>\n",
       "    <tr>\n",
       "      <th>4</th>\n",
       "      <td>86402</td>\n",
       "      <td>35860</td>\n",
       "      <td>0.8</td>\n",
       "    </tr>\n",
       "  </tbody>\n",
       "</table>\n",
       "</div>"
      ],
      "text/plain": [
       "   user_id  anime_id  rating\n",
       "0   279596      2695     0.0\n",
       "1   121782     15505     0.0\n",
       "2   160479     39085     0.0\n",
       "3    53950     32245     0.0\n",
       "4    86402     35860     0.8"
      ]
     },
     "execution_count": 5,
     "metadata": {},
     "output_type": "execute_result"
    }
   ],
   "source": [
    "rating_df = pd.read_csv(INPUT_DIR + '/preprocessed_animelist.csv', \n",
    "                        low_memory=False, \n",
    "                        usecols=[\"user_id\", \"anime_id\", \"rating\"]\n",
    "                        )\n",
    "\n",
    "rating_df.head(5)"
   ]
  },
  {
   "cell_type": "markdown",
   "metadata": {},
   "source": [
    "# Join two different table"
   ]
  },
  {
   "cell_type": "code",
   "execution_count": 6,
   "metadata": {},
   "outputs": [
    {
     "data": {
      "text/html": [
       "<div>\n",
       "<style scoped>\n",
       "    .dataframe tbody tr th:only-of-type {\n",
       "        vertical-align: middle;\n",
       "    }\n",
       "\n",
       "    .dataframe tbody tr th {\n",
       "        vertical-align: top;\n",
       "    }\n",
       "\n",
       "    .dataframe thead th {\n",
       "        text-align: right;\n",
       "    }\n",
       "</style>\n",
       "<table border=\"1\" class=\"dataframe\">\n",
       "  <thead>\n",
       "    <tr style=\"text-align: right;\">\n",
       "      <th></th>\n",
       "      <th>user_id</th>\n",
       "      <th>anime_id</th>\n",
       "      <th>rating</th>\n",
       "      <th>Name</th>\n",
       "      <th>Genres</th>\n",
       "    </tr>\n",
       "  </thead>\n",
       "  <tbody>\n",
       "    <tr>\n",
       "      <th>0</th>\n",
       "      <td>279596</td>\n",
       "      <td>2695</td>\n",
       "      <td>0.0</td>\n",
       "      <td>Mobile Suit Gundam 0083: The Fading Light of Zeon</td>\n",
       "      <td>Action, Sci-Fi, Adventure, Space, Mecha</td>\n",
       "    </tr>\n",
       "    <tr>\n",
       "      <th>1</th>\n",
       "      <td>297666</td>\n",
       "      <td>2695</td>\n",
       "      <td>0.0</td>\n",
       "      <td>Mobile Suit Gundam 0083: The Fading Light of Zeon</td>\n",
       "      <td>Action, Sci-Fi, Adventure, Space, Mecha</td>\n",
       "    </tr>\n",
       "    <tr>\n",
       "      <th>2</th>\n",
       "      <td>251620</td>\n",
       "      <td>2695</td>\n",
       "      <td>0.6</td>\n",
       "      <td>Mobile Suit Gundam 0083: The Fading Light of Zeon</td>\n",
       "      <td>Action, Sci-Fi, Adventure, Space, Mecha</td>\n",
       "    </tr>\n",
       "    <tr>\n",
       "      <th>3</th>\n",
       "      <td>152637</td>\n",
       "      <td>2695</td>\n",
       "      <td>0.0</td>\n",
       "      <td>Mobile Suit Gundam 0083: The Fading Light of Zeon</td>\n",
       "      <td>Action, Sci-Fi, Adventure, Space, Mecha</td>\n",
       "    </tr>\n",
       "    <tr>\n",
       "      <th>4</th>\n",
       "      <td>74911</td>\n",
       "      <td>2695</td>\n",
       "      <td>0.0</td>\n",
       "      <td>Mobile Suit Gundam 0083: The Fading Light of Zeon</td>\n",
       "      <td>Action, Sci-Fi, Adventure, Space, Mecha</td>\n",
       "    </tr>\n",
       "  </tbody>\n",
       "</table>\n",
       "</div>"
      ],
      "text/plain": [
       "   user_id  anime_id  rating  \\\n",
       "0   279596      2695     0.0   \n",
       "1   297666      2695     0.0   \n",
       "2   251620      2695     0.6   \n",
       "3   152637      2695     0.0   \n",
       "4    74911      2695     0.0   \n",
       "\n",
       "                                                Name  \\\n",
       "0  Mobile Suit Gundam 0083: The Fading Light of Zeon   \n",
       "1  Mobile Suit Gundam 0083: The Fading Light of Zeon   \n",
       "2  Mobile Suit Gundam 0083: The Fading Light of Zeon   \n",
       "3  Mobile Suit Gundam 0083: The Fading Light of Zeon   \n",
       "4  Mobile Suit Gundam 0083: The Fading Light of Zeon   \n",
       "\n",
       "                                    Genres  \n",
       "0  Action, Sci-Fi, Adventure, Space, Mecha  \n",
       "1  Action, Sci-Fi, Adventure, Space, Mecha  \n",
       "2  Action, Sci-Fi, Adventure, Space, Mecha  \n",
       "3  Action, Sci-Fi, Adventure, Space, Mecha  \n",
       "4  Action, Sci-Fi, Adventure, Space, Mecha  "
      ]
     },
     "execution_count": 6,
     "metadata": {},
     "output_type": "execute_result"
    }
   ],
   "source": [
    "rating_with_genres_df = rating_df.merge(animes_genres_df, on=\"anime_id\", how=\"inner\")\n",
    "rating_with_genres_df.head(5)"
   ]
  },
  {
   "cell_type": "code",
   "execution_count": 7,
   "metadata": {},
   "outputs": [
    {
     "data": {
      "text/html": [
       "<div>\n",
       "<style scoped>\n",
       "    .dataframe tbody tr th:only-of-type {\n",
       "        vertical-align: middle;\n",
       "    }\n",
       "\n",
       "    .dataframe tbody tr th {\n",
       "        vertical-align: top;\n",
       "    }\n",
       "\n",
       "    .dataframe thead th {\n",
       "        text-align: right;\n",
       "    }\n",
       "</style>\n",
       "<table border=\"1\" class=\"dataframe\">\n",
       "  <thead>\n",
       "    <tr style=\"text-align: right;\">\n",
       "      <th></th>\n",
       "      <th>user_id</th>\n",
       "      <th>anime_id</th>\n",
       "      <th>rating</th>\n",
       "      <th>Name</th>\n",
       "      <th>Genres</th>\n",
       "    </tr>\n",
       "  </thead>\n",
       "  <tbody>\n",
       "    <tr>\n",
       "      <th>2</th>\n",
       "      <td>251620</td>\n",
       "      <td>2695</td>\n",
       "      <td>0.6</td>\n",
       "      <td>Mobile Suit Gundam 0083: The Fading Light of Zeon</td>\n",
       "      <td>[Action,  Sci-Fi,  Adventure,  Space,  Mecha]</td>\n",
       "    </tr>\n",
       "    <tr>\n",
       "      <th>13</th>\n",
       "      <td>55748</td>\n",
       "      <td>2695</td>\n",
       "      <td>0.7</td>\n",
       "      <td>Mobile Suit Gundam 0083: The Fading Light of Zeon</td>\n",
       "      <td>[Action,  Sci-Fi,  Adventure,  Space,  Mecha]</td>\n",
       "    </tr>\n",
       "    <tr>\n",
       "      <th>16</th>\n",
       "      <td>90350</td>\n",
       "      <td>2695</td>\n",
       "      <td>0.5</td>\n",
       "      <td>Mobile Suit Gundam 0083: The Fading Light of Zeon</td>\n",
       "      <td>[Action,  Sci-Fi,  Adventure,  Space,  Mecha]</td>\n",
       "    </tr>\n",
       "    <tr>\n",
       "      <th>17</th>\n",
       "      <td>196906</td>\n",
       "      <td>2695</td>\n",
       "      <td>0.5</td>\n",
       "      <td>Mobile Suit Gundam 0083: The Fading Light of Zeon</td>\n",
       "      <td>[Action,  Sci-Fi,  Adventure,  Space,  Mecha]</td>\n",
       "    </tr>\n",
       "    <tr>\n",
       "      <th>18</th>\n",
       "      <td>310955</td>\n",
       "      <td>2695</td>\n",
       "      <td>0.6</td>\n",
       "      <td>Mobile Suit Gundam 0083: The Fading Light of Zeon</td>\n",
       "      <td>[Action,  Sci-Fi,  Adventure,  Space,  Mecha]</td>\n",
       "    </tr>\n",
       "  </tbody>\n",
       "</table>\n",
       "</div>"
      ],
      "text/plain": [
       "    user_id  anime_id  rating  \\\n",
       "2    251620      2695     0.6   \n",
       "13    55748      2695     0.7   \n",
       "16    90350      2695     0.5   \n",
       "17   196906      2695     0.5   \n",
       "18   310955      2695     0.6   \n",
       "\n",
       "                                                 Name  \\\n",
       "2   Mobile Suit Gundam 0083: The Fading Light of Zeon   \n",
       "13  Mobile Suit Gundam 0083: The Fading Light of Zeon   \n",
       "16  Mobile Suit Gundam 0083: The Fading Light of Zeon   \n",
       "17  Mobile Suit Gundam 0083: The Fading Light of Zeon   \n",
       "18  Mobile Suit Gundam 0083: The Fading Light of Zeon   \n",
       "\n",
       "                                           Genres  \n",
       "2   [Action,  Sci-Fi,  Adventure,  Space,  Mecha]  \n",
       "13  [Action,  Sci-Fi,  Adventure,  Space,  Mecha]  \n",
       "16  [Action,  Sci-Fi,  Adventure,  Space,  Mecha]  \n",
       "17  [Action,  Sci-Fi,  Adventure,  Space,  Mecha]  \n",
       "18  [Action,  Sci-Fi,  Adventure,  Space,  Mecha]  "
      ]
     },
     "execution_count": 7,
     "metadata": {},
     "output_type": "execute_result"
    }
   ],
   "source": [
    "rating_with_genres_df = rating_with_genres_df[rating_with_genres_df['rating'] > 0]\n",
    "# rating_with_genres_df.set_index(['user_id'], inplace=True)\n",
    "rating_with_genres_df['Genres'] = rating_with_genres_df['Genres'].str.split(pat=\",\", expand=False)\n",
    "rating_with_genres_df.head(5)"
   ]
  },
  {
   "cell_type": "markdown",
   "metadata": {},
   "source": [
    "# Convert the table to the user_id with corresponded feature representation."
   ]
  },
  {
   "cell_type": "code",
   "execution_count": 8,
   "metadata": {},
   "outputs": [],
   "source": [
    "rating_with_genres_dict = rating_with_genres_df.to_dict(orient='list')\n",
    "genres_list = rating_with_genres_dict.pop('Genres')\n",
    "rating_list = rating_with_genres_dict.pop('rating')"
   ]
  },
  {
   "cell_type": "code",
   "execution_count": 9,
   "metadata": {},
   "outputs": [
    {
     "name": "stderr",
     "output_type": "stream",
     "text": [
      "100%|██████████| 3405589/3405589 [00:09<00:00, 355544.61it/s]\n"
     ]
    }
   ],
   "source": [
    "from tqdm import tqdm\n",
    "\n",
    "genre_feature_np = []\n",
    "\n",
    "for i, genres in enumerate(tqdm(genres_list)):\n",
    "    feature_np = np.zeros((genre_num), dtype=float)\n",
    "    for genre in genres:\n",
    "        genre = genre.strip()\n",
    "        feature_np[genre2genre_idx[genre]] = rating_list[i]\n",
    "    genre_feature_np.append(feature_np)\n",
    "\n",
    "rating_with_genres_dict['genre_vector'] = genre_feature_np"
   ]
  },
  {
   "cell_type": "code",
   "execution_count": 10,
   "metadata": {},
   "outputs": [
    {
     "data": {
      "text/html": [
       "<div>\n",
       "<style scoped>\n",
       "    .dataframe tbody tr th:only-of-type {\n",
       "        vertical-align: middle;\n",
       "    }\n",
       "\n",
       "    .dataframe tbody tr th {\n",
       "        vertical-align: top;\n",
       "    }\n",
       "\n",
       "    .dataframe thead th {\n",
       "        text-align: right;\n",
       "    }\n",
       "</style>\n",
       "<table border=\"1\" class=\"dataframe\">\n",
       "  <thead>\n",
       "    <tr style=\"text-align: right;\">\n",
       "      <th></th>\n",
       "      <th>user_id</th>\n",
       "      <th>genre_vector</th>\n",
       "    </tr>\n",
       "  </thead>\n",
       "  <tbody>\n",
       "    <tr>\n",
       "      <th>0</th>\n",
       "      <td>146</td>\n",
       "      <td>[0.1917374853523082, 0.0025949434107831173, 0....</td>\n",
       "    </tr>\n",
       "    <tr>\n",
       "      <th>1</th>\n",
       "      <td>240</td>\n",
       "      <td>[0.009951391847854183, 0.021259791674961215, 0...</td>\n",
       "    </tr>\n",
       "    <tr>\n",
       "      <th>2</th>\n",
       "      <td>436</td>\n",
       "      <td>[0.03491061930498524, 0.0014290896791514423, 0...</td>\n",
       "    </tr>\n",
       "    <tr>\n",
       "      <th>3</th>\n",
       "      <td>446</td>\n",
       "      <td>[0.039486823995895814, 0.006513290556024052, 0...</td>\n",
       "    </tr>\n",
       "    <tr>\n",
       "      <th>4</th>\n",
       "      <td>781</td>\n",
       "      <td>[0.0393107249838712, 0.05666015109407131, 0.17...</td>\n",
       "    </tr>\n",
       "  </tbody>\n",
       "</table>\n",
       "</div>"
      ],
      "text/plain": [
       "   user_id                                       genre_vector\n",
       "0      146  [0.1917374853523082, 0.0025949434107831173, 0....\n",
       "1      240  [0.009951391847854183, 0.021259791674961215, 0...\n",
       "2      436  [0.03491061930498524, 0.0014290896791514423, 0...\n",
       "3      446  [0.039486823995895814, 0.006513290556024052, 0...\n",
       "4      781  [0.0393107249838712, 0.05666015109407131, 0.17..."
      ]
     },
     "execution_count": 10,
     "metadata": {},
     "output_type": "execute_result"
    }
   ],
   "source": [
    "user_with_genre_vector = pd.DataFrame(rating_with_genres_dict)\n",
    "user_with_vector = user_with_genre_vector.groupby('user_id')[['genre_vector']].agg(lambda x: x.sum(axis=0))\n",
    "user_with_vector['genre_vector'] = user_with_vector['genre_vector'].transform(lambda x: x/np.linalg.norm(x))\n",
    "user_with_vector.reset_index(inplace=True)\n",
    "user_with_vector.head(5)"
   ]
  },
  {
   "cell_type": "markdown",
   "metadata": {},
   "source": [
    "user_id with its corresponding index"
   ]
  },
  {
   "cell_type": "code",
   "execution_count": 11,
   "metadata": {},
   "outputs": [],
   "source": [
    "user_with_vector_dict = user_with_vector.to_dict(orient='list')\n",
    "user_id2user_id_idx = {x: i for i, x in enumerate(user_with_vector_dict['user_id'])}\n",
    "user_id_idx2user_id = {i: x for i, x in enumerate(user_with_vector_dict['user_id'])}"
   ]
  },
  {
   "cell_type": "markdown",
   "metadata": {},
   "source": [
    "user feature matrix"
   ]
  },
  {
   "cell_type": "code",
   "execution_count": 12,
   "metadata": {},
   "outputs": [],
   "source": [
    "user_feature_matrix = np.vstack(user_with_vector_dict['genre_vector'])"
   ]
  },
  {
   "cell_type": "markdown",
   "metadata": {},
   "source": [
    "# User feature mapping"
   ]
  },
  {
   "cell_type": "markdown",
   "metadata": {},
   "source": [
    "generate input feature"
   ]
  },
  {
   "cell_type": "code",
   "execution_count": 13,
   "metadata": {},
   "outputs": [],
   "source": [
    "input_feature = {\"Super Power\": 1}\n",
    "input_feature_np = np.zeros((genre_num), dtype=float)\n",
    "for genre, score in input_feature.items():\n",
    "    input_feature_np[genre2genre_idx[genre]] = score"
   ]
  },
  {
   "cell_type": "code",
   "execution_count": 14,
   "metadata": {},
   "outputs": [
    {
     "name": "stdout",
     "output_type": "stream",
     "text": [
      "Most similar user_id: 206731\n"
     ]
    }
   ],
   "source": [
    "most_similar_user_id = user_id_idx2user_id[np.argmax(np.inner(user_feature_matrix, input_feature_np))]\n",
    "print(f\"Most similar user_id: {most_similar_user_id}\")"
   ]
  },
  {
   "cell_type": "code",
   "execution_count": 15,
   "metadata": {},
   "outputs": [
    {
     "name": "stdout",
     "output_type": "stream",
     "text": [
      "[0.         0.         0.46932325 0.         0.         0.\n",
      " 0.14079698 0.         0.         0.         0.         0.\n",
      " 0.         0.         0.         0.14079698 0.         0.\n",
      " 0.         0.14079698 0.         0.         0.         0.\n",
      " 0.         0.         0.14079698 0.         0.         0.\n",
      " 0.         0.         0.14079698 0.         0.         0.46932325\n",
      " 0.14079698 0.46932325 0.         0.         0.         0.46932325]\n",
      "37\n"
     ]
    }
   ],
   "source": [
    "a = np.argmax(np.inner(user_feature_matrix, input_feature_np))\n",
    "print(user_feature_matrix[a])\n",
    "print(genre2genre_idx['Super Power'])\n",
    "#print(genre2genre_idx['Romance'])"
   ]
  },
  {
   "cell_type": "markdown",
   "metadata": {},
   "source": [
    "# Model predict"
   ]
  },
  {
   "cell_type": "markdown",
   "metadata": {},
   "source": [
    "load encoder config"
   ]
  },
  {
   "cell_type": "code",
   "execution_count": 16,
   "metadata": {},
   "outputs": [
    {
     "name": "stdout",
     "output_type": "stream",
     "text": [
      "['user2user_encoded', 'user_encoded2user', 'anime2anime_encoded', 'anime_encoded2anime']\n"
     ]
    }
   ],
   "source": [
    "import json\n",
    "\n",
    "INPUT_DIR = \"./model\"\n",
    "\n",
    "with open(INPUT_DIR + \"/encode_config.json\") as f:\n",
    "    encoder_conig = json.load(f)\n",
    "\n",
    "print(list(encoder_conig.keys()))"
   ]
  },
  {
   "cell_type": "code",
   "execution_count": 17,
   "metadata": {},
   "outputs": [
    {
     "name": "stdout",
     "output_type": "stream",
     "text": [
      "Num of users: 2463, Num of animes: 17558\n"
     ]
    }
   ],
   "source": [
    "user2user_encoded = encoder_conig['user2user_encoded']\n",
    "user_encoded2user = encoder_conig['user_encoded2user']\n",
    "anime2anime_encoded = encoder_conig['anime2anime_encoded']\n",
    "anime_encoded2anime = encoder_conig['anime_encoded2anime']\n",
    "\n",
    "n_users = len(user2user_encoded)\n",
    "n_animes = len(anime2anime_encoded)\n",
    "print(\"Num of users: {}, Num of animes: {}\".format(n_users, n_animes))"
   ]
  },
  {
   "cell_type": "markdown",
   "metadata": {},
   "source": [
    "Import the model"
   ]
  },
  {
   "cell_type": "code",
   "execution_count": 47,
   "metadata": {},
   "outputs": [
    {
     "data": {
      "text/plain": [
       "FactorizationMachineModel(\n",
       "  (embedding): FeaturesEmbedding(\n",
       "    (embedding): Embedding(20021, 16)\n",
       "  )\n",
       "  (linear): FeaturesLinear(\n",
       "    (fc): Embedding(20021, 1)\n",
       "  )\n",
       "  (fm): FactorizationMachine()\n",
       ")"
      ]
     },
     "execution_count": 47,
     "metadata": {},
     "output_type": "execute_result"
    }
   ],
   "source": [
    "import torch\n",
    "from recommender.ranking_base_filter.model import FactorizationMachineModel\n",
    "\n",
    "\n",
    "model = torch.load(INPUT_DIR + \"/model_mse.pt\")\n",
    "model.eval()"
   ]
  },
  {
   "cell_type": "markdown",
   "metadata": {},
   "source": [
    "load the data"
   ]
  },
  {
   "cell_type": "code",
   "execution_count": 48,
   "metadata": {},
   "outputs": [],
   "source": [
    "most_similar_user_id_encode = user2user_encoded[str(most_similar_user_id)]\n",
    "user_id_with_all_anime = [[most_similar_user_id_encode, anime_id_encode] for anime_id_encode in range(n_animes)]\n",
    "user_id_with_all_anime_t = torch.tensor(user_id_with_all_anime)"
   ]
  },
  {
   "cell_type": "code",
   "execution_count": 49,
   "metadata": {},
   "outputs": [],
   "source": [
    "top_n_recommend = 5\n",
    "\n",
    "output = model(user_id_with_all_anime_t)\n",
    "output = output.squeeze()\n",
    "output_sort_asc = output.argsort(descending=True)[:top_n_recommend].tolist()"
   ]
  },
  {
   "cell_type": "code",
   "execution_count": 50,
   "metadata": {},
   "outputs": [
    {
     "name": "stdout",
     "output_type": "stream",
     "text": [
      "[17134, 17543, 17550, 17534, 17518]\n"
     ]
    }
   ],
   "source": [
    "print(output_sort_asc)"
   ]
  },
  {
   "cell_type": "code",
   "execution_count": 51,
   "metadata": {},
   "outputs": [
    {
     "name": "stdout",
     "output_type": "stream",
     "text": [
      "tensor(1.0000, grad_fn=<SelectBackward0>)\n"
     ]
    }
   ],
   "source": [
    "print(output[17134])"
   ]
  },
  {
   "cell_type": "code",
   "execution_count": 36,
   "metadata": {},
   "outputs": [],
   "source": [
    "top_n_anime_id = []\n",
    "for idx in output_sort_asc:\n",
    "    top_n_anime_id.append(anime_encoded2anime[str(idx)])"
   ]
  },
  {
   "cell_type": "code",
   "execution_count": 37,
   "metadata": {},
   "outputs": [
    {
     "name": "stdout",
     "output_type": "stream",
     "text": [
      "[48483, 48422, 47623, 48481, 48492]\n"
     ]
    }
   ],
   "source": [
    "print(top_n_anime_id)"
   ]
  }
 ],
 "metadata": {
  "kernelspec": {
   "display_name": "Python 3.8.13 ('ml')",
   "language": "python",
   "name": "python3"
  },
  "language_info": {
   "codemirror_mode": {
    "name": "ipython",
    "version": 3
   },
   "file_extension": ".py",
   "mimetype": "text/x-python",
   "name": "python",
   "nbconvert_exporter": "python",
   "pygments_lexer": "ipython3",
   "version": "3.8.13"
  },
  "orig_nbformat": 4,
  "vscode": {
   "interpreter": {
    "hash": "cb2a16ad5343214987ec83273b09d3ac2f528968793a43e301f018a7f4736060"
   }
  }
 },
 "nbformat": 4,
 "nbformat_minor": 2
}
