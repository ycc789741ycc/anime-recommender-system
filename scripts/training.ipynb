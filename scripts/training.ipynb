{
 "cells": [
  {
   "cell_type": "markdown",
   "metadata": {},
   "source": [
    "# **Prepare for environment**"
   ]
  },
  {
   "cell_type": "markdown",
   "metadata": {},
   "source": [
    "Colab"
   ]
  },
  {
   "cell_type": "code",
   "execution_count": 2,
   "metadata": {},
   "outputs": [],
   "source": [
    "# !git clone https://github.com/ycc789741ycc/anime-recommender-system.git\n",
    "# %cd /content/anime-recommender-system/\n",
    "# !gdown --id 1sIT71hnPdT8rPbqm3j9q_yjkRE-cCjjM\n",
    "# !mkdir data\n",
    "# !mkdir model\n",
    "# !mv animelist.csv.zip ./data\n",
    "# !unzip ./data/animelist.csv.zip\n",
    "# !mv animelist.csv ./data"
   ]
  },
  {
   "cell_type": "markdown",
   "metadata": {},
   "source": [
    "local"
   ]
  },
  {
   "cell_type": "code",
   "execution_count": 3,
   "metadata": {},
   "outputs": [
    {
     "name": "stdout",
     "output_type": "stream",
     "text": [
      "/mnt/c/Users/Yoshi/source/repos/Sideprojects/Anime_Recommender_system\n"
     ]
    }
   ],
   "source": [
    "%cd .."
   ]
  },
  {
   "cell_type": "markdown",
   "metadata": {},
   "source": [
    "# **Logger setting**"
   ]
  },
  {
   "cell_type": "code",
   "execution_count": 2,
   "metadata": {},
   "outputs": [],
   "source": [
    "import logging\n",
    "\n",
    "logger = logging.getLogger()\n",
    "\n",
    "chandler = logging.StreamHandler()\n",
    "chandler.setLevel(logging.DEBUG)\n",
    "\n",
    "logger.addHandler(chandler)\n",
    "logger.setLevel(logging.INFO)\n"
   ]
  },
  {
   "cell_type": "markdown",
   "metadata": {},
   "source": [
    "# **Load Data (If have the preprocessed data then can skip.)**"
   ]
  },
  {
   "cell_type": "code",
   "execution_count": 3,
   "metadata": {},
   "outputs": [
    {
     "name": "stdout",
     "output_type": "stream",
     "text": [
      "animelist_min.csv\n"
     ]
    }
   ],
   "source": [
    "INPUT_DIR = './data'\n",
    "!ls {INPUT_DIR}"
   ]
  },
  {
   "cell_type": "code",
   "execution_count": 4,
   "metadata": {},
   "outputs": [
    {
     "data": {
      "text/html": [
       "<div>\n",
       "<style scoped>\n",
       "    .dataframe tbody tr th:only-of-type {\n",
       "        vertical-align: middle;\n",
       "    }\n",
       "\n",
       "    .dataframe tbody tr th {\n",
       "        vertical-align: top;\n",
       "    }\n",
       "\n",
       "    .dataframe thead th {\n",
       "        text-align: right;\n",
       "    }\n",
       "</style>\n",
       "<table border=\"1\" class=\"dataframe\">\n",
       "  <thead>\n",
       "    <tr style=\"text-align: right;\">\n",
       "      <th></th>\n",
       "      <th>user_id</th>\n",
       "      <th>anime_id</th>\n",
       "      <th>rating</th>\n",
       "    </tr>\n",
       "  </thead>\n",
       "  <tbody>\n",
       "    <tr>\n",
       "      <th>0</th>\n",
       "      <td>0</td>\n",
       "      <td>67</td>\n",
       "      <td>9</td>\n",
       "    </tr>\n",
       "    <tr>\n",
       "      <th>1</th>\n",
       "      <td>0</td>\n",
       "      <td>6702</td>\n",
       "      <td>7</td>\n",
       "    </tr>\n",
       "    <tr>\n",
       "      <th>2</th>\n",
       "      <td>0</td>\n",
       "      <td>242</td>\n",
       "      <td>10</td>\n",
       "    </tr>\n",
       "    <tr>\n",
       "      <th>3</th>\n",
       "      <td>0</td>\n",
       "      <td>4898</td>\n",
       "      <td>0</td>\n",
       "    </tr>\n",
       "  </tbody>\n",
       "</table>\n",
       "</div>"
      ],
      "text/plain": [
       "   user_id  anime_id  rating\n",
       "0        0        67       9\n",
       "1        0      6702       7\n",
       "2        0       242      10\n",
       "3        0      4898       0"
      ]
     },
     "execution_count": 4,
     "metadata": {},
     "output_type": "execute_result"
    }
   ],
   "source": [
    "import numpy as np\n",
    "import pandas as pd\n",
    "\n",
    "rating_df_iter = pd.read_csv(INPUT_DIR + '/animelist_min.csv', \n",
    "                        low_memory=False, \n",
    "                        engine='c',\n",
    "                        usecols=[\"user_id\", \"anime_id\", \"rating\"],\n",
    "                        chunksize=10000\n",
    "                        )\n",
    "\n",
    "rating_df = pd.concat(rating_df_iter)\n",
    "\n",
    "# rating_df = pd.read_csv(INPUT_DIR + '/animelist_min.csv', \n",
    "#                         low_memory=False, \n",
    "#                         usecols=[\"user_id\", \"anime_id\", \"rating\"]\n",
    "#                         )\n",
    "\n",
    "rating_df.head(4)"
   ]
  },
  {
   "cell_type": "code",
   "execution_count": 5,
   "metadata": {},
   "outputs": [
    {
     "data": {
      "text/plain": [
       "10801"
      ]
     },
     "execution_count": 5,
     "metadata": {},
     "output_type": "execute_result"
    }
   ],
   "source": [
    "# User should rate atleast 400 animies\n",
    "n_ratings = rating_df['user_id'].value_counts()\n",
    "rating_df = rating_df[rating_df['user_id'].isin(n_ratings[n_ratings >= 400].index)].copy()\n",
    "len(rating_df)"
   ]
  },
  {
   "cell_type": "code",
   "execution_count": 6,
   "metadata": {},
   "outputs": [
    {
     "name": "stdout",
     "output_type": "stream",
     "text": [
      "Avg 0.33328395518933435\n"
     ]
    }
   ],
   "source": [
    "# Scaling BTW (0 , 1.0)\n",
    "min_rating = min(rating_df['rating'])\n",
    "max_rating = max(rating_df['rating'])\n",
    "rating_df['rating'] = rating_df[\"rating\"].apply(lambda x: (x - min_rating) / (max_rating - min_rating)).values.astype(np.float64)\n",
    "\n",
    "AvgRating = np.mean(rating_df['rating'])\n",
    "print('Avg', AvgRating)"
   ]
  },
  {
   "cell_type": "code",
   "execution_count": 7,
   "metadata": {},
   "outputs": [
    {
     "name": "stdout",
     "output_type": "stream",
     "text": [
      "> 0 duplicates\n"
     ]
    }
   ],
   "source": [
    "# Removing Duplicated Rows\n",
    "duplicates = rating_df.duplicated()\n",
    "\n",
    "if duplicates.sum() > 0:\n",
    "    print('> {} duplicates'.format(duplicates.sum()))\n",
    "    rating_df = rating_df[~duplicates]\n",
    "\n",
    "print('> {} duplicates'.format(rating_df.duplicated().sum()))"
   ]
  },
  {
   "cell_type": "markdown",
   "metadata": {},
   "source": [
    "## **Data Preprocessing (If have the preprocessed data then can skip.)**"
   ]
  },
  {
   "cell_type": "code",
   "execution_count": 8,
   "metadata": {},
   "outputs": [
    {
     "name": "stdout",
     "output_type": "stream",
     "text": [
      "Num of users: 14, Num of animes: 4221\n",
      "Min rating: 0.0, Max rating: 1.0\n"
     ]
    }
   ],
   "source": [
    "# Encoding categorical data\n",
    "user_ids = rating_df[\"user_id\"].unique().tolist()\n",
    "user2user_encoded = {x: i for i, x in enumerate(user_ids)}\n",
    "user_encoded2user = {i: x for i, x in enumerate(user_ids)}\n",
    "rating_df[\"user\"] = rating_df[\"user_id\"].map(user2user_encoded)\n",
    "n_users = len(user2user_encoded)\n",
    "\n",
    "anime_ids = rating_df[\"anime_id\"].unique().tolist()\n",
    "anime2anime_encoded = {x: i for i, x in enumerate(anime_ids)}\n",
    "anime_encoded2anime = {i: x for i, x in enumerate(anime_ids)}\n",
    "rating_df[\"anime\"] = rating_df[\"anime_id\"].map(anime2anime_encoded)\n",
    "n_animes = len(anime2anime_encoded)\n",
    "\n",
    "field_dims = [n_users, n_animes]\n",
    "\n",
    "print(\"Num of users: {}, Num of animes: {}\".format(n_users, n_animes))\n",
    "print(\"Min rating: {}, Max rating: {}\".format(min(rating_df['rating']), max(rating_df['rating'])))"
   ]
  },
  {
   "cell_type": "code",
   "execution_count": 9,
   "metadata": {},
   "outputs": [],
   "source": [
    "# Shuffle\n",
    "rating_df = rating_df.sample(frac=1, random_state=73).copy(deep=False)\n",
    "\n",
    "df_x = rating_df[['user', 'anime']].copy(deep=False)\n",
    "df_y = rating_df[[\"rating\"]].copy(deep=False)"
   ]
  },
  {
   "cell_type": "markdown",
   "metadata": {},
   "source": [
    "Save the preprocessed data"
   ]
  },
  {
   "cell_type": "code",
   "execution_count": null,
   "metadata": {},
   "outputs": [],
   "source": [
    "compression_opts = dict(method='zip', archive_name='preprocessed_animelist.csv')  \n",
    "rating_df.to_csv('preprocessed_animelist.csv.zip', index=False, compression=compression_opts)"
   ]
  },
  {
   "cell_type": "markdown",
   "metadata": {},
   "source": [
    "export the encode config"
   ]
  },
  {
   "cell_type": "code",
   "execution_count": 13,
   "metadata": {},
   "outputs": [],
   "source": [
    "import json\n",
    "\n",
    "\n",
    "encode_config = {\n",
    "    'user2user_encoded': user2user_encoded,\n",
    "    'user_encoded2user': user_encoded2user,\n",
    "    'anime2anime_encoded': anime2anime_encoded,\n",
    "    'anime_encoded2anime': anime_encoded2anime\n",
    "}\n",
    "\n",
    "with open('./model/encode_config.json', 'w') as f:\n",
    "    json.dump(encode_config, f, indent=4, ensure_ascii=False)"
   ]
  },
  {
   "cell_type": "markdown",
   "metadata": {},
   "source": [
    "# **Load data from preprocessed dataset.(If have preprocessed dataset can start from here)**"
   ]
  },
  {
   "cell_type": "markdown",
   "metadata": {},
   "source": [
    "Colab"
   ]
  },
  {
   "cell_type": "code",
   "execution_count": 3,
   "metadata": {},
   "outputs": [
    {
     "name": "stdout",
     "output_type": "stream",
     "text": [
      "/bin/bash: gdown: command not found\n",
      "mv: cannot stat 'preprocessed_animelist.csv.zip': No such file or directory\n"
     ]
    }
   ],
   "source": [
    "# !gdown --id 1CLWxXspLAP_7FQjAdU4I2cBpWQiiAgvk\n",
    "# !mv preprocessed_animelist.csv.zip ./data"
   ]
  },
  {
   "cell_type": "markdown",
   "metadata": {},
   "source": [
    "Unzip data"
   ]
  },
  {
   "cell_type": "code",
   "execution_count": null,
   "metadata": {},
   "outputs": [],
   "source": [
    "# !unzip ./data/preprocessed_animelist.csv.zip\n",
    "# !mv preprocessed_animelist.csv ./data"
   ]
  },
  {
   "cell_type": "code",
   "execution_count": 3,
   "metadata": {},
   "outputs": [
    {
     "name": "stdout",
     "output_type": "stream",
     "text": [
      "animelist_min.csv  preprocessed_animelist.csv\n"
     ]
    },
    {
     "data": {
      "text/html": [
       "<div>\n",
       "<style scoped>\n",
       "    .dataframe tbody tr th:only-of-type {\n",
       "        vertical-align: middle;\n",
       "    }\n",
       "\n",
       "    .dataframe tbody tr th {\n",
       "        vertical-align: top;\n",
       "    }\n",
       "\n",
       "    .dataframe thead th {\n",
       "        text-align: right;\n",
       "    }\n",
       "</style>\n",
       "<table border=\"1\" class=\"dataframe\">\n",
       "  <thead>\n",
       "    <tr style=\"text-align: right;\">\n",
       "      <th></th>\n",
       "      <th>user_id</th>\n",
       "      <th>anime_id</th>\n",
       "      <th>rating</th>\n",
       "    </tr>\n",
       "  </thead>\n",
       "  <tbody>\n",
       "    <tr>\n",
       "      <th>0</th>\n",
       "      <td>279596</td>\n",
       "      <td>2695</td>\n",
       "      <td>0.0</td>\n",
       "    </tr>\n",
       "    <tr>\n",
       "      <th>1</th>\n",
       "      <td>121782</td>\n",
       "      <td>15505</td>\n",
       "      <td>0.0</td>\n",
       "    </tr>\n",
       "    <tr>\n",
       "      <th>2</th>\n",
       "      <td>160479</td>\n",
       "      <td>39085</td>\n",
       "      <td>0.0</td>\n",
       "    </tr>\n",
       "    <tr>\n",
       "      <th>3</th>\n",
       "      <td>53950</td>\n",
       "      <td>32245</td>\n",
       "      <td>0.0</td>\n",
       "    </tr>\n",
       "  </tbody>\n",
       "</table>\n",
       "</div>"
      ],
      "text/plain": [
       "   user_id  anime_id  rating\n",
       "0   279596      2695     0.0\n",
       "1   121782     15505     0.0\n",
       "2   160479     39085     0.0\n",
       "3    53950     32245     0.0"
      ]
     },
     "execution_count": 3,
     "metadata": {},
     "output_type": "execute_result"
    }
   ],
   "source": [
    "INPUT_DIR = './data'\n",
    "!ls {INPUT_DIR}\n",
    "\n",
    "import numpy as np\n",
    "import pandas as pd\n",
    "\n",
    "# rating_df_iter = pd.read_csv(INPUT_DIR + '/preprocessed_animelist.csv', \n",
    "#                         low_memory=False, \n",
    "#                         usecols=[\"user_id\", \"anime_id\", \"rating\"],\n",
    "#                         chunksize=10000\n",
    "#                         )\n",
    "\n",
    "# rating_df = pd.concat(rating_df_iter)\n",
    "\n",
    "rating_df = pd.read_csv(INPUT_DIR + '/preprocessed_animelist.csv', \n",
    "                        low_memory=False, \n",
    "                        usecols=[\"user_id\", \"anime_id\", \"rating\"]\n",
    "                        )\n",
    "\n",
    "rating_df.head(4)"
   ]
  },
  {
   "cell_type": "code",
   "execution_count": 4,
   "metadata": {},
   "outputs": [
    {
     "name": "stdout",
     "output_type": "stream",
     "text": [
      "Num of users: 2463, Num of animes: 17558\n",
      "Min rating: 0.0, Max rating: 1.0\n"
     ]
    }
   ],
   "source": [
    "# Encoding categorical data\n",
    "user_ids = rating_df[\"user_id\"].unique().tolist()\n",
    "user2user_encoded = {x: i for i, x in enumerate(user_ids)}\n",
    "user_encoded2user = {i: x for i, x in enumerate(user_ids)}\n",
    "rating_df[\"user\"] = rating_df[\"user_id\"].map(user2user_encoded)\n",
    "n_users = len(user2user_encoded)\n",
    "\n",
    "anime_ids = rating_df[\"anime_id\"].unique().tolist()\n",
    "anime2anime_encoded = {x: i for i, x in enumerate(anime_ids)}\n",
    "anime_encoded2anime = {i: x for i, x in enumerate(anime_ids)}\n",
    "rating_df[\"anime\"] = rating_df[\"anime_id\"].map(anime2anime_encoded)\n",
    "n_animes = len(anime2anime_encoded)\n",
    "\n",
    "field_dims = [n_users, n_animes]\n",
    "\n",
    "print(\"Num of users: {}, Num of animes: {}\".format(n_users, n_animes))\n",
    "print(\"Min rating: {}, Max rating: {}\".format(min(rating_df['rating']), max(rating_df['rating'])))"
   ]
  },
  {
   "cell_type": "code",
   "execution_count": 5,
   "metadata": {},
   "outputs": [],
   "source": [
    "df_x = rating_df[['user', 'anime']].copy(deep=False)\n",
    "df_y = rating_df[[\"rating\"]].copy(deep=False)"
   ]
  },
  {
   "cell_type": "markdown",
   "metadata": {},
   "source": [
    "encode config"
   ]
  },
  {
   "cell_type": "code",
   "execution_count": 6,
   "metadata": {},
   "outputs": [],
   "source": [
    "import json\n",
    "\n",
    "\n",
    "encode_config = {\n",
    "    'user2user_encoded': user2user_encoded,\n",
    "    'user_encoded2user': user_encoded2user,\n",
    "    'anime2anime_encoded': anime2anime_encoded,\n",
    "    'anime_encoded2anime': anime_encoded2anime\n",
    "}\n",
    "\n",
    "with open('./model/encode_config.json', 'w') as f:\n",
    "    json.dump(encode_config, f, indent=4, ensure_ascii=False)"
   ]
  },
  {
   "cell_type": "markdown",
   "metadata": {},
   "source": [
    "# **Training config**"
   ]
  },
  {
   "cell_type": "code",
   "execution_count": 7,
   "metadata": {},
   "outputs": [],
   "source": [
    "import os\n",
    "from schema.training import TrainingConfig\n",
    "\n",
    "training_config = TrainingConfig(\n",
    "    batch_size=2048,\n",
    "    epochs=10,\n",
    "    n_workers=os.cpu_count(),\n",
    "    model_size=1000,\n",
    "    lr_factor=2.,\n",
    "    lr_warm_up=2000\n",
    ")"
   ]
  },
  {
   "cell_type": "markdown",
   "metadata": {},
   "source": [
    "# **Load data into tensor**"
   ]
  },
  {
   "cell_type": "code",
   "execution_count": 8,
   "metadata": {},
   "outputs": [
    {
     "name": "stderr",
     "output_type": "stream",
     "text": [
      "/home/yoshi/miniconda3/envs/ml/lib/python3.8/site-packages/tqdm/auto.py:22: TqdmWarning: IProgress not found. Please update jupyter and ipywidgets. See https://ipywidgets.readthedocs.io/en/stable/user_install.html\n",
      "  from .autonotebook import tqdm as notebook_tqdm\n"
     ]
    }
   ],
   "source": [
    "import torch\n",
    "\n",
    "\n",
    "from training.functools import get_dataloader, get_dataloader_df\n",
    "from training.dataset import MyDataSet\n",
    "\n",
    "\n",
    "# dataset = MyDataSet(df_x=df_x, df_y=df_y)\n",
    "# train_loader, valid_loader, test_loader = get_dataloader(\n",
    "#     dataset=dataset,\n",
    "#     batch_size=training_config.batch_size,\n",
    "#     n_workers=training_config.n_workers,\n",
    "#     valid_ratio=0.1,\n",
    "#     test_ratio=0.1\n",
    "# )\n",
    "\n",
    "train_loader, valid_loader, test_loader = get_dataloader_df(\n",
    "    df_x=df_x,\n",
    "    df_y=df_y,\n",
    "    batch_size=training_config.batch_size,\n",
    "    n_workers=training_config.n_workers,\n",
    "    valid_ratio=0.1,\n",
    "    test_ratio=0.1\n",
    ")"
   ]
  },
  {
   "cell_type": "markdown",
   "metadata": {},
   "source": [
    "# **Import the model**"
   ]
  },
  {
   "cell_type": "code",
   "execution_count": 9,
   "metadata": {},
   "outputs": [],
   "source": [
    "from recommender.ranking_base_filter.model import FactorizationMachineModel\n",
    "\n",
    "model = FactorizationMachineModel(\n",
    "    field_dims=field_dims,\n",
    "    embed_dim=16\n",
    ")"
   ]
  },
  {
   "cell_type": "markdown",
   "metadata": {},
   "source": [
    "# **Train the model** "
   ]
  },
  {
   "cell_type": "markdown",
   "metadata": {},
   "source": [
    "optimizer"
   ]
  },
  {
   "cell_type": "code",
   "execution_count": 10,
   "metadata": {},
   "outputs": [],
   "source": [
    "from training.trainer import NoamOpt\n",
    "\n",
    "# optimizer = NoamOpt(\n",
    "#     **training_config.get_optimizer_config(),\n",
    "#     optimizer=torch.optim.AdamW(model.parameters(), lr=0, betas=(0.9, 0.98), eps=1e-9, weight_decay=0.0001)\n",
    "# )\n",
    "\n",
    "optimizer=torch.optim.AdamW(model.parameters(), lr=1e-3, betas=(0.9, 0.98), eps=1e-9, weight_decay=0.0001)"
   ]
  },
  {
   "cell_type": "markdown",
   "metadata": {},
   "source": [
    "loss criterion"
   ]
  },
  {
   "cell_type": "code",
   "execution_count": 11,
   "metadata": {},
   "outputs": [],
   "source": [
    "import torch.nn as nn\n",
    "\n",
    "loss_criterion = nn.MSELoss()"
   ]
  },
  {
   "cell_type": "code",
   "execution_count": 12,
   "metadata": {},
   "outputs": [],
   "source": [
    "from training.trainer import ModelTrainer\n",
    "\n",
    "\n",
    "cuda = torch.cuda.is_available()  \n",
    "device = torch.device('cuda' if cuda else 'cpu')\n",
    "\n",
    "model_trainer = ModelTrainer(\n",
    "    train_loader=train_loader,\n",
    "    valid_loader=valid_loader,\n",
    "    model=model,\n",
    "    loss_criterion=loss_criterion,\n",
    "    optimizer=optimizer,\n",
    "    device=device,\n",
    "    model_save_path=\"./model/model.pt\"\n",
    ")"
   ]
  },
  {
   "cell_type": "markdown",
   "metadata": {},
   "source": [
    "Start to train"
   ]
  },
  {
   "cell_type": "code",
   "execution_count": 16,
   "metadata": {},
   "outputs": [
    {
     "name": "stderr",
     "output_type": "stream",
     "text": [
      "train epoch 11: 100%|██████████| 2984/2984 [09:08<00:00,  5.44it/s, loss=0.0549, step=32824]\n",
      "training loss: 0.0517\n",
      "validation epoch 11: 100%|██████████| 373/373 [00:56<00:00,  6.62it/s]\n",
      "validation loss: 0.0542\n",
      "Save the model.\n",
      "train epoch 12: 100%|██████████| 2984/2984 [09:04<00:00,  5.48it/s, loss=0.0491, step=35808]\n",
      "training loss: 0.0511\n",
      "validation epoch 12: 100%|██████████| 373/373 [00:54<00:00,  6.85it/s]\n",
      "validation loss: 0.0540\n",
      "Save the model.\n",
      "train epoch 13: 100%|██████████| 2984/2984 [09:04<00:00,  5.48it/s, loss=0.0511, step=38792]\n",
      "training loss: 0.0506\n",
      "validation epoch 13: 100%|██████████| 373/373 [00:57<00:00,  6.50it/s]\n",
      "validation loss: 0.0538\n",
      "Save the model.\n",
      "train epoch 14: 100%|██████████| 2984/2984 [09:09<00:00,  5.43it/s, loss=0.0531, step=41776]\n",
      "training loss: 0.0502\n",
      "validation epoch 14: 100%|██████████| 373/373 [00:58<00:00,  6.40it/s]\n",
      "validation loss: 0.0537\n",
      "Save the model.\n",
      "train epoch 15: 100%|██████████| 2984/2984 [09:05<00:00,  5.47it/s, loss=0.0526, step=44760]\n",
      "training loss: 0.0498\n",
      "validation epoch 15: 100%|██████████| 373/373 [00:57<00:00,  6.52it/s]\n",
      "validation loss: 0.0535\n",
      "Save the model.\n",
      "train epoch 16: 100%|██████████| 2984/2984 [09:06<00:00,  5.46it/s, loss=0.0504, step=47744]\n",
      "training loss: 0.0495\n",
      "validation epoch 16: 100%|██████████| 373/373 [00:51<00:00,  7.18it/s]\n",
      "validation loss: 0.0534\n",
      "Save the model.\n",
      "train epoch 17: 100%|██████████| 2984/2984 [08:49<00:00,  5.64it/s, loss=0.0519, step=50728]\n",
      "training loss: 0.0493\n",
      "validation epoch 17: 100%|██████████| 373/373 [00:55<00:00,  6.66it/s]\n",
      "validation loss: 0.0534\n",
      "Save the model.\n",
      "train epoch 18: 100%|██████████| 2984/2984 [08:11<00:00,  6.07it/s, loss=0.0514, step=53712]\n",
      "training loss: 0.0491\n",
      "validation epoch 18: 100%|██████████| 373/373 [01:01<00:00,  6.07it/s]\n",
      "validation loss: 0.0533\n",
      "Save the model.\n",
      "train epoch 19: 100%|██████████| 2984/2984 [09:21<00:00,  5.32it/s, loss=0.0515, step=56696]\n",
      "training loss: 0.0489\n",
      "validation epoch 19: 100%|██████████| 373/373 [00:49<00:00,  7.53it/s]\n",
      "validation loss: 0.0533\n",
      "Save the model.\n",
      "train epoch 20: 100%|██████████| 2984/2984 [08:23<00:00,  5.93it/s, loss=0.0503, step=59680]\n",
      "training loss: 0.0487\n",
      "validation epoch 20: 100%|██████████| 373/373 [00:57<00:00,  6.48it/s]\n",
      "validation loss: 0.0533\n",
      "Save the model.\n"
     ]
    }
   ],
   "source": [
    "for epoch in range(training_config.epochs):\n",
    "    training_status = model_trainer.training_one_epoch()"
   ]
  },
  {
   "cell_type": "markdown",
   "metadata": {},
   "source": [
    "plot the training history"
   ]
  },
  {
   "cell_type": "code",
   "execution_count": 19,
   "metadata": {},
   "outputs": [
    {
     "data": {
      "image/png": "[encoded data removed]",
      "text/plain": [
       "<Figure size 432x288 with 1 Axes>"
      ]
     },
     "metadata": {
      "needs_background": "light"
     },
     "output_type": "display_data"
    }
   ],
   "source": [
    "from training.functools import training_loss_epoch_mean_visualization\n",
    "\n",
    "\n",
    "training_status = model_trainer.export_training_status()\n",
    "train_epoch_x = list(training_status.train_loss_epoch_mean.keys())\n",
    "train_loss_y = list(training_status.train_loss_epoch_mean.values())\n",
    "valid_epoch_x = list(training_status.valid_loss_epoch_mean.keys())\n",
    "valid_loss_y = list(training_status.valid_loss_epoch_mean.values())\n",
    "\n",
    "training_loss_epoch_mean_visualization(\n",
    "    epoch_x=train_epoch_x,\n",
    "    train_loss_y=train_loss_y,\n",
    "    valid_loss_y=valid_loss_y\n",
    ")"
   ]
  },
  {
   "cell_type": "markdown",
   "metadata": {},
   "source": [
    "Save training status"
   ]
  },
  {
   "cell_type": "code",
   "execution_count": 20,
   "metadata": {},
   "outputs": [],
   "source": [
    "import json\n",
    "\n",
    "\n",
    "with open(\"./model/training_status.json\", 'w') as f:\n",
    "    json.dump(training_status.dict(), f, indent=4, ensure_ascii=False)"
   ]
  }
 ],
 "metadata": {
  "interpreter": {
   "hash": "cb2a16ad5343214987ec83273b09d3ac2f528968793a43e301f018a7f4736060"
  },
  "kernelspec": {
   "display_name": "Python 3.8.13 ('ml')",
   "language": "python",
   "name": "python3"
  },
  "language_info": {
   "codemirror_mode": {
    "name": "ipython",
    "version": 3
   },
   "file_extension": ".py",
   "mimetype": "text/x-python",
   "name": "python",
   "nbconvert_exporter": "python",
   "pygments_lexer": "ipython3",
   "version": "3.8.13"
  },
  "orig_nbformat": 4
 },
 "nbformat": 4,
 "nbformat_minor": 2
}
