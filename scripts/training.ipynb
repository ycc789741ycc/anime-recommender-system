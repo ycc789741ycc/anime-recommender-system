{
  "cells": [
    {
      "cell_type": "markdown",
      "metadata": {
        "id": "SJq4mGnQoAvV"
      },
      "source": [
        "# **Prepare for environment**"
      ]
    },
    {
      "cell_type": "markdown",
      "metadata": {
        "id": "-KRXVNvcoAva"
      },
      "source": [
        "Colab"
      ]
    },
    {
      "cell_type": "code",
      "execution_count": 1,
      "metadata": {
        "colab": {
          "base_uri": "https://localhost:8080/"
        },
        "id": "RmnV3yEvoAvb",
        "outputId": "6edaac8a-7236-44ec-b161-6597da7b74c4"
      },
      "outputs": [
        {
          "name": "stdout",
          "output_type": "stream",
          "text": [
            "Cloning into 'anime-recommender-system'...\n",
            "remote: Enumerating objects: 90, done.\u001b[K\n",
            "remote: Counting objects: 100% (90/90), done.\u001b[K\n",
            "remote: Compressing objects: 100% (64/64), done.\u001b[K\n",
            "remote: Total 90 (delta 39), reused 75 (delta 24), pack-reused 0\u001b[K\n",
            "Unpacking objects: 100% (90/90), done.\n",
            "/content/anime-recommender-system\n",
            "/usr/local/lib/python3.7/dist-packages/gdown/cli.py:131: FutureWarning: Option `--id` was deprecated in version 4.3.1 and will be removed in 5.0. You don't need to pass it anymore to use a file ID.\n",
            "  category=FutureWarning,\n",
            "Downloading...\n",
            "From: https://drive.google.com/uc?id=1sIT71hnPdT8rPbqm3j9q_yjkRE-cCjjM\n",
            "To: /content/anime-recommender-system/animelist.csv.zip\n",
            "100% 475M/475M [00:05<00:00, 88.2MB/s]\n",
            "Archive:  ./data/animelist.csv.zip\n",
            "  inflating: animelist.csv           \n"
          ]
        }
      ],
      "source": [
        "# !git clone https://github.com/ycc789741ycc/anime-recommender-system.git\n",
        "# %cd /content/anime-recommender-system/\n",
        "# !gdown --id 1sIT71hnPdT8rPbqm3j9q_yjkRE-cCjjM\n",
        "# !mkdir data\n",
        "# !mkdir model\n",
        "# !mv animelist.csv.zip ./data\n",
        "# !unzip ./data/animelist.csv.zip\n",
        "# !mv animelist.csv ./data"
      ]
    },
    {
      "cell_type": "markdown",
      "metadata": {
        "id": "lMPLyngDoAvd"
      },
      "source": [
        "local"
      ]
    },
    {
      "cell_type": "code",
      "execution_count": 1,
      "metadata": {
        "colab": {
          "base_uri": "https://localhost:8080/"
        },
        "id": "GaShPo8voAvd",
        "outputId": "edacb15e-3832-44cf-ebdd-5c8a66329ec3"
      },
      "outputs": [
        {
          "name": "stdout",
          "output_type": "stream",
          "text": [
            "/mnt/c/Users/Yoshi/source/repos/Sideprojects/Anime_Recommender_system\n"
          ]
        }
      ],
      "source": [
        "%cd .."
      ]
    },
    {
      "cell_type": "markdown",
      "metadata": {
        "id": "k6TwVnpDoAve"
      },
      "source": [
        "# **Logger setting**"
      ]
    },
    {
      "cell_type": "code",
      "execution_count": 2,
      "metadata": {
        "id": "m8OTohfDoAvf"
      },
      "outputs": [],
      "source": [
        "import logging\n",
        "\n",
        "logger = logging.getLogger()\n",
        "\n",
        "chandler = logging.StreamHandler()\n",
        "chandler.setLevel(logging.DEBUG)\n",
        "\n",
        "logger.addHandler(chandler)\n",
        "logger.setLevel(logging.INFO)\n"
      ]
    },
    {
      "cell_type": "markdown",
      "metadata": {
        "id": "_0QvH5w4oAvg"
      },
      "source": [
        "# **Load Data (If have the preprocessed data then can skip.)**"
      ]
    },
    {
      "cell_type": "code",
      "execution_count": 3,
      "metadata": {
        "colab": {
          "base_uri": "https://localhost:8080/"
        },
        "id": "T5MUNI3IoAvg",
        "outputId": "165ca6b6-df7a-4e7c-db82-4bdf06fb6720"
      },
      "outputs": [
        {
          "name": "stdout",
          "output_type": "stream",
          "text": [
            "animelist.csv  animelist.csv.zip\n"
          ]
        }
      ],
      "source": [
        "INPUT_DIR = './data'\n",
        "!ls {INPUT_DIR}"
      ]
    },
    {
      "cell_type": "code",
      "execution_count": 4,
      "metadata": {
        "colab": {
          "base_uri": "https://localhost:8080/",
          "height": 192
        },
        "id": "6KFCaStroAvh",
        "outputId": "ad40d165-e896-4a33-bed0-e9a21129daea"
      },
      "outputs": [
        {
          "name": "stderr",
          "output_type": "stream",
          "text": [
            "NumExpr defaulting to 2 threads.\n"
          ]
        },
        {
          "data": {
            "text/html": [
              "\n",
              "  <div id=\"df-ab7deaa4-6f69-40a5-94dd-a09160814a47\">\n",
              "    <div class=\"colab-df-container\">\n",
              "      <div>\n",
              "<style scoped>\n",
              "    .dataframe tbody tr th:only-of-type {\n",
              "        vertical-align: middle;\n",
              "    }\n",
              "\n",
              "    .dataframe tbody tr th {\n",
              "        vertical-align: top;\n",
              "    }\n",
              "\n",
              "    .dataframe thead th {\n",
              "        text-align: right;\n",
              "    }\n",
              "</style>\n",
              "<table border=\"1\" class=\"dataframe\">\n",
              "  <thead>\n",
              "    <tr style=\"text-align: right;\">\n",
              "      <th></th>\n",
              "      <th>user_id</th>\n",
              "      <th>anime_id</th>\n",
              "      <th>rating</th>\n",
              "    </tr>\n",
              "  </thead>\n",
              "  <tbody>\n",
              "    <tr>\n",
              "      <th>0</th>\n",
              "      <td>0</td>\n",
              "      <td>67</td>\n",
              "      <td>9</td>\n",
              "    </tr>\n",
              "    <tr>\n",
              "      <th>1</th>\n",
              "      <td>0</td>\n",
              "      <td>6702</td>\n",
              "      <td>7</td>\n",
              "    </tr>\n",
              "    <tr>\n",
              "      <th>2</th>\n",
              "      <td>0</td>\n",
              "      <td>242</td>\n",
              "      <td>10</td>\n",
              "    </tr>\n",
              "    <tr>\n",
              "      <th>3</th>\n",
              "      <td>0</td>\n",
              "      <td>4898</td>\n",
              "      <td>0</td>\n",
              "    </tr>\n",
              "  </tbody>\n",
              "</table>\n",
              "</div>\n",
              "      <button class=\"colab-df-convert\" onclick=\"convertToInteractive('df-ab7deaa4-6f69-40a5-94dd-a09160814a47')\"\n",
              "              title=\"Convert this dataframe to an interactive table.\"\n",
              "              style=\"display:none;\">\n",
              "        \n",
              "  <svg xmlns=\"http://www.w3.org/2000/svg\" height=\"24px\"viewBox=\"0 0 24 24\"\n",
              "       width=\"24px\">\n",
              "    <path d=\"M0 0h24v24H0V0z\" fill=\"none\"/>\n",
              "    <path d=\"M18.56 5.44l.94 2.06.94-2.06 2.06-.94-2.06-.94-.94-2.06-.94 2.06-2.06.94zm-11 1L8.5 8.5l.94-2.06 2.06-.94-2.06-.94L8.5 2.5l-.94 2.06-2.06.94zm10 10l.94 2.06.94-2.06 2.06-.94-2.06-.94-.94-2.06-.94 2.06-2.06.94z\"/><path d=\"M17.41 7.96l-1.37-1.37c-.4-.4-.92-.59-1.43-.59-.52 0-1.04.2-1.43.59L10.3 9.45l-7.72 7.72c-.78.78-.78 2.05 0 2.83L4 21.41c.39.39.9.59 1.41.59.51 0 1.02-.2 1.41-.59l7.78-7.78 2.81-2.81c.8-.78.8-2.07 0-2.86zM5.41 20L4 18.59l7.72-7.72 1.47 1.35L5.41 20z\"/>\n",
              "  </svg>\n",
              "      </button>\n",
              "      \n",
              "  <style>\n",
              "    .colab-df-container {\n",
              "      display:flex;\n",
              "      flex-wrap:wrap;\n",
              "      gap: 12px;\n",
              "    }\n",
              "\n",
              "    .colab-df-convert {\n",
              "      background-color: #E8F0FE;\n",
              "      border: none;\n",
              "      border-radius: 50%;\n",
              "      cursor: pointer;\n",
              "      display: none;\n",
              "      fill: #1967D2;\n",
              "      height: 32px;\n",
              "      padding: 0 0 0 0;\n",
              "      width: 32px;\n",
              "    }\n",
              "\n",
              "    .colab-df-convert:hover {\n",
              "      background-color: #E2EBFA;\n",
              "      box-shadow: 0px 1px 2px rgba(60, 64, 67, 0.3), 0px 1px 3px 1px rgba(60, 64, 67, 0.15);\n",
              "      fill: #174EA6;\n",
              "    }\n",
              "\n",
              "    [theme=dark] .colab-df-convert {\n",
              "      background-color: #3B4455;\n",
              "      fill: #D2E3FC;\n",
              "    }\n",
              "\n",
              "    [theme=dark] .colab-df-convert:hover {\n",
              "      background-color: #434B5C;\n",
              "      box-shadow: 0px 1px 3px 1px rgba(0, 0, 0, 0.15);\n",
              "      filter: drop-shadow(0px 1px 2px rgba(0, 0, 0, 0.3));\n",
              "      fill: #FFFFFF;\n",
              "    }\n",
              "  </style>\n",
              "\n",
              "      <script>\n",
              "        const buttonEl =\n",
              "          document.querySelector('#df-ab7deaa4-6f69-40a5-94dd-a09160814a47 button.colab-df-convert');\n",
              "        buttonEl.style.display =\n",
              "          google.colab.kernel.accessAllowed ? 'block' : 'none';\n",
              "\n",
              "        async function convertToInteractive(key) {\n",
              "          const element = document.querySelector('#df-ab7deaa4-6f69-40a5-94dd-a09160814a47');\n",
              "          const dataTable =\n",
              "            await google.colab.kernel.invokeFunction('convertToInteractive',\n",
              "                                                     [key], {});\n",
              "          if (!dataTable) return;\n",
              "\n",
              "          const docLinkHtml = 'Like what you see? Visit the ' +\n",
              "            '<a target=\"_blank\" href=https://colab.research.google.com/notebooks/data_table.ipynb>data table notebook</a>'\n",
              "            + ' to learn more about interactive tables.';\n",
              "          element.innerHTML = '';\n",
              "          dataTable['output_type'] = 'display_data';\n",
              "          await google.colab.output.renderOutput(dataTable, element);\n",
              "          const docLink = document.createElement('div');\n",
              "          docLink.innerHTML = docLinkHtml;\n",
              "          element.appendChild(docLink);\n",
              "        }\n",
              "      </script>\n",
              "    </div>\n",
              "  </div>\n",
              "  "
            ],
            "text/plain": [
              "   user_id  anime_id  rating\n",
              "0        0        67       9\n",
              "1        0      6702       7\n",
              "2        0       242      10\n",
              "3        0      4898       0"
            ]
          },
          "execution_count": 4,
          "metadata": {},
          "output_type": "execute_result"
        }
      ],
      "source": [
        "import numpy as np\n",
        "import pandas as pd\n",
        "\n",
        "rating_df_iter = pd.read_csv(INPUT_DIR + '/animelist.csv', \n",
        "                        low_memory=False, \n",
        "                        engine='c',\n",
        "                        usecols=[\"user_id\", \"anime_id\", \"rating\"],\n",
        "                        chunksize=10000\n",
        "                        )\n",
        "\n",
        "rating_df = pd.concat(rating_df_iter)\n",
        "\n",
        "# rating_df = pd.read_csv(INPUT_DIR + '/animelist_min.csv', \n",
        "#                         low_memory=False, \n",
        "#                         usecols=[\"user_id\", \"anime_id\", \"rating\"]\n",
        "#                         )\n",
        "\n",
        "rating_df.head(4)"
      ]
    },
    {
      "cell_type": "code",
      "execution_count": 5,
      "metadata": {
        "colab": {
          "base_uri": "https://localhost:8080/"
        },
        "id": "_e8lu2EMoAvi",
        "outputId": "d5b16df8-15df-444e-9db3-53b91baf53be"
      },
      "outputs": [
        {
          "data": {
            "text/plain": [
              "7576716"
            ]
          },
          "execution_count": 5,
          "metadata": {},
          "output_type": "execute_result"
        }
      ],
      "source": [
        "# User should rate atleast 400 animies\n",
        "n_user_ratings = rating_df['user_id'].value_counts()\n",
        "rating_df = rating_df[rating_df['user_id'].isin(n_user_ratings[n_user_ratings >= 2000].index)].copy(deep=False)\n",
        "n_anime_ratings = rating_df['anime_id'].value_counts()\n",
        "rating_df = rating_df[rating_df['anime_id'].isin(n_anime_ratings[n_anime_ratings >= 50].index)].copy(deep=False)\n",
        "len(rating_df)"
      ]
    },
    {
      "cell_type": "code",
      "execution_count": 6,
      "metadata": {
        "colab": {
          "base_uri": "https://localhost:8080/"
        },
        "id": "7C2pTq7foAvj",
        "outputId": "d4d86d42-7f3d-477f-82bd-af65bca79937"
      },
      "outputs": [
        {
          "name": "stdout",
          "output_type": "stream",
          "text": [
            "Avg 0.313771546934054\n"
          ]
        }
      ],
      "source": [
        "# Scaling BTW (0 , 1.0)\n",
        "min_rating = min(rating_df['rating'])\n",
        "max_rating = max(rating_df['rating'])\n",
        "rating_df['rating'] = rating_df[\"rating\"].apply(lambda x: (x - min_rating) / (max_rating - min_rating)).values.astype(np.float64)\n",
        "\n",
        "AvgRating = np.mean(rating_df['rating'])\n",
        "print('Avg', AvgRating)"
      ]
    },
    {
      "cell_type": "code",
      "execution_count": 7,
      "metadata": {
        "colab": {
          "base_uri": "https://localhost:8080/"
        },
        "id": "nfVLV7vxoAvk",
        "outputId": "34cd578d-261a-4344-c446-59f062518291"
      },
      "outputs": [
        {
          "name": "stdout",
          "output_type": "stream",
          "text": [
            "> 0 duplicates\n"
          ]
        }
      ],
      "source": [
        "# Removing Duplicated Rows\n",
        "duplicates = rating_df.duplicated()\n",
        "\n",
        "if duplicates.sum() > 0:\n",
        "    print('> {} duplicates'.format(duplicates.sum()))\n",
        "    rating_df = rating_df[~duplicates]\n",
        "\n",
        "print('> {} duplicates'.format(rating_df.duplicated().sum()))"
      ]
    },
    {
      "cell_type": "markdown",
      "metadata": {
        "id": "xCWLERY5oAvk"
      },
      "source": [
        "## **Data Preprocessing (If have the preprocessed data then can skip.)**"
      ]
    },
    {
      "cell_type": "code",
      "execution_count": 8,
      "metadata": {
        "colab": {
          "base_uri": "https://localhost:8080/"
        },
        "id": "Ga5RfU20oAvk",
        "outputId": "52a23cc4-c3b0-4b6b-8b89-4713a3ebaa80"
      },
      "outputs": [
        {
          "name": "stdout",
          "output_type": "stream",
          "text": [
            "Num of users: 2463, Num of animes: 15749\n",
            "Min rating: 0.0, Max rating: 1.0\n"
          ]
        }
      ],
      "source": [
        "# Encoding categorical data\n",
        "user_ids = rating_df[\"user_id\"].unique().tolist()\n",
        "user2user_encoded = {x: i for i, x in enumerate(user_ids)}\n",
        "user_encoded2user = {i: x for i, x in enumerate(user_ids)}\n",
        "rating_df[\"user\"] = rating_df[\"user_id\"].map(user2user_encoded)\n",
        "n_users = len(user2user_encoded)\n",
        "\n",
        "anime_ids = rating_df[\"anime_id\"].unique().tolist()\n",
        "anime2anime_encoded = {x: i for i, x in enumerate(anime_ids)}\n",
        "anime_encoded2anime = {i: x for i, x in enumerate(anime_ids)}\n",
        "rating_df[\"anime\"] = rating_df[\"anime_id\"].map(anime2anime_encoded)\n",
        "n_animes = len(anime2anime_encoded)\n",
        "\n",
        "field_dims = [n_users, n_animes]\n",
        "\n",
        "print(\"Num of users: {}, Num of animes: {}\".format(n_users, n_animes))\n",
        "print(\"Min rating: {}, Max rating: {}\".format(min(rating_df['rating']), max(rating_df['rating'])))"
      ]
    },
    {
      "cell_type": "code",
      "execution_count": 9,
      "metadata": {
        "id": "EQghqRInoAvl"
      },
      "outputs": [],
      "source": [
        "# Shuffle\n",
        "rating_df = rating_df.sample(frac=1, random_state=73).copy(deep=False)\n",
        "\n",
        "df_x = rating_df[['user', 'anime']].copy(deep=False)\n",
        "df_y = rating_df[[\"rating\"]].copy(deep=False)"
      ]
    },
    {
      "cell_type": "markdown",
      "metadata": {
        "id": "TIBPCyrYoAvl"
      },
      "source": [
        "Save the preprocessed data"
      ]
    },
    {
      "cell_type": "code",
      "execution_count": 10,
      "metadata": {
        "id": "YXKEzjYboAvm"
      },
      "outputs": [],
      "source": [
        "compression_opts = dict(method='zip', archive_name='preprocessed_animelist.csv')  \n",
        "rating_df.to_csv('preprocessed_animelist.csv.zip', index=False, compression=compression_opts)"
      ]
    },
    {
      "cell_type": "markdown",
      "metadata": {
        "id": "CwD-YEKXoAvm"
      },
      "source": [
        "export the encode config"
      ]
    },
    {
      "cell_type": "code",
      "execution_count": 11,
      "metadata": {
        "id": "_8JZpnMboAvm"
      },
      "outputs": [],
      "source": [
        "import json\n",
        "\n",
        "\n",
        "encode_config = {\n",
        "    'user2user_encoded': user2user_encoded,\n",
        "    'user_encoded2user': user_encoded2user,\n",
        "    'anime2anime_encoded': anime2anime_encoded,\n",
        "    'anime_encoded2anime': anime_encoded2anime\n",
        "}\n",
        "\n",
        "with open('./model/encode_config.json', 'w') as f:\n",
        "    json.dump(encode_config, f, indent=4, ensure_ascii=False)"
      ]
    },
    {
      "cell_type": "markdown",
      "metadata": {
        "id": "hStP-Jl1oAvm"
      },
      "source": [
        "# **Load data from preprocessed dataset.(If have preprocessed dataset can start from here)**"
      ]
    },
    {
      "cell_type": "markdown",
      "metadata": {
        "id": "Rd0_cSWdoAvm"
      },
      "source": [
        "Colab"
      ]
    },
    {
      "cell_type": "code",
      "execution_count": null,
      "metadata": {
        "id": "1XxdcCX0oAvn"
      },
      "outputs": [],
      "source": [
        "# !gdown --id 1CLWxXspLAP_7FQjAdU4I2cBpWQiiAgvk\n",
        "# !mv preprocessed_animelist.csv.zip ./data"
      ]
    },
    {
      "cell_type": "markdown",
      "metadata": {
        "id": "5FRbKsTgoAvn"
      },
      "source": [
        "Unzip data"
      ]
    },
    {
      "cell_type": "code",
      "execution_count": null,
      "metadata": {
        "id": "cO7kHekCoAvn"
      },
      "outputs": [],
      "source": [
        "# !unzip ./data/preprocessed_animelist.csv.zip\n",
        "# !mv preprocessed_animelist.csv ./data"
      ]
    },
    {
      "cell_type": "markdown",
      "metadata": {},
      "source": [
        "For local"
      ]
    },
    {
      "cell_type": "code",
      "execution_count": 1,
      "metadata": {},
      "outputs": [
        {
          "name": "stdout",
          "output_type": "stream",
          "text": [
            "/mnt/c/Users/Yoshi/source/repos/Sideprojects/Anime_Recommender_system\n"
          ]
        }
      ],
      "source": [
        "%cd .."
      ]
    },
    {
      "cell_type": "code",
      "execution_count": 2,
      "metadata": {
        "id": "df4QLWbIoAvn",
        "outputId": "bedabd94-0247-476d-872d-54f0e890b89a"
      },
      "outputs": [
        {
          "name": "stdout",
          "output_type": "stream",
          "text": [
            "anime_with_synopsis.csv      animelist_min.csv\n",
            "anime_with_synopsis.csv.zip  preprocessed_animelist.csv\n"
          ]
        },
        {
          "data": {
            "text/html": [
              "<div>\n",
              "<style scoped>\n",
              "    .dataframe tbody tr th:only-of-type {\n",
              "        vertical-align: middle;\n",
              "    }\n",
              "\n",
              "    .dataframe tbody tr th {\n",
              "        vertical-align: top;\n",
              "    }\n",
              "\n",
              "    .dataframe thead th {\n",
              "        text-align: right;\n",
              "    }\n",
              "</style>\n",
              "<table border=\"1\" class=\"dataframe\">\n",
              "  <thead>\n",
              "    <tr style=\"text-align: right;\">\n",
              "      <th></th>\n",
              "      <th>user_id</th>\n",
              "      <th>anime_id</th>\n",
              "      <th>rating</th>\n",
              "    </tr>\n",
              "  </thead>\n",
              "  <tbody>\n",
              "    <tr>\n",
              "      <th>0</th>\n",
              "      <td>278536</td>\n",
              "      <td>31845</td>\n",
              "      <td>0.9</td>\n",
              "    </tr>\n",
              "    <tr>\n",
              "      <th>1</th>\n",
              "      <td>56255</td>\n",
              "      <td>24919</td>\n",
              "      <td>0.0</td>\n",
              "    </tr>\n",
              "    <tr>\n",
              "      <th>2</th>\n",
              "      <td>54171</td>\n",
              "      <td>2386</td>\n",
              "      <td>0.6</td>\n",
              "    </tr>\n",
              "    <tr>\n",
              "      <th>3</th>\n",
              "      <td>292408</td>\n",
              "      <td>5028</td>\n",
              "      <td>0.7</td>\n",
              "    </tr>\n",
              "  </tbody>\n",
              "</table>\n",
              "</div>"
            ],
            "text/plain": [
              "   user_id  anime_id  rating\n",
              "0   278536     31845     0.9\n",
              "1    56255     24919     0.0\n",
              "2    54171      2386     0.6\n",
              "3   292408      5028     0.7"
            ]
          },
          "execution_count": 2,
          "metadata": {},
          "output_type": "execute_result"
        }
      ],
      "source": [
        "INPUT_DIR = './data'\n",
        "!ls {INPUT_DIR}\n",
        "\n",
        "import numpy as np\n",
        "import pandas as pd\n",
        "\n",
        "# rating_df_iter = pd.read_csv(INPUT_DIR + '/preprocessed_animelist.csv', \n",
        "#                         low_memory=False, \n",
        "#                         usecols=[\"user_id\", \"anime_id\", \"rating\"],\n",
        "#                         chunksize=10000\n",
        "#                         )\n",
        "\n",
        "# rating_df = pd.concat(rating_df_iter)\n",
        "\n",
        "rating_df = pd.read_csv(INPUT_DIR + '/preprocessed_animelist.csv', \n",
        "                        low_memory=False, \n",
        "                        usecols=[\"user_id\", \"anime_id\", \"rating\"]\n",
        "                        )\n",
        "\n",
        "rating_df.head(4)"
      ]
    },
    {
      "cell_type": "code",
      "execution_count": 3,
      "metadata": {
        "id": "0S0CarTCoAvo",
        "outputId": "f4279e8e-8a5b-4549-a852-348e6b6a16d7"
      },
      "outputs": [
        {
          "name": "stdout",
          "output_type": "stream",
          "text": [
            "Num of users: 2463, Num of animes: 15749\n",
            "Min rating: 0.0, Max rating: 1.0\n"
          ]
        }
      ],
      "source": [
        "# Encoding categorical data\n",
        "user_ids = rating_df[\"user_id\"].unique().tolist()\n",
        "user2user_encoded = {x: i for i, x in enumerate(user_ids)}\n",
        "user_encoded2user = {i: x for i, x in enumerate(user_ids)}\n",
        "rating_df[\"user\"] = rating_df[\"user_id\"].map(user2user_encoded)\n",
        "n_users = len(user2user_encoded)\n",
        "\n",
        "anime_ids = rating_df[\"anime_id\"].unique().tolist()\n",
        "anime2anime_encoded = {x: i for i, x in enumerate(anime_ids)}\n",
        "anime_encoded2anime = {i: x for i, x in enumerate(anime_ids)}\n",
        "rating_df[\"anime\"] = rating_df[\"anime_id\"].map(anime2anime_encoded)\n",
        "n_animes = len(anime2anime_encoded)\n",
        "\n",
        "field_dims = [n_users, n_animes]\n",
        "\n",
        "print(\"Num of users: {}, Num of animes: {}\".format(n_users, n_animes))\n",
        "print(\"Min rating: {}, Max rating: {}\".format(min(rating_df['rating']), max(rating_df['rating'])))"
      ]
    },
    {
      "cell_type": "markdown",
      "metadata": {
        "id": "XMviJYT8oAvo"
      },
      "source": [
        "pairwise rating"
      ]
    },
    {
      "cell_type": "code",
      "execution_count": 4,
      "metadata": {
        "id": "joob1qKwoAvo"
      },
      "outputs": [],
      "source": [
        "rating_df[\"rating\"] = rating_df[\"rating\"].transform(lambda x: 1.0 if x > 0.6 else 0.)"
      ]
    },
    {
      "cell_type": "code",
      "execution_count": 5,
      "metadata": {
        "id": "tJIKstdVoAvo"
      },
      "outputs": [],
      "source": [
        "df_x = rating_df[['user', 'anime']].copy(deep=False)\n",
        "df_y = rating_df[[\"rating\"]].copy(deep=False)"
      ]
    },
    {
      "cell_type": "markdown",
      "metadata": {
        "id": "5ZAR7a7uoAvo"
      },
      "source": [
        "encode config"
      ]
    },
    {
      "cell_type": "code",
      "execution_count": 6,
      "metadata": {
        "id": "9D2zx87doAvo"
      },
      "outputs": [],
      "source": [
        "import json\n",
        "\n",
        "\n",
        "encode_config = {\n",
        "    'user2user_encoded': user2user_encoded,\n",
        "    'user_encoded2user': user_encoded2user,\n",
        "    'anime2anime_encoded': anime2anime_encoded,\n",
        "    'anime_encoded2anime': anime_encoded2anime\n",
        "}\n",
        "\n",
        "with open('./model/encode_config.json', 'w') as f:\n",
        "    json.dump(encode_config, f, indent=4, ensure_ascii=False)"
      ]
    },
    {
      "cell_type": "markdown",
      "metadata": {
        "id": "sbGbJU33oAvp"
      },
      "source": [
        "# **Training config**"
      ]
    },
    {
      "cell_type": "code",
      "execution_count": 7,
      "metadata": {
        "id": "NmgkGPUHoAvp"
      },
      "outputs": [],
      "source": [
        "import os\n",
        "from recanime.schema.training import TrainingConfig\n",
        "\n",
        "training_config = TrainingConfig(\n",
        "    batch_size=2048,\n",
        "    epochs=5,\n",
        "    n_workers=os.cpu_count(),\n",
        "    model_size=1000,\n",
        "    lr_factor=2.,\n",
        "    lr_warm_up=2000\n",
        ")"
      ]
    },
    {
      "cell_type": "markdown",
      "metadata": {
        "id": "RJosHPq_oAvp"
      },
      "source": [
        "# **Load data into tensor**"
      ]
    },
    {
      "cell_type": "code",
      "execution_count": 8,
      "metadata": {
        "id": "Fp7Zsv-SoAvp",
        "outputId": "3cb4bf5c-2a3f-4ff4-d595-01aae5fb5980"
      },
      "outputs": [
        {
          "name": "stderr",
          "output_type": "stream",
          "text": [
            "/home/yoshi/miniconda3/envs/ml/lib/python3.8/site-packages/tqdm/auto.py:22: TqdmWarning: IProgress not found. Please update jupyter and ipywidgets. See https://ipywidgets.readthedocs.io/en/stable/user_install.html\n",
            "  from .autonotebook import tqdm as notebook_tqdm\n"
          ]
        }
      ],
      "source": [
        "import torch\n",
        "\n",
        "\n",
        "from recanime.training.functools import get_dataloader, get_dataloader_df\n",
        "from recanime.training.dataset import MyDataSet\n",
        "\n",
        "\n",
        "# dataset = MyDataSet(df_x=df_x, df_y=df_y)\n",
        "# train_loader, valid_loader, test_loader = get_dataloader(\n",
        "#     dataset=dataset,\n",
        "#     batch_size=training_config.batch_size,\n",
        "#     n_workers=training_config.n_workers,\n",
        "#     valid_ratio=0.1,\n",
        "#     test_ratio=0.1\n",
        "# )\n",
        "\n",
        "train_loader, valid_loader, test_loader = get_dataloader_df(\n",
        "    df_x=df_x,\n",
        "    df_y=df_y,\n",
        "    batch_size=training_config.batch_size,\n",
        "    n_workers=training_config.n_workers,\n",
        "    valid_ratio=0.1,\n",
        "    test_ratio=0.1\n",
        ")"
      ]
    },
    {
      "cell_type": "markdown",
      "metadata": {
        "id": "drfkYaiioAvp"
      },
      "source": [
        "# **Import the model**"
      ]
    },
    {
      "cell_type": "code",
      "execution_count": 9,
      "metadata": {
        "id": "mPVwrOfUoAvq"
      },
      "outputs": [],
      "source": [
        "from recanime.recommender.ranking_base_filter.model import FactorizationMachineModel\n",
        "\n",
        "model = FactorizationMachineModel(\n",
        "    field_dims=field_dims,\n",
        "    embed_dim=32\n",
        ")"
      ]
    },
    {
      "cell_type": "markdown",
      "metadata": {
        "id": "YgAKO9KWoAvq"
      },
      "source": [
        "# **Train the model** "
      ]
    },
    {
      "cell_type": "markdown",
      "metadata": {
        "id": "SR0BUp5noAvq"
      },
      "source": [
        "optimizer"
      ]
    },
    {
      "cell_type": "code",
      "execution_count": 10,
      "metadata": {
        "id": "Z6y3rD-goAvq"
      },
      "outputs": [],
      "source": [
        "from recanime.training.trainer import NoamOpt\n",
        "\n",
        "# optimizer = NoamOpt(\n",
        "#     **training_config.get_optimizer_config(),\n",
        "#     optimizer=torch.optim.AdamW(model.parameters(), lr=0, betas=(0.9, 0.98), eps=1e-9, weight_decay=0.0001)\n",
        "# )\n",
        "\n",
        "optimizer=torch.optim.AdamW(model.parameters(), lr=1e-3, betas=(0.9, 0.98), eps=1e-9, weight_decay=0.0001)"
      ]
    },
    {
      "cell_type": "markdown",
      "metadata": {
        "id": "PXMa0GNpoAvq"
      },
      "source": [
        "loss criterion"
      ]
    },
    {
      "cell_type": "code",
      "execution_count": 11,
      "metadata": {
        "id": "QMLmpYpCoAvq"
      },
      "outputs": [],
      "source": [
        "import torch.nn as nn\n",
        "\n",
        "# loss_criterion = nn.MSELoss()\n",
        "loss_criterion = nn.BCELoss()"
      ]
    },
    {
      "cell_type": "markdown",
      "metadata": {},
      "source": [
        "Load previous training status and model"
      ]
    },
    {
      "cell_type": "code",
      "execution_count": 12,
      "metadata": {},
      "outputs": [],
      "source": [
        "# from recanime.schema.training import TrainingStatus\n",
        "\n",
        "# INPUT_DIR = './recanime/model'\n",
        "\n",
        "# with open(INPUT_DIR + \"/training_status.json\", 'r') as f:\n",
        "#     training_status_dict = json.load(f)\n",
        "#     training_status = TrainingStatus(**training_status_dict)\n",
        "    \n",
        "# model = torch.load(INPUT_DIR + \"/model.pt\")"
      ]
    },
    {
      "cell_type": "code",
      "execution_count": 13,
      "metadata": {
        "id": "IZbKt6cYoAvq"
      },
      "outputs": [],
      "source": [
        "from recanime.training.trainer import ModelTrainer\n",
        "\n",
        "INPUT_DIR = './recanime/model'\n",
        "\n",
        "cuda = torch.cuda.is_available()  \n",
        "device = torch.device('cuda' if cuda else 'cpu')\n",
        "\n",
        "model_trainer = ModelTrainer(\n",
        "    train_loader=train_loader,\n",
        "    valid_loader=valid_loader,\n",
        "    model=model,\n",
        "    loss_criterion=loss_criterion,\n",
        "    optimizer=optimizer,\n",
        "    device=device,\n",
        "    model_save_path=INPUT_DIR + \"/model.pt\",\n",
        "    #training_status=training_status\n",
        ")"
      ]
    },
    {
      "cell_type": "markdown",
      "metadata": {
        "id": "6CcLIg4KoAvr"
      },
      "source": [
        "Start to train"
      ]
    },
    {
      "cell_type": "code",
      "execution_count": 14,
      "metadata": {
        "id": "FCjSAqtOoAvr",
        "outputId": "f3f19e9d-3b1a-4212-c519-4d96030a31f6"
      },
      "outputs": [
        {
          "name": "stderr",
          "output_type": "stream",
          "text": [
            "train epoch 4:   0%|          | 0/2959 [00:00<?, ?it/s]/home/yoshi/miniconda3/envs/ml/lib/python3.8/site-packages/torch/cuda/amp/grad_scaler.py:115: UserWarning: torch.cuda.amp.GradScaler is enabled, but CUDA is not available.  Disabling.\n",
            "  warnings.warn(\"torch.cuda.amp.GradScaler is enabled, but CUDA is not available.  Disabling.\")\n",
            "/home/yoshi/miniconda3/envs/ml/lib/python3.8/site-packages/torch/autocast_mode.py:162: UserWarning: User provided device_type of 'cuda', but CUDA is not available. Disabling\n",
            "  warnings.warn('User provided device_type of \\'cuda\\', but CUDA is not available. Disabling')\n",
            "train epoch 4: 100%|██████████| 2959/2959 [08:08<00:00,  6.05it/s, loss=0.373, step=11888]\n",
            "validation epoch 4: 100%|██████████| 369/369 [00:53<00:00,  6.85it/s]\n",
            "train epoch 5: 100%|██████████| 2959/2959 [08:09<00:00,  6.04it/s, loss=0.362, step=14847]\n",
            "validation epoch 5: 100%|██████████| 369/369 [00:51<00:00,  7.11it/s]\n",
            "train epoch 6: 100%|██████████| 2959/2959 [07:57<00:00,  6.20it/s, loss=0.369, step=17806]\n",
            "validation epoch 6: 100%|██████████| 369/369 [00:52<00:00,  6.98it/s]\n",
            "train epoch 7: 100%|██████████| 2959/2959 [08:00<00:00,  6.16it/s, loss=0.364, step=20765]\n",
            "validation epoch 7: 100%|██████████| 369/369 [00:52<00:00,  7.08it/s]\n",
            "train epoch 8: 100%|██████████| 2959/2959 [07:43<00:00,  6.38it/s, loss=0.384, step=23724]\n",
            "validation epoch 8: 100%|██████████| 369/369 [00:51<00:00,  7.19it/s]\n"
          ]
        }
      ],
      "source": [
        "for epoch in range(training_config.epochs):\n",
        "    training_status = model_trainer.training_one_epoch()"
      ]
    },
    {
      "cell_type": "markdown",
      "metadata": {
        "id": "ycPuftdgoAvr"
      },
      "source": [
        "plot the training history"
      ]
    },
    {
      "cell_type": "code",
      "execution_count": 15,
      "metadata": {
        "id": "fIKUK8svoAvr",
        "outputId": "26cb3ad5-8c87-4000-dec7-9ad2ee83b2c4"
      },
      "outputs": [
        {
          "data": {
            "image/png": "[encoded data removed]",
            "text/plain": [
              "<Figure size 432x288 with 1 Axes>"
            ]
          },
          "metadata": {
            "needs_background": "light"
          },
          "output_type": "display_data"
        }
      ],
      "source": [
        "from recanime.training.functools import training_loss_epoch_mean_visualization\n",
        "\n",
        "\n",
        "training_status = model_trainer.export_training_status()\n",
        "train_epoch_x = list(training_status.train_loss_epoch_mean.keys())\n",
        "train_loss_y = list(training_status.train_loss_epoch_mean.values())\n",
        "valid_epoch_x = list(training_status.valid_loss_epoch_mean.keys())\n",
        "valid_loss_y = list(training_status.valid_loss_epoch_mean.values())\n",
        "\n",
        "training_loss_epoch_mean_visualization(\n",
        "    epoch_x=train_epoch_x,\n",
        "    train_loss_y=train_loss_y,\n",
        "    valid_loss_y=valid_loss_y\n",
        ")"
      ]
    },
    {
      "cell_type": "markdown",
      "metadata": {
        "id": "2TsuWW6LoAvr"
      },
      "source": [
        "Save training status"
      ]
    },
    {
      "cell_type": "code",
      "execution_count": 16,
      "metadata": {},
      "outputs": [
        {
          "name": "stderr",
          "output_type": "stream",
          "text": [
            "test epoch 8: 100%|██████████| 369/369 [00:53<00:00,  6.93it/s]"
          ]
        },
        {
          "name": "stdout",
          "output_type": "stream",
          "text": [
            "Testing loss: 0.37136956225565776\n"
          ]
        },
        {
          "name": "stderr",
          "output_type": "stream",
          "text": [
            "\n"
          ]
        }
      ],
      "source": [
        "loss = model_trainer.test(test_loader)\n",
        "print(f\"Testing loss: {loss}\")"
      ]
    },
    {
      "cell_type": "code",
      "execution_count": 17,
      "metadata": {
        "id": "SVBnCAmLoAvr"
      },
      "outputs": [],
      "source": [
        "import json\n",
        "\n",
        "\n",
        "with open(\"./model/training_status.json\", 'w') as f:\n",
        "    json.dump(training_status.dict(), f, indent=4, ensure_ascii=False)"
      ]
    }
  ],
  "metadata": {
    "colab": {
      "name": "training.ipynb",
      "provenance": []
    },
    "interpreter": {
      "hash": "cb2a16ad5343214987ec83273b09d3ac2f528968793a43e301f018a7f4736060"
    },
    "kernelspec": {
      "display_name": "Python 3.8.13 ('ml')",
      "language": "python",
      "name": "python3"
    },
    "language_info": {
      "codemirror_mode": {
        "name": "ipython",
        "version": 3
      },
      "file_extension": ".py",
      "mimetype": "text/x-python",
      "name": "python",
      "nbconvert_exporter": "python",
      "pygments_lexer": "ipython3",
      "version": "3.8.13"
    },
    "orig_nbformat": 4
  },
  "nbformat": 4,
  "nbformat_minor": 0
}
