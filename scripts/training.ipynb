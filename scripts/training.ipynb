{
  "cells": [
    {
      "cell_type": "markdown",
      "metadata": {
        "id": "SJq4mGnQoAvV"
      },
      "source": [
        "# **Prepare for environment**"
      ]
    },
    {
      "cell_type": "markdown",
      "metadata": {
        "id": "-KRXVNvcoAva"
      },
      "source": [
        "Colab"
      ]
    },
    {
      "cell_type": "code",
      "execution_count": 1,
      "metadata": {
        "colab": {
          "base_uri": "https://localhost:8080/"
        },
        "id": "RmnV3yEvoAvb",
        "outputId": "6edaac8a-7236-44ec-b161-6597da7b74c4"
      },
      "outputs": [
        {
          "name": "stdout",
          "output_type": "stream",
          "text": [
            "Cloning into 'anime-recommender-system'...\n",
            "remote: Enumerating objects: 90, done.\u001b[K\n",
            "remote: Counting objects: 100% (90/90), done.\u001b[K\n",
            "remote: Compressing objects: 100% (64/64), done.\u001b[K\n",
            "remote: Total 90 (delta 39), reused 75 (delta 24), pack-reused 0\u001b[K\n",
            "Unpacking objects: 100% (90/90), done.\n",
            "/content/anime-recommender-system\n",
            "/usr/local/lib/python3.7/dist-packages/gdown/cli.py:131: FutureWarning: Option `--id` was deprecated in version 4.3.1 and will be removed in 5.0. You don't need to pass it anymore to use a file ID.\n",
            "  category=FutureWarning,\n",
            "Downloading...\n",
            "From: https://drive.google.com/uc?id=1sIT71hnPdT8rPbqm3j9q_yjkRE-cCjjM\n",
            "To: /content/anime-recommender-system/animelist.csv.zip\n",
            "100% 475M/475M [00:05<00:00, 88.2MB/s]\n",
            "Archive:  ./data/animelist.csv.zip\n",
            "  inflating: animelist.csv           \n"
          ]
        }
      ],
      "source": [
        "# !git clone https://github.com/ycc789741ycc/anime-recommender-system.git\n",
        "# %cd /content/anime-recommender-system/\n",
        "# !gdown --id 1sIT71hnPdT8rPbqm3j9q_yjkRE-cCjjM\n",
        "# !mkdir data\n",
        "# !mkdir model\n",
        "# !mv animelist.csv.zip ./data\n",
        "# !unzip ./data/animelist.csv.zip\n",
        "# !mv animelist.csv ./data"
      ]
    },
    {
      "cell_type": "markdown",
      "metadata": {
        "id": "lMPLyngDoAvd"
      },
      "source": [
        "local"
      ]
    },
    {
      "cell_type": "code",
      "execution_count": 1,
      "metadata": {
        "colab": {
          "base_uri": "https://localhost:8080/"
        },
        "id": "GaShPo8voAvd",
        "outputId": "edacb15e-3832-44cf-ebdd-5c8a66329ec3"
      },
      "outputs": [
        {
          "name": "stdout",
          "output_type": "stream",
          "text": [
            "/mnt/c/Users/Yoshi/source/repos/Sideprojects/Anime_Recommender_system\n"
          ]
        }
      ],
      "source": [
        "%cd .."
      ]
    },
    {
      "cell_type": "markdown",
      "metadata": {
        "id": "k6TwVnpDoAve"
      },
      "source": [
        "# **Logger setting**"
      ]
    },
    {
      "cell_type": "code",
      "execution_count": 2,
      "metadata": {
        "id": "m8OTohfDoAvf"
      },
      "outputs": [],
      "source": [
        "import logging\n",
        "\n",
        "logger = logging.getLogger()\n",
        "\n",
        "chandler = logging.StreamHandler()\n",
        "chandler.setLevel(logging.DEBUG)\n",
        "\n",
        "logger.addHandler(chandler)\n",
        "logger.setLevel(logging.INFO)\n"
      ]
    },
    {
      "cell_type": "markdown",
      "metadata": {
        "id": "_0QvH5w4oAvg"
      },
      "source": [
        "# **Load Data (If have the preprocessed data then can skip.)**"
      ]
    },
    {
      "cell_type": "code",
      "execution_count": 3,
      "metadata": {
        "colab": {
          "base_uri": "https://localhost:8080/"
        },
        "id": "T5MUNI3IoAvg",
        "outputId": "165ca6b6-df7a-4e7c-db82-4bdf06fb6720"
      },
      "outputs": [
        {
          "name": "stdout",
          "output_type": "stream",
          "text": [
            "animelist.csv  animelist.csv.zip\n"
          ]
        }
      ],
      "source": [
        "INPUT_DIR = './data'\n",
        "!ls {INPUT_DIR}"
      ]
    },
    {
      "cell_type": "code",
      "execution_count": 4,
      "metadata": {
        "colab": {
          "base_uri": "https://localhost:8080/",
          "height": 192
        },
        "id": "6KFCaStroAvh",
        "outputId": "ad40d165-e896-4a33-bed0-e9a21129daea"
      },
      "outputs": [
        {
          "name": "stderr",
          "output_type": "stream",
          "text": [
            "NumExpr defaulting to 2 threads.\n"
          ]
        },
        {
          "data": {
            "text/html": [
              "\n",
              "  <div id=\"df-ab7deaa4-6f69-40a5-94dd-a09160814a47\">\n",
              "    <div class=\"colab-df-container\">\n",
              "      <div>\n",
              "<style scoped>\n",
              "    .dataframe tbody tr th:only-of-type {\n",
              "        vertical-align: middle;\n",
              "    }\n",
              "\n",
              "    .dataframe tbody tr th {\n",
              "        vertical-align: top;\n",
              "    }\n",
              "\n",
              "    .dataframe thead th {\n",
              "        text-align: right;\n",
              "    }\n",
              "</style>\n",
              "<table border=\"1\" class=\"dataframe\">\n",
              "  <thead>\n",
              "    <tr style=\"text-align: right;\">\n",
              "      <th></th>\n",
              "      <th>user_id</th>\n",
              "      <th>anime_id</th>\n",
              "      <th>rating</th>\n",
              "    </tr>\n",
              "  </thead>\n",
              "  <tbody>\n",
              "    <tr>\n",
              "      <th>0</th>\n",
              "      <td>0</td>\n",
              "      <td>67</td>\n",
              "      <td>9</td>\n",
              "    </tr>\n",
              "    <tr>\n",
              "      <th>1</th>\n",
              "      <td>0</td>\n",
              "      <td>6702</td>\n",
              "      <td>7</td>\n",
              "    </tr>\n",
              "    <tr>\n",
              "      <th>2</th>\n",
              "      <td>0</td>\n",
              "      <td>242</td>\n",
              "      <td>10</td>\n",
              "    </tr>\n",
              "    <tr>\n",
              "      <th>3</th>\n",
              "      <td>0</td>\n",
              "      <td>4898</td>\n",
              "      <td>0</td>\n",
              "    </tr>\n",
              "  </tbody>\n",
              "</table>\n",
              "</div>\n",
              "      <button class=\"colab-df-convert\" onclick=\"convertToInteractive('df-ab7deaa4-6f69-40a5-94dd-a09160814a47')\"\n",
              "              title=\"Convert this dataframe to an interactive table.\"\n",
              "              style=\"display:none;\">\n",
              "        \n",
              "  <svg xmlns=\"http://www.w3.org/2000/svg\" height=\"24px\"viewBox=\"0 0 24 24\"\n",
              "       width=\"24px\">\n",
              "    <path d=\"M0 0h24v24H0V0z\" fill=\"none\"/>\n",
              "    <path d=\"M18.56 5.44l.94 2.06.94-2.06 2.06-.94-2.06-.94-.94-2.06-.94 2.06-2.06.94zm-11 1L8.5 8.5l.94-2.06 2.06-.94-2.06-.94L8.5 2.5l-.94 2.06-2.06.94zm10 10l.94 2.06.94-2.06 2.06-.94-2.06-.94-.94-2.06-.94 2.06-2.06.94z\"/><path d=\"M17.41 7.96l-1.37-1.37c-.4-.4-.92-.59-1.43-.59-.52 0-1.04.2-1.43.59L10.3 9.45l-7.72 7.72c-.78.78-.78 2.05 0 2.83L4 21.41c.39.39.9.59 1.41.59.51 0 1.02-.2 1.41-.59l7.78-7.78 2.81-2.81c.8-.78.8-2.07 0-2.86zM5.41 20L4 18.59l7.72-7.72 1.47 1.35L5.41 20z\"/>\n",
              "  </svg>\n",
              "      </button>\n",
              "      \n",
              "  <style>\n",
              "    .colab-df-container {\n",
              "      display:flex;\n",
              "      flex-wrap:wrap;\n",
              "      gap: 12px;\n",
              "    }\n",
              "\n",
              "    .colab-df-convert {\n",
              "      background-color: #E8F0FE;\n",
              "      border: none;\n",
              "      border-radius: 50%;\n",
              "      cursor: pointer;\n",
              "      display: none;\n",
              "      fill: #1967D2;\n",
              "      height: 32px;\n",
              "      padding: 0 0 0 0;\n",
              "      width: 32px;\n",
              "    }\n",
              "\n",
              "    .colab-df-convert:hover {\n",
              "      background-color: #E2EBFA;\n",
              "      box-shadow: 0px 1px 2px rgba(60, 64, 67, 0.3), 0px 1px 3px 1px rgba(60, 64, 67, 0.15);\n",
              "      fill: #174EA6;\n",
              "    }\n",
              "\n",
              "    [theme=dark] .colab-df-convert {\n",
              "      background-color: #3B4455;\n",
              "      fill: #D2E3FC;\n",
              "    }\n",
              "\n",
              "    [theme=dark] .colab-df-convert:hover {\n",
              "      background-color: #434B5C;\n",
              "      box-shadow: 0px 1px 3px 1px rgba(0, 0, 0, 0.15);\n",
              "      filter: drop-shadow(0px 1px 2px rgba(0, 0, 0, 0.3));\n",
              "      fill: #FFFFFF;\n",
              "    }\n",
              "  </style>\n",
              "\n",
              "      <script>\n",
              "        const buttonEl =\n",
              "          document.querySelector('#df-ab7deaa4-6f69-40a5-94dd-a09160814a47 button.colab-df-convert');\n",
              "        buttonEl.style.display =\n",
              "          google.colab.kernel.accessAllowed ? 'block' : 'none';\n",
              "\n",
              "        async function convertToInteractive(key) {\n",
              "          const element = document.querySelector('#df-ab7deaa4-6f69-40a5-94dd-a09160814a47');\n",
              "          const dataTable =\n",
              "            await google.colab.kernel.invokeFunction('convertToInteractive',\n",
              "                                                     [key], {});\n",
              "          if (!dataTable) return;\n",
              "\n",
              "          const docLinkHtml = 'Like what you see? Visit the ' +\n",
              "            '<a target=\"_blank\" href=https://colab.research.google.com/notebooks/data_table.ipynb>data table notebook</a>'\n",
              "            + ' to learn more about interactive tables.';\n",
              "          element.innerHTML = '';\n",
              "          dataTable['output_type'] = 'display_data';\n",
              "          await google.colab.output.renderOutput(dataTable, element);\n",
              "          const docLink = document.createElement('div');\n",
              "          docLink.innerHTML = docLinkHtml;\n",
              "          element.appendChild(docLink);\n",
              "        }\n",
              "      </script>\n",
              "    </div>\n",
              "  </div>\n",
              "  "
            ],
            "text/plain": [
              "   user_id  anime_id  rating\n",
              "0        0        67       9\n",
              "1        0      6702       7\n",
              "2        0       242      10\n",
              "3        0      4898       0"
            ]
          },
          "execution_count": 4,
          "metadata": {},
          "output_type": "execute_result"
        }
      ],
      "source": [
        "import numpy as np\n",
        "import pandas as pd\n",
        "\n",
        "rating_df_iter = pd.read_csv(INPUT_DIR + '/animelist.csv', \n",
        "                        low_memory=False, \n",
        "                        engine='c',\n",
        "                        usecols=[\"user_id\", \"anime_id\", \"rating\"],\n",
        "                        chunksize=10000\n",
        "                        )\n",
        "\n",
        "rating_df = pd.concat(rating_df_iter)\n",
        "\n",
        "# rating_df = pd.read_csv(INPUT_DIR + '/animelist_min.csv', \n",
        "#                         low_memory=False, \n",
        "#                         usecols=[\"user_id\", \"anime_id\", \"rating\"]\n",
        "#                         )\n",
        "\n",
        "rating_df.head(4)"
      ]
    },
    {
      "cell_type": "code",
      "execution_count": 5,
      "metadata": {
        "colab": {
          "base_uri": "https://localhost:8080/"
        },
        "id": "_e8lu2EMoAvi",
        "outputId": "d5b16df8-15df-444e-9db3-53b91baf53be"
      },
      "outputs": [
        {
          "data": {
            "text/plain": [
              "7576716"
            ]
          },
          "execution_count": 5,
          "metadata": {},
          "output_type": "execute_result"
        }
      ],
      "source": [
        "# User should rate atleast 400 animies\n",
        "n_user_ratings = rating_df['user_id'].value_counts()\n",
        "rating_df = rating_df[rating_df['user_id'].isin(n_user_ratings[n_user_ratings >= 2000].index)].copy(deep=False)\n",
        "n_anime_ratings = rating_df['anime_id'].value_counts()\n",
        "rating_df = rating_df[rating_df['anime_id'].isin(n_anime_ratings[n_anime_ratings >= 50].index)].copy(deep=False)\n",
        "len(rating_df)"
      ]
    },
    {
      "cell_type": "code",
      "execution_count": 6,
      "metadata": {
        "colab": {
          "base_uri": "https://localhost:8080/"
        },
        "id": "7C2pTq7foAvj",
        "outputId": "d4d86d42-7f3d-477f-82bd-af65bca79937"
      },
      "outputs": [
        {
          "name": "stdout",
          "output_type": "stream",
          "text": [
            "Avg 0.313771546934054\n"
          ]
        }
      ],
      "source": [
        "# Scaling BTW (0 , 1.0)\n",
        "min_rating = min(rating_df['rating'])\n",
        "max_rating = max(rating_df['rating'])\n",
        "rating_df['rating'] = rating_df[\"rating\"].apply(lambda x: (x - min_rating) / (max_rating - min_rating)).values.astype(np.float64)\n",
        "\n",
        "AvgRating = np.mean(rating_df['rating'])\n",
        "print('Avg', AvgRating)"
      ]
    },
    {
      "cell_type": "code",
      "execution_count": 7,
      "metadata": {
        "colab": {
          "base_uri": "https://localhost:8080/"
        },
        "id": "nfVLV7vxoAvk",
        "outputId": "34cd578d-261a-4344-c446-59f062518291"
      },
      "outputs": [
        {
          "name": "stdout",
          "output_type": "stream",
          "text": [
            "> 0 duplicates\n"
          ]
        }
      ],
      "source": [
        "# Removing Duplicated Rows\n",
        "duplicates = rating_df.duplicated()\n",
        "\n",
        "if duplicates.sum() > 0:\n",
        "    print('> {} duplicates'.format(duplicates.sum()))\n",
        "    rating_df = rating_df[~duplicates]\n",
        "\n",
        "print('> {} duplicates'.format(rating_df.duplicated().sum()))"
      ]
    },
    {
      "cell_type": "markdown",
      "metadata": {
        "id": "xCWLERY5oAvk"
      },
      "source": [
        "## **Data Preprocessing (If have the preprocessed data then can skip.)**"
      ]
    },
    {
      "cell_type": "code",
      "execution_count": 8,
      "metadata": {
        "colab": {
          "base_uri": "https://localhost:8080/"
        },
        "id": "Ga5RfU20oAvk",
        "outputId": "52a23cc4-c3b0-4b6b-8b89-4713a3ebaa80"
      },
      "outputs": [
        {
          "name": "stdout",
          "output_type": "stream",
          "text": [
            "Num of users: 2463, Num of animes: 15749\n",
            "Min rating: 0.0, Max rating: 1.0\n"
          ]
        }
      ],
      "source": [
        "# Encoding categorical data\n",
        "user_ids = rating_df[\"user_id\"].unique().tolist()\n",
        "user2user_encoded = {x: i for i, x in enumerate(user_ids)}\n",
        "user_encoded2user = {i: x for i, x in enumerate(user_ids)}\n",
        "rating_df[\"user\"] = rating_df[\"user_id\"].map(user2user_encoded)\n",
        "n_users = len(user2user_encoded)\n",
        "\n",
        "anime_ids = rating_df[\"anime_id\"].unique().tolist()\n",
        "anime2anime_encoded = {x: i for i, x in enumerate(anime_ids)}\n",
        "anime_encoded2anime = {i: x for i, x in enumerate(anime_ids)}\n",
        "rating_df[\"anime\"] = rating_df[\"anime_id\"].map(anime2anime_encoded)\n",
        "n_animes = len(anime2anime_encoded)\n",
        "\n",
        "field_dims = [n_users, n_animes]\n",
        "\n",
        "print(\"Num of users: {}, Num of animes: {}\".format(n_users, n_animes))\n",
        "print(\"Min rating: {}, Max rating: {}\".format(min(rating_df['rating']), max(rating_df['rating'])))"
      ]
    },
    {
      "cell_type": "code",
      "execution_count": 9,
      "metadata": {
        "id": "EQghqRInoAvl"
      },
      "outputs": [],
      "source": [
        "# Shuffle\n",
        "rating_df = rating_df.sample(frac=1, random_state=73).copy(deep=False)\n",
        "\n",
        "df_x = rating_df[['user', 'anime']].copy(deep=False)\n",
        "df_y = rating_df[[\"rating\"]].copy(deep=False)"
      ]
    },
    {
      "cell_type": "markdown",
      "metadata": {
        "id": "TIBPCyrYoAvl"
      },
      "source": [
        "Save the preprocessed data"
      ]
    },
    {
      "cell_type": "code",
      "execution_count": 10,
      "metadata": {
        "id": "YXKEzjYboAvm"
      },
      "outputs": [],
      "source": [
        "compression_opts = dict(method='zip', archive_name='preprocessed_animelist.csv')  \n",
        "rating_df.to_csv('preprocessed_animelist.csv.zip', index=False, compression=compression_opts)"
      ]
    },
    {
      "cell_type": "markdown",
      "metadata": {
        "id": "CwD-YEKXoAvm"
      },
      "source": [
        "export the encode config"
      ]
    },
    {
      "cell_type": "code",
      "execution_count": 11,
      "metadata": {
        "id": "_8JZpnMboAvm"
      },
      "outputs": [],
      "source": [
        "import json\n",
        "\n",
        "\n",
        "encode_config = {\n",
        "    'user2user_encoded': user2user_encoded,\n",
        "    'user_encoded2user': user_encoded2user,\n",
        "    'anime2anime_encoded': anime2anime_encoded,\n",
        "    'anime_encoded2anime': anime_encoded2anime\n",
        "}\n",
        "\n",
        "with open('./model/encode_config.json', 'w') as f:\n",
        "    json.dump(encode_config, f, indent=4, ensure_ascii=False)"
      ]
    },
    {
      "cell_type": "markdown",
      "metadata": {
        "id": "hStP-Jl1oAvm"
      },
      "source": [
        "# **Load data from preprocessed dataset.(If have preprocessed dataset can start from here)**"
      ]
    },
    {
      "cell_type": "markdown",
      "metadata": {
        "id": "Rd0_cSWdoAvm"
      },
      "source": [
        "Colab"
      ]
    },
    {
      "cell_type": "code",
      "execution_count": null,
      "metadata": {
        "id": "1XxdcCX0oAvn"
      },
      "outputs": [],
      "source": [
        "# !gdown --id 1CLWxXspLAP_7FQjAdU4I2cBpWQiiAgvk\n",
        "# !mv preprocessed_animelist.csv.zip ./data"
      ]
    },
    {
      "cell_type": "markdown",
      "metadata": {
        "id": "5FRbKsTgoAvn"
      },
      "source": [
        "Unzip data"
      ]
    },
    {
      "cell_type": "code",
      "execution_count": null,
      "metadata": {
        "id": "cO7kHekCoAvn"
      },
      "outputs": [],
      "source": [
        "# !unzip ./data/preprocessed_animelist.csv.zip\n",
        "# !mv preprocessed_animelist.csv ./data"
      ]
    },
    {
      "cell_type": "code",
      "execution_count": 3,
      "metadata": {
        "id": "df4QLWbIoAvn",
        "outputId": "bedabd94-0247-476d-872d-54f0e890b89a"
      },
      "outputs": [
        {
          "name": "stdout",
          "output_type": "stream",
          "text": [
            "anime_with_synopsis.csv      animelist_min.csv\n",
            "anime_with_synopsis.csv.zip  preprocessed_animelist.csv\n"
          ]
        },
        {
          "data": {
            "text/html": [
              "<div>\n",
              "<style scoped>\n",
              "    .dataframe tbody tr th:only-of-type {\n",
              "        vertical-align: middle;\n",
              "    }\n",
              "\n",
              "    .dataframe tbody tr th {\n",
              "        vertical-align: top;\n",
              "    }\n",
              "\n",
              "    .dataframe thead th {\n",
              "        text-align: right;\n",
              "    }\n",
              "</style>\n",
              "<table border=\"1\" class=\"dataframe\">\n",
              "  <thead>\n",
              "    <tr style=\"text-align: right;\">\n",
              "      <th></th>\n",
              "      <th>user_id</th>\n",
              "      <th>anime_id</th>\n",
              "      <th>rating</th>\n",
              "    </tr>\n",
              "  </thead>\n",
              "  <tbody>\n",
              "    <tr>\n",
              "      <th>0</th>\n",
              "      <td>278536</td>\n",
              "      <td>31845</td>\n",
              "      <td>0.9</td>\n",
              "    </tr>\n",
              "    <tr>\n",
              "      <th>1</th>\n",
              "      <td>56255</td>\n",
              "      <td>24919</td>\n",
              "      <td>0.0</td>\n",
              "    </tr>\n",
              "    <tr>\n",
              "      <th>2</th>\n",
              "      <td>54171</td>\n",
              "      <td>2386</td>\n",
              "      <td>0.6</td>\n",
              "    </tr>\n",
              "    <tr>\n",
              "      <th>3</th>\n",
              "      <td>292408</td>\n",
              "      <td>5028</td>\n",
              "      <td>0.7</td>\n",
              "    </tr>\n",
              "  </tbody>\n",
              "</table>\n",
              "</div>"
            ],
            "text/plain": [
              "   user_id  anime_id  rating\n",
              "0   278536     31845     0.9\n",
              "1    56255     24919     0.0\n",
              "2    54171      2386     0.6\n",
              "3   292408      5028     0.7"
            ]
          },
          "execution_count": 3,
          "metadata": {},
          "output_type": "execute_result"
        }
      ],
      "source": [
        "INPUT_DIR = './data'\n",
        "!ls {INPUT_DIR}\n",
        "\n",
        "import numpy as np\n",
        "import pandas as pd\n",
        "\n",
        "# rating_df_iter = pd.read_csv(INPUT_DIR + '/preprocessed_animelist.csv', \n",
        "#                         low_memory=False, \n",
        "#                         usecols=[\"user_id\", \"anime_id\", \"rating\"],\n",
        "#                         chunksize=10000\n",
        "#                         )\n",
        "\n",
        "# rating_df = pd.concat(rating_df_iter)\n",
        "\n",
        "rating_df = pd.read_csv(INPUT_DIR + '/preprocessed_animelist.csv', \n",
        "                        low_memory=False, \n",
        "                        usecols=[\"user_id\", \"anime_id\", \"rating\"]\n",
        "                        )\n",
        "\n",
        "rating_df.head(4)"
      ]
    },
    {
      "cell_type": "code",
      "execution_count": 4,
      "metadata": {
        "id": "0S0CarTCoAvo",
        "outputId": "f4279e8e-8a5b-4549-a852-348e6b6a16d7"
      },
      "outputs": [
        {
          "name": "stdout",
          "output_type": "stream",
          "text": [
            "Num of users: 2463, Num of animes: 15749\n",
            "Min rating: 0.0, Max rating: 1.0\n"
          ]
        }
      ],
      "source": [
        "# Encoding categorical data\n",
        "user_ids = rating_df[\"user_id\"].unique().tolist()\n",
        "user2user_encoded = {x: i for i, x in enumerate(user_ids)}\n",
        "user_encoded2user = {i: x for i, x in enumerate(user_ids)}\n",
        "rating_df[\"user\"] = rating_df[\"user_id\"].map(user2user_encoded)\n",
        "n_users = len(user2user_encoded)\n",
        "\n",
        "anime_ids = rating_df[\"anime_id\"].unique().tolist()\n",
        "anime2anime_encoded = {x: i for i, x in enumerate(anime_ids)}\n",
        "anime_encoded2anime = {i: x for i, x in enumerate(anime_ids)}\n",
        "rating_df[\"anime\"] = rating_df[\"anime_id\"].map(anime2anime_encoded)\n",
        "n_animes = len(anime2anime_encoded)\n",
        "\n",
        "field_dims = [n_users, n_animes]\n",
        "\n",
        "print(\"Num of users: {}, Num of animes: {}\".format(n_users, n_animes))\n",
        "print(\"Min rating: {}, Max rating: {}\".format(min(rating_df['rating']), max(rating_df['rating'])))"
      ]
    },
    {
      "cell_type": "markdown",
      "metadata": {
        "id": "XMviJYT8oAvo"
      },
      "source": [
        "pairwise rating"
      ]
    },
    {
      "cell_type": "code",
      "execution_count": 5,
      "metadata": {
        "id": "joob1qKwoAvo"
      },
      "outputs": [],
      "source": [
        "rating_df[\"rating\"] = rating_df[\"rating\"].transform(lambda x: 1.0 if x > 0.6 else 0.)"
      ]
    },
    {
      "cell_type": "code",
      "execution_count": 6,
      "metadata": {
        "id": "tJIKstdVoAvo"
      },
      "outputs": [],
      "source": [
        "df_x = rating_df[['user', 'anime']].copy(deep=False)\n",
        "df_y = rating_df[[\"rating\"]].copy(deep=False)"
      ]
    },
    {
      "cell_type": "markdown",
      "metadata": {
        "id": "5ZAR7a7uoAvo"
      },
      "source": [
        "encode config"
      ]
    },
    {
      "cell_type": "code",
      "execution_count": 7,
      "metadata": {
        "id": "9D2zx87doAvo"
      },
      "outputs": [],
      "source": [
        "import json\n",
        "\n",
        "\n",
        "encode_config = {\n",
        "    'user2user_encoded': user2user_encoded,\n",
        "    'user_encoded2user': user_encoded2user,\n",
        "    'anime2anime_encoded': anime2anime_encoded,\n",
        "    'anime_encoded2anime': anime_encoded2anime\n",
        "}\n",
        "\n",
        "with open('./model/encode_config.json', 'w') as f:\n",
        "    json.dump(encode_config, f, indent=4, ensure_ascii=False)"
      ]
    },
    {
      "cell_type": "markdown",
      "metadata": {
        "id": "sbGbJU33oAvp"
      },
      "source": [
        "# **Training config**"
      ]
    },
    {
      "cell_type": "code",
      "execution_count": 15,
      "metadata": {
        "id": "NmgkGPUHoAvp"
      },
      "outputs": [],
      "source": [
        "import os\n",
        "from schema.training import TrainingConfig\n",
        "\n",
        "training_config = TrainingConfig(\n",
        "    batch_size=2048,\n",
        "    epochs=5,\n",
        "    n_workers=os.cpu_count(),\n",
        "    model_size=1000,\n",
        "    lr_factor=2.,\n",
        "    lr_warm_up=2000\n",
        ")"
      ]
    },
    {
      "cell_type": "markdown",
      "metadata": {
        "id": "RJosHPq_oAvp"
      },
      "source": [
        "# **Load data into tensor**"
      ]
    },
    {
      "cell_type": "code",
      "execution_count": 16,
      "metadata": {
        "id": "Fp7Zsv-SoAvp",
        "outputId": "3cb4bf5c-2a3f-4ff4-d595-01aae5fb5980"
      },
      "outputs": [],
      "source": [
        "import torch\n",
        "\n",
        "\n",
        "from training.functools import get_dataloader, get_dataloader_df\n",
        "from training.dataset import MyDataSet\n",
        "\n",
        "\n",
        "# dataset = MyDataSet(df_x=df_x, df_y=df_y)\n",
        "# train_loader, valid_loader, test_loader = get_dataloader(\n",
        "#     dataset=dataset,\n",
        "#     batch_size=training_config.batch_size,\n",
        "#     n_workers=training_config.n_workers,\n",
        "#     valid_ratio=0.1,\n",
        "#     test_ratio=0.1\n",
        "# )\n",
        "\n",
        "train_loader, valid_loader, test_loader = get_dataloader_df(\n",
        "    df_x=df_x,\n",
        "    df_y=df_y,\n",
        "    batch_size=training_config.batch_size,\n",
        "    n_workers=training_config.n_workers,\n",
        "    valid_ratio=0.1,\n",
        "    test_ratio=0.1\n",
        ")"
      ]
    },
    {
      "cell_type": "markdown",
      "metadata": {
        "id": "drfkYaiioAvp"
      },
      "source": [
        "# **Import the model**"
      ]
    },
    {
      "cell_type": "code",
      "execution_count": 17,
      "metadata": {
        "id": "mPVwrOfUoAvq"
      },
      "outputs": [],
      "source": [
        "from recommender.ranking_base_filter.model import FactorizationMachineModel\n",
        "\n",
        "model = FactorizationMachineModel(\n",
        "    field_dims=field_dims,\n",
        "    embed_dim=32\n",
        ")"
      ]
    },
    {
      "cell_type": "markdown",
      "metadata": {
        "id": "YgAKO9KWoAvq"
      },
      "source": [
        "# **Train the model** "
      ]
    },
    {
      "cell_type": "markdown",
      "metadata": {
        "id": "SR0BUp5noAvq"
      },
      "source": [
        "optimizer"
      ]
    },
    {
      "cell_type": "code",
      "execution_count": 18,
      "metadata": {
        "id": "Z6y3rD-goAvq"
      },
      "outputs": [],
      "source": [
        "from training.trainer import NoamOpt\n",
        "\n",
        "# optimizer = NoamOpt(\n",
        "#     **training_config.get_optimizer_config(),\n",
        "#     optimizer=torch.optim.AdamW(model.parameters(), lr=0, betas=(0.9, 0.98), eps=1e-9, weight_decay=0.0001)\n",
        "# )\n",
        "\n",
        "optimizer=torch.optim.AdamW(model.parameters(), lr=1e-3, betas=(0.9, 0.98), eps=1e-9, weight_decay=0.0001)"
      ]
    },
    {
      "cell_type": "markdown",
      "metadata": {
        "id": "PXMa0GNpoAvq"
      },
      "source": [
        "loss criterion"
      ]
    },
    {
      "cell_type": "code",
      "execution_count": 19,
      "metadata": {
        "id": "QMLmpYpCoAvq"
      },
      "outputs": [],
      "source": [
        "import torch.nn as nn\n",
        "\n",
        "# loss_criterion = nn.MSELoss()\n",
        "loss_criterion = nn.BCELoss()"
      ]
    },
    {
      "cell_type": "code",
      "execution_count": 20,
      "metadata": {
        "id": "IZbKt6cYoAvq"
      },
      "outputs": [],
      "source": [
        "from training.trainer import ModelTrainer\n",
        "\n",
        "\n",
        "cuda = torch.cuda.is_available()  \n",
        "device = torch.device('cuda' if cuda else 'cpu')\n",
        "\n",
        "model_trainer = ModelTrainer(\n",
        "    train_loader=train_loader,\n",
        "    valid_loader=valid_loader,\n",
        "    model=model,\n",
        "    loss_criterion=loss_criterion,\n",
        "    optimizer=optimizer,\n",
        "    device=device,\n",
        "    model_save_path=\"./model/model.pt\"\n",
        ")"
      ]
    },
    {
      "cell_type": "markdown",
      "metadata": {
        "id": "6CcLIg4KoAvr"
      },
      "source": [
        "Start to train"
      ]
    },
    {
      "cell_type": "code",
      "execution_count": 21,
      "metadata": {
        "id": "FCjSAqtOoAvr",
        "outputId": "f3f19e9d-3b1a-4212-c519-4d96030a31f6"
      },
      "outputs": [
        {
          "name": "stderr",
          "output_type": "stream",
          "text": [
            "train epoch 1: 100%|██████████| 2959/2959 [09:37<00:00,  5.13it/s, loss=0.393, step=2959]\n",
            "training loss: 0.5159\n",
            "validation epoch 1: 100%|██████████| 369/369 [00:56<00:00,  6.50it/s]\n",
            "validation loss: 0.3949\n",
            "Save the model.\n",
            "train epoch 2: 100%|██████████| 2959/2959 [09:19<00:00,  5.29it/s, loss=0.374, step=5918]\n",
            "training loss: 0.3857\n",
            "validation epoch 2: 100%|██████████| 369/369 [00:58<00:00,  6.29it/s]\n",
            "validation loss: 0.3818\n",
            "Save the model.\n",
            "train epoch 3: 100%|██████████| 2959/2959 [09:12<00:00,  5.35it/s, loss=0.388, step=8877]\n",
            "training loss: 0.3750\n",
            "validation epoch 3: 100%|██████████| 369/369 [00:56<00:00,  6.48it/s]\n",
            "validation loss: 0.3707\n",
            "Save the model.\n",
            "train epoch 4:   2%|▏         | 52/2959 [00:11<10:59,  4.41it/s, loss=0.359, step=8929]\n"
          ]
        },
        {
          "ename": "KeyboardInterrupt",
          "evalue": "",
          "output_type": "error",
          "traceback": [
            "\u001b[0;31m---------------------------------------------------------------------------\u001b[0m",
            "\u001b[0;31mKeyboardInterrupt\u001b[0m                         Traceback (most recent call last)",
            "\u001b[1;32m/mnt/c/Users/Yoshi/source/repos/Sideprojects/Anime_Recommender_system/scripts/training.ipynb Cell 46'\u001b[0m in \u001b[0;36m<cell line: 1>\u001b[0;34m()\u001b[0m\n\u001b[1;32m      <a href='vscode-notebook-cell://wsl%2Bubuntu-20.04/mnt/c/Users/Yoshi/source/repos/Sideprojects/Anime_Recommender_system/scripts/training.ipynb#ch0000045vscode-remote?line=0'>1</a>\u001b[0m \u001b[39mfor\u001b[39;00m epoch \u001b[39min\u001b[39;00m \u001b[39mrange\u001b[39m(training_config\u001b[39m.\u001b[39mepochs):\n\u001b[0;32m----> <a href='vscode-notebook-cell://wsl%2Bubuntu-20.04/mnt/c/Users/Yoshi/source/repos/Sideprojects/Anime_Recommender_system/scripts/training.ipynb#ch0000045vscode-remote?line=1'>2</a>\u001b[0m     training_status \u001b[39m=\u001b[39m model_trainer\u001b[39m.\u001b[39;49mtraining_one_epoch()\n",
            "File \u001b[0;32m/mnt/c/Users/Yoshi/source/repos/Sideprojects/Anime_Recommender_system/training/trainer.py:93\u001b[0m, in \u001b[0;36mModelTrainer.training_one_epoch\u001b[0;34m(self)\u001b[0m\n\u001b[1;32m     91\u001b[0m loss_step \u001b[39m=\u001b[39m []\n\u001b[1;32m     92\u001b[0m progress \u001b[39m=\u001b[39m tqdm(\u001b[39mself\u001b[39m\u001b[39m.\u001b[39mtrain_loader, desc\u001b[39m=\u001b[39m\u001b[39mf\u001b[39m\u001b[39m\"\u001b[39m\u001b[39mtrain epoch \u001b[39m\u001b[39m{\u001b[39;00m\u001b[39mself\u001b[39m\u001b[39m.\u001b[39mepoch\u001b[39m}\u001b[39;00m\u001b[39m\"\u001b[39m, leave\u001b[39m=\u001b[39m\u001b[39mTrue\u001b[39;00m)\n\u001b[0;32m---> 93\u001b[0m \u001b[39mfor\u001b[39;00m data \u001b[39min\u001b[39;00m progress:\n\u001b[1;32m     94\u001b[0m     \u001b[39mself\u001b[39m\u001b[39m.\u001b[39mstep \u001b[39m+\u001b[39m\u001b[39m=\u001b[39m \u001b[39m1\u001b[39m\n\u001b[1;32m     95\u001b[0m     \u001b[39mself\u001b[39m\u001b[39m.\u001b[39mmodel\u001b[39m.\u001b[39mzero_grad()\n",
            "File \u001b[0;32m~/miniconda3/envs/ml/lib/python3.8/site-packages/tqdm/std.py:1195\u001b[0m, in \u001b[0;36mtqdm.__iter__\u001b[0;34m(self)\u001b[0m\n\u001b[1;32m   1192\u001b[0m time \u001b[39m=\u001b[39m \u001b[39mself\u001b[39m\u001b[39m.\u001b[39m_time\n\u001b[1;32m   1194\u001b[0m \u001b[39mtry\u001b[39;00m:\n\u001b[0;32m-> 1195\u001b[0m     \u001b[39mfor\u001b[39;00m obj \u001b[39min\u001b[39;00m iterable:\n\u001b[1;32m   1196\u001b[0m         \u001b[39myield\u001b[39;00m obj\n\u001b[1;32m   1197\u001b[0m         \u001b[39m# Update and possibly print the progressbar.\u001b[39;00m\n\u001b[1;32m   1198\u001b[0m         \u001b[39m# Note: does not call self.update(1) for speed optimisation.\u001b[39;00m\n",
            "File \u001b[0;32m~/miniconda3/envs/ml/lib/python3.8/site-packages/torch/utils/data/dataloader.py:530\u001b[0m, in \u001b[0;36m_BaseDataLoaderIter.__next__\u001b[0;34m(self)\u001b[0m\n\u001b[1;32m    528\u001b[0m \u001b[39mif\u001b[39;00m \u001b[39mself\u001b[39m\u001b[39m.\u001b[39m_sampler_iter \u001b[39mis\u001b[39;00m \u001b[39mNone\u001b[39;00m:\n\u001b[1;32m    529\u001b[0m     \u001b[39mself\u001b[39m\u001b[39m.\u001b[39m_reset()\n\u001b[0;32m--> 530\u001b[0m data \u001b[39m=\u001b[39m \u001b[39mself\u001b[39;49m\u001b[39m.\u001b[39;49m_next_data()\n\u001b[1;32m    531\u001b[0m \u001b[39mself\u001b[39m\u001b[39m.\u001b[39m_num_yielded \u001b[39m+\u001b[39m\u001b[39m=\u001b[39m \u001b[39m1\u001b[39m\n\u001b[1;32m    532\u001b[0m \u001b[39mif\u001b[39;00m \u001b[39mself\u001b[39m\u001b[39m.\u001b[39m_dataset_kind \u001b[39m==\u001b[39m _DatasetKind\u001b[39m.\u001b[39mIterable \u001b[39mand\u001b[39;00m \\\n\u001b[1;32m    533\u001b[0m         \u001b[39mself\u001b[39m\u001b[39m.\u001b[39m_IterableDataset_len_called \u001b[39mis\u001b[39;00m \u001b[39mnot\u001b[39;00m \u001b[39mNone\u001b[39;00m \u001b[39mand\u001b[39;00m \\\n\u001b[1;32m    534\u001b[0m         \u001b[39mself\u001b[39m\u001b[39m.\u001b[39m_num_yielded \u001b[39m>\u001b[39m \u001b[39mself\u001b[39m\u001b[39m.\u001b[39m_IterableDataset_len_called:\n",
            "File \u001b[0;32m~/miniconda3/envs/ml/lib/python3.8/site-packages/torch/utils/data/dataloader.py:1207\u001b[0m, in \u001b[0;36m_MultiProcessingDataLoaderIter._next_data\u001b[0;34m(self)\u001b[0m\n\u001b[1;32m   1204\u001b[0m     \u001b[39mreturn\u001b[39;00m \u001b[39mself\u001b[39m\u001b[39m.\u001b[39m_process_data(data)\n\u001b[1;32m   1206\u001b[0m \u001b[39massert\u001b[39;00m \u001b[39mnot\u001b[39;00m \u001b[39mself\u001b[39m\u001b[39m.\u001b[39m_shutdown \u001b[39mand\u001b[39;00m \u001b[39mself\u001b[39m\u001b[39m.\u001b[39m_tasks_outstanding \u001b[39m>\u001b[39m \u001b[39m0\u001b[39m\n\u001b[0;32m-> 1207\u001b[0m idx, data \u001b[39m=\u001b[39m \u001b[39mself\u001b[39;49m\u001b[39m.\u001b[39;49m_get_data()\n\u001b[1;32m   1208\u001b[0m \u001b[39mself\u001b[39m\u001b[39m.\u001b[39m_tasks_outstanding \u001b[39m-\u001b[39m\u001b[39m=\u001b[39m \u001b[39m1\u001b[39m\n\u001b[1;32m   1209\u001b[0m \u001b[39mif\u001b[39;00m \u001b[39mself\u001b[39m\u001b[39m.\u001b[39m_dataset_kind \u001b[39m==\u001b[39m _DatasetKind\u001b[39m.\u001b[39mIterable:\n\u001b[1;32m   1210\u001b[0m     \u001b[39m# Check for _IterableDatasetStopIteration\u001b[39;00m\n",
            "File \u001b[0;32m~/miniconda3/envs/ml/lib/python3.8/site-packages/torch/utils/data/dataloader.py:1173\u001b[0m, in \u001b[0;36m_MultiProcessingDataLoaderIter._get_data\u001b[0;34m(self)\u001b[0m\n\u001b[1;32m   1169\u001b[0m     \u001b[39m# In this case, `self._data_queue` is a `queue.Queue`,. But we don't\u001b[39;00m\n\u001b[1;32m   1170\u001b[0m     \u001b[39m# need to call `.task_done()` because we don't use `.join()`.\u001b[39;00m\n\u001b[1;32m   1171\u001b[0m \u001b[39melse\u001b[39;00m:\n\u001b[1;32m   1172\u001b[0m     \u001b[39mwhile\u001b[39;00m \u001b[39mTrue\u001b[39;00m:\n\u001b[0;32m-> 1173\u001b[0m         success, data \u001b[39m=\u001b[39m \u001b[39mself\u001b[39;49m\u001b[39m.\u001b[39;49m_try_get_data()\n\u001b[1;32m   1174\u001b[0m         \u001b[39mif\u001b[39;00m success:\n\u001b[1;32m   1175\u001b[0m             \u001b[39mreturn\u001b[39;00m data\n",
            "File \u001b[0;32m~/miniconda3/envs/ml/lib/python3.8/site-packages/torch/utils/data/dataloader.py:1011\u001b[0m, in \u001b[0;36m_MultiProcessingDataLoaderIter._try_get_data\u001b[0;34m(self, timeout)\u001b[0m\n\u001b[1;32m    998\u001b[0m \u001b[39mdef\u001b[39;00m \u001b[39m_try_get_data\u001b[39m(\u001b[39mself\u001b[39m, timeout\u001b[39m=\u001b[39m_utils\u001b[39m.\u001b[39mMP_STATUS_CHECK_INTERVAL):\n\u001b[1;32m    999\u001b[0m     \u001b[39m# Tries to fetch data from `self._data_queue` once for a given timeout.\u001b[39;00m\n\u001b[1;32m   1000\u001b[0m     \u001b[39m# This can also be used as inner loop of fetching without timeout, with\u001b[39;00m\n\u001b[0;32m   (...)\u001b[0m\n\u001b[1;32m   1008\u001b[0m     \u001b[39m# Returns a 2-tuple:\u001b[39;00m\n\u001b[1;32m   1009\u001b[0m     \u001b[39m#   (bool: whether successfully get data, any: data if successful else None)\u001b[39;00m\n\u001b[1;32m   1010\u001b[0m     \u001b[39mtry\u001b[39;00m:\n\u001b[0;32m-> 1011\u001b[0m         data \u001b[39m=\u001b[39m \u001b[39mself\u001b[39;49m\u001b[39m.\u001b[39;49m_data_queue\u001b[39m.\u001b[39;49mget(timeout\u001b[39m=\u001b[39;49mtimeout)\n\u001b[1;32m   1012\u001b[0m         \u001b[39mreturn\u001b[39;00m (\u001b[39mTrue\u001b[39;00m, data)\n\u001b[1;32m   1013\u001b[0m     \u001b[39mexcept\u001b[39;00m \u001b[39mException\u001b[39;00m \u001b[39mas\u001b[39;00m e:\n\u001b[1;32m   1014\u001b[0m         \u001b[39m# At timeout and error, we manually check whether any worker has\u001b[39;00m\n\u001b[1;32m   1015\u001b[0m         \u001b[39m# failed. Note that this is the only mechanism for Windows to detect\u001b[39;00m\n\u001b[1;32m   1016\u001b[0m         \u001b[39m# worker failures.\u001b[39;00m\n",
            "File \u001b[0;32m~/miniconda3/envs/ml/lib/python3.8/multiprocessing/queues.py:116\u001b[0m, in \u001b[0;36mQueue.get\u001b[0;34m(self, block, timeout)\u001b[0m\n\u001b[1;32m    114\u001b[0m         \u001b[39mself\u001b[39m\u001b[39m.\u001b[39m_rlock\u001b[39m.\u001b[39mrelease()\n\u001b[1;32m    115\u001b[0m \u001b[39m# unserialize the data after having released the lock\u001b[39;00m\n\u001b[0;32m--> 116\u001b[0m \u001b[39mreturn\u001b[39;00m _ForkingPickler\u001b[39m.\u001b[39;49mloads(res)\n",
            "File \u001b[0;32m~/miniconda3/envs/ml/lib/python3.8/site-packages/torch/multiprocessing/reductions.py:295\u001b[0m, in \u001b[0;36mrebuild_storage_fd\u001b[0;34m(cls, df, size)\u001b[0m\n\u001b[1;32m    294\u001b[0m \u001b[39mdef\u001b[39;00m \u001b[39mrebuild_storage_fd\u001b[39m(\u001b[39mcls\u001b[39m, df, size):\n\u001b[0;32m--> 295\u001b[0m     fd \u001b[39m=\u001b[39m df\u001b[39m.\u001b[39;49mdetach()\n\u001b[1;32m    296\u001b[0m     \u001b[39mtry\u001b[39;00m:\n\u001b[1;32m    297\u001b[0m         storage \u001b[39m=\u001b[39m storage_from_cache(\u001b[39mcls\u001b[39m, fd_id(fd))\n",
            "File \u001b[0;32m~/miniconda3/envs/ml/lib/python3.8/multiprocessing/resource_sharer.py:58\u001b[0m, in \u001b[0;36mDupFd.detach\u001b[0;34m(self)\u001b[0m\n\u001b[1;32m     56\u001b[0m \u001b[39m'''Get the fd.  This should only be called once.'''\u001b[39;00m\n\u001b[1;32m     57\u001b[0m \u001b[39mwith\u001b[39;00m _resource_sharer\u001b[39m.\u001b[39mget_connection(\u001b[39mself\u001b[39m\u001b[39m.\u001b[39m_id) \u001b[39mas\u001b[39;00m conn:\n\u001b[0;32m---> 58\u001b[0m     \u001b[39mreturn\u001b[39;00m reduction\u001b[39m.\u001b[39;49mrecv_handle(conn)\n",
            "File \u001b[0;32m~/miniconda3/envs/ml/lib/python3.8/multiprocessing/reduction.py:189\u001b[0m, in \u001b[0;36mrecv_handle\u001b[0;34m(conn)\u001b[0m\n\u001b[1;32m    187\u001b[0m \u001b[39m'''Receive a handle over a local connection.'''\u001b[39;00m\n\u001b[1;32m    188\u001b[0m \u001b[39mwith\u001b[39;00m socket\u001b[39m.\u001b[39mfromfd(conn\u001b[39m.\u001b[39mfileno(), socket\u001b[39m.\u001b[39mAF_UNIX, socket\u001b[39m.\u001b[39mSOCK_STREAM) \u001b[39mas\u001b[39;00m s:\n\u001b[0;32m--> 189\u001b[0m     \u001b[39mreturn\u001b[39;00m recvfds(s, \u001b[39m1\u001b[39;49m)[\u001b[39m0\u001b[39m]\n",
            "File \u001b[0;32m~/miniconda3/envs/ml/lib/python3.8/multiprocessing/reduction.py:157\u001b[0m, in \u001b[0;36mrecvfds\u001b[0;34m(sock, size)\u001b[0m\n\u001b[1;32m    155\u001b[0m a \u001b[39m=\u001b[39m array\u001b[39m.\u001b[39marray(\u001b[39m'\u001b[39m\u001b[39mi\u001b[39m\u001b[39m'\u001b[39m)\n\u001b[1;32m    156\u001b[0m bytes_size \u001b[39m=\u001b[39m a\u001b[39m.\u001b[39mitemsize \u001b[39m*\u001b[39m size\n\u001b[0;32m--> 157\u001b[0m msg, ancdata, flags, addr \u001b[39m=\u001b[39m sock\u001b[39m.\u001b[39;49mrecvmsg(\u001b[39m1\u001b[39;49m, socket\u001b[39m.\u001b[39;49mCMSG_SPACE(bytes_size))\n\u001b[1;32m    158\u001b[0m \u001b[39mif\u001b[39;00m \u001b[39mnot\u001b[39;00m msg \u001b[39mand\u001b[39;00m \u001b[39mnot\u001b[39;00m ancdata:\n\u001b[1;32m    159\u001b[0m     \u001b[39mraise\u001b[39;00m \u001b[39mEOFError\u001b[39;00m\n",
            "\u001b[0;31mKeyboardInterrupt\u001b[0m: "
          ]
        }
      ],
      "source": [
        "for epoch in range(training_config.epochs):\n",
        "    training_status = model_trainer.training_one_epoch()"
      ]
    },
    {
      "cell_type": "markdown",
      "metadata": {
        "id": "ycPuftdgoAvr"
      },
      "source": [
        "plot the training history"
      ]
    },
    {
      "cell_type": "code",
      "execution_count": 22,
      "metadata": {
        "id": "fIKUK8svoAvr",
        "outputId": "26cb3ad5-8c87-4000-dec7-9ad2ee83b2c4"
      },
      "outputs": [
        {
          "data": {
            "image/png": "[encoded data removed]",
            "text/plain": [
              "<Figure size 432x288 with 1 Axes>"
            ]
          },
          "metadata": {
            "needs_background": "light"
          },
          "output_type": "display_data"
        }
      ],
      "source": [
        "from training.functools import training_loss_epoch_mean_visualization\n",
        "\n",
        "\n",
        "training_status = model_trainer.export_training_status()\n",
        "train_epoch_x = list(training_status.train_loss_epoch_mean.keys())\n",
        "train_loss_y = list(training_status.train_loss_epoch_mean.values())\n",
        "valid_epoch_x = list(training_status.valid_loss_epoch_mean.keys())\n",
        "valid_loss_y = list(training_status.valid_loss_epoch_mean.values())\n",
        "\n",
        "training_loss_epoch_mean_visualization(\n",
        "    epoch_x=train_epoch_x,\n",
        "    train_loss_y=train_loss_y,\n",
        "    valid_loss_y=valid_loss_y\n",
        ")"
      ]
    },
    {
      "cell_type": "markdown",
      "metadata": {
        "id": "2TsuWW6LoAvr"
      },
      "source": [
        "Save training status"
      ]
    },
    {
      "cell_type": "code",
      "execution_count": null,
      "metadata": {},
      "outputs": [],
      "source": [
        "loss = model_trainer.test(test_loader)\n",
        "print(f\"Testing loss: {loss}\")"
      ]
    },
    {
      "cell_type": "code",
      "execution_count": null,
      "metadata": {
        "id": "SVBnCAmLoAvr"
      },
      "outputs": [],
      "source": [
        "import json\n",
        "\n",
        "\n",
        "with open(\"./model/training_status.json\", 'w') as f:\n",
        "    json.dump(training_status.dict(), f, indent=4, ensure_ascii=False)"
      ]
    }
  ],
  "metadata": {
    "colab": {
      "name": "training.ipynb",
      "provenance": []
    },
    "interpreter": {
      "hash": "cb2a16ad5343214987ec83273b09d3ac2f528968793a43e301f018a7f4736060"
    },
    "kernelspec": {
      "display_name": "Python 3.8.13 ('ml')",
      "language": "python",
      "name": "python3"
    },
    "language_info": {
      "codemirror_mode": {
        "name": "ipython",
        "version": 3
      },
      "file_extension": ".py",
      "mimetype": "text/x-python",
      "name": "python",
      "nbconvert_exporter": "python",
      "pygments_lexer": "ipython3",
      "version": "3.8.13"
    },
    "orig_nbformat": 4
  },
  "nbformat": 4,
  "nbformat_minor": 0
}
