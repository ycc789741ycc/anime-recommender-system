{
 "cells": [
  {
   "cell_type": "markdown",
   "metadata": {},
   "source": [
    "# **Add parent directory to python path**"
   ]
  },
  {
   "cell_type": "code",
   "execution_count": 1,
   "metadata": {},
   "outputs": [],
   "source": [
    "import os\n",
    "import sys\n",
    "\n",
    "parent_dir = os.path.join(os.getcwd(), '..')\n",
    "sys.path.append(parent_dir)"
   ]
  },
  {
   "cell_type": "markdown",
   "metadata": {},
   "source": [
    "Colab"
   ]
  },
  {
   "cell_type": "code",
   "execution_count": 2,
   "metadata": {},
   "outputs": [],
   "source": [
    "# !git clone https://github.com/ycc789741ycc/anime-recommender-system.git\n",
    "# %cd /content/anime-recommender-system/\n",
    "# !gdown --id 1sIT71hnPdT8rPbqm3j9q_yjkRE-cCjjM\n",
    "# !mkdir data\n",
    "# !mkdir model\n",
    "# !mv animelist.csv.zip ./data\n",
    "# !unzip ./data/animelist.csv.zip\n",
    "# !mv animelist.csv ./data"
   ]
  },
  {
   "cell_type": "markdown",
   "metadata": {},
   "source": [
    "# **Logger setting**"
   ]
  },
  {
   "cell_type": "code",
   "execution_count": 3,
   "metadata": {},
   "outputs": [],
   "source": [
    "import logging\n",
    "\n",
    "logger = logging.getLogger()\n",
    "\n",
    "chandler = logging.StreamHandler()\n",
    "chandler.setLevel(logging.DEBUG)\n",
    "\n",
    "logger.addHandler(chandler)\n",
    "logger.setLevel(logging.INFO)\n"
   ]
  },
  {
   "cell_type": "markdown",
   "metadata": {},
   "source": [
    "# **Load Data**"
   ]
  },
  {
   "cell_type": "code",
   "execution_count": 4,
   "metadata": {},
   "outputs": [
    {
     "name": "stdout",
     "output_type": "stream",
     "text": [
      "animelist_min.csv\n"
     ]
    }
   ],
   "source": [
    "INPUT_DIR = '../data'\n",
    "!ls {INPUT_DIR}"
   ]
  },
  {
   "cell_type": "code",
   "execution_count": 19,
   "metadata": {},
   "outputs": [
    {
     "data": {
      "text/html": [
       "<div>\n",
       "<style scoped>\n",
       "    .dataframe tbody tr th:only-of-type {\n",
       "        vertical-align: middle;\n",
       "    }\n",
       "\n",
       "    .dataframe tbody tr th {\n",
       "        vertical-align: top;\n",
       "    }\n",
       "\n",
       "    .dataframe thead th {\n",
       "        text-align: right;\n",
       "    }\n",
       "</style>\n",
       "<table border=\"1\" class=\"dataframe\">\n",
       "  <thead>\n",
       "    <tr style=\"text-align: right;\">\n",
       "      <th></th>\n",
       "      <th>user_id</th>\n",
       "      <th>anime_id</th>\n",
       "      <th>rating</th>\n",
       "    </tr>\n",
       "  </thead>\n",
       "  <tbody>\n",
       "    <tr>\n",
       "      <th>0</th>\n",
       "      <td>0</td>\n",
       "      <td>67</td>\n",
       "      <td>9</td>\n",
       "    </tr>\n",
       "    <tr>\n",
       "      <th>1</th>\n",
       "      <td>0</td>\n",
       "      <td>6702</td>\n",
       "      <td>7</td>\n",
       "    </tr>\n",
       "    <tr>\n",
       "      <th>2</th>\n",
       "      <td>0</td>\n",
       "      <td>242</td>\n",
       "      <td>10</td>\n",
       "    </tr>\n",
       "    <tr>\n",
       "      <th>3</th>\n",
       "      <td>0</td>\n",
       "      <td>4898</td>\n",
       "      <td>0</td>\n",
       "    </tr>\n",
       "  </tbody>\n",
       "</table>\n",
       "</div>"
      ],
      "text/plain": [
       "   user_id  anime_id  rating\n",
       "0        0        67       9\n",
       "1        0      6702       7\n",
       "2        0       242      10\n",
       "3        0      4898       0"
      ]
     },
     "execution_count": 19,
     "metadata": {},
     "output_type": "execute_result"
    }
   ],
   "source": [
    "import numpy as np\n",
    "import pandas as pd\n",
    "\n",
    "rating_df_iter = pd.read_csv(INPUT_DIR + '/animelist_min.csv', \n",
    "                        low_memory=False, \n",
    "                        usecols=[\"user_id\", \"anime_id\", \"rating\"],\n",
    "                        chunksize=10000\n",
    "                        )\n",
    "\n",
    "rating_df = pd.concat(rating_df_iter)\n",
    "\n",
    "# rating_df = pd.read_csv(INPUT_DIR + '/animelist_min.csv', \n",
    "#                         low_memory=False, \n",
    "#                         usecols=[\"user_id\", \"anime_id\", \"rating\"]\n",
    "#                         )\n",
    "\n",
    "rating_df.head(4)"
   ]
  },
  {
   "cell_type": "code",
   "execution_count": 35,
   "metadata": {},
   "outputs": [
    {
     "data": {
      "text/plain": [
       "10801"
      ]
     },
     "execution_count": 35,
     "metadata": {},
     "output_type": "execute_result"
    }
   ],
   "source": [
    "# User should rate atleast 400 animies\n",
    "n_ratings = rating_df['user_id'].value_counts()\n",
    "rating_df = rating_df[rating_df['user_id'].isin(n_ratings[n_ratings >= 400].index)].copy()\n",
    "len(rating_df)"
   ]
  },
  {
   "cell_type": "code",
   "execution_count": 20,
   "metadata": {},
   "outputs": [
    {
     "name": "stdout",
     "output_type": "stream",
     "text": [
      "Avg 0.40276059019514515\n"
     ]
    }
   ],
   "source": [
    "# Scaling BTW (0 , 1.0)\n",
    "min_rating = min(rating_df['rating'])\n",
    "max_rating = max(rating_df['rating'])\n",
    "rating_df['rating'] = rating_df[\"rating\"].apply(lambda x: (x - min_rating) / (max_rating - min_rating)).values.astype(np.float64)\n",
    "\n",
    "AvgRating = np.mean(rating_df['rating'])\n",
    "print('Avg', AvgRating)"
   ]
  },
  {
   "cell_type": "code",
   "execution_count": 7,
   "metadata": {},
   "outputs": [
    {
     "name": "stdout",
     "output_type": "stream",
     "text": [
      "> 0 duplicates\n"
     ]
    }
   ],
   "source": [
    "# Removing Duplicated Rows\n",
    "duplicates = rating_df.duplicated()\n",
    "\n",
    "if duplicates.sum() > 0:\n",
    "    print('> {} duplicates'.format(duplicates.sum()))\n",
    "    rating_df = rating_df[~duplicates]\n",
    "\n",
    "print('> {} duplicates'.format(rating_df.duplicated().sum()))"
   ]
  },
  {
   "cell_type": "markdown",
   "metadata": {},
   "source": [
    "## **Data Preprocessing**"
   ]
  },
  {
   "cell_type": "code",
   "execution_count": 8,
   "metadata": {},
   "outputs": [
    {
     "name": "stdout",
     "output_type": "stream",
     "text": [
      "Num of users: 67, Num of animes: 4760\n",
      "Min rating: 0.0, Max rating: 1.0\n"
     ]
    }
   ],
   "source": [
    "# Encoding categorical data\n",
    "user_ids = rating_df[\"user_id\"].unique().tolist()\n",
    "user2user_encoded = {x: i for i, x in enumerate(user_ids)}\n",
    "user_encoded2user = {i: x for i, x in enumerate(user_ids)}\n",
    "rating_df[\"user\"] = rating_df[\"user_id\"].map(user2user_encoded)\n",
    "n_users = len(user2user_encoded)\n",
    "\n",
    "anime_ids = rating_df[\"anime_id\"].unique().tolist()\n",
    "anime2anime_encoded = {x: i for i, x in enumerate(anime_ids)}\n",
    "anime_encoded2anime = {i: x for i, x in enumerate(anime_ids)}\n",
    "rating_df[\"anime\"] = rating_df[\"anime_id\"].map(anime2anime_encoded)\n",
    "n_animes = len(anime2anime_encoded)\n",
    "\n",
    "field_dims = [n_users, n_animes]\n",
    "\n",
    "print(\"Num of users: {}, Num of animes: {}\".format(n_users, n_animes))\n",
    "print(\"Min rating: {}, Max rating: {}\".format(min(rating_df['rating']), max(rating_df['rating'])))"
   ]
  },
  {
   "cell_type": "code",
   "execution_count": 9,
   "metadata": {},
   "outputs": [],
   "source": [
    "# Shuffle\n",
    "rating_df = rating_df.sample(frac=1, random_state=73).copy(deep=False)\n",
    "\n",
    "df_x = rating_df[['user', 'anime']].copy(deep=False)\n",
    "df_y = rating_df[[\"rating\"]].copy(deep=False)"
   ]
  },
  {
   "cell_type": "markdown",
   "metadata": {},
   "source": [
    "# **Training config**"
   ]
  },
  {
   "cell_type": "code",
   "execution_count": 11,
   "metadata": {},
   "outputs": [],
   "source": [
    "from schema.training import TrainingConfig\n",
    "\n",
    "training_config = TrainingConfig(\n",
    "    batch_size=32,\n",
    "    epochs=10,\n",
    "    n_workers=os.cpu_count(),\n",
    "    model_size=1000,\n",
    "    lr_factor=2.,\n",
    "    lr_warm_up=2000\n",
    ")"
   ]
  },
  {
   "cell_type": "markdown",
   "metadata": {},
   "source": [
    "# **Load data into tensor**"
   ]
  },
  {
   "cell_type": "code",
   "execution_count": 12,
   "metadata": {},
   "outputs": [],
   "source": [
    "import torch\n",
    "\n",
    "\n",
    "from training.functools import get_dataloader, get_dataloader_df\n",
    "from training.dataset import MyDataSet\n",
    "\n",
    "\n",
    "# dataset = MyDataSet(df_x=df_x, df_y=df_y)\n",
    "# train_loader, valid_loader, test_loader = get_dataloader(\n",
    "#     dataset=dataset,\n",
    "#     batch_size=training_config.batch_size,\n",
    "#     n_workers=training_config.n_workers,\n",
    "#     valid_ratio=0.1,\n",
    "#     test_ratio=0.1\n",
    "# )\n",
    "\n",
    "train_loader, valid_loader, test_loader = get_dataloader_df(\n",
    "    df_x=df_x,\n",
    "    df_y=df_y,\n",
    "    batch_size=training_config.batch_size,\n",
    "    n_workers=training_config.n_workers,\n",
    "    valid_ratio=0.1,\n",
    "    test_ratio=0.1\n",
    ")"
   ]
  },
  {
   "cell_type": "markdown",
   "metadata": {},
   "source": [
    "# **Import the model**"
   ]
  },
  {
   "cell_type": "code",
   "execution_count": 13,
   "metadata": {},
   "outputs": [],
   "source": [
    "from recommender.ranking_base_filter.model import FactorizationMachineModel\n",
    "\n",
    "model = FactorizationMachineModel(\n",
    "    field_dims=field_dims,\n",
    "    embed_dim=16\n",
    ")"
   ]
  },
  {
   "cell_type": "markdown",
   "metadata": {},
   "source": [
    "# **Train the model** "
   ]
  },
  {
   "cell_type": "markdown",
   "metadata": {},
   "source": [
    "optimizer"
   ]
  },
  {
   "cell_type": "code",
   "execution_count": 14,
   "metadata": {},
   "outputs": [],
   "source": [
    "from training.trainer import NoamOpt\n",
    "\n",
    "optimizer = NoamOpt(\n",
    "    **training_config.get_optimizer_config(),\n",
    "    optimizer=torch.optim.AdamW(model.parameters(), lr=0, betas=(0.9, 0.98), eps=1e-9, weight_decay=0.0001)\n",
    ")"
   ]
  },
  {
   "cell_type": "markdown",
   "metadata": {},
   "source": [
    "loss criterion"
   ]
  },
  {
   "cell_type": "code",
   "execution_count": 15,
   "metadata": {},
   "outputs": [],
   "source": [
    "import torch.nn as nn\n",
    "\n",
    "loss_criterion = nn.MSELoss()"
   ]
  },
  {
   "cell_type": "code",
   "execution_count": 16,
   "metadata": {},
   "outputs": [],
   "source": [
    "from training.trainer import ModelTrainer\n",
    "\n",
    "\n",
    "cuda = torch.cuda.is_available()  \n",
    "device = torch.device('cuda' if cuda else 'cpu')\n",
    "\n",
    "model_trainer = ModelTrainer(\n",
    "    train_loader=train_loader,\n",
    "    valid_loader=valid_loader,\n",
    "    model=model,\n",
    "    loss_criterion=loss_criterion,\n",
    "    optimizer=optimizer,\n",
    "    device=device,\n",
    "    model_save_path=\"../model/model.pt\"\n",
    ")"
   ]
  },
  {
   "cell_type": "markdown",
   "metadata": {},
   "source": [
    "Start to train"
   ]
  },
  {
   "cell_type": "code",
   "execution_count": 17,
   "metadata": {},
   "outputs": [
    {
     "name": "stderr",
     "output_type": "stream",
     "text": [
      "train epoch 1:   0%|          | 0/472 [00:00<?, ?it/s]/home/yoshi/miniconda3/envs/ml/lib/python3.8/site-packages/torch/cuda/amp/grad_scaler.py:115: UserWarning: torch.cuda.amp.GradScaler is enabled, but CUDA is not available.  Disabling.\n",
      "  warnings.warn(\"torch.cuda.amp.GradScaler is enabled, but CUDA is not available.  Disabling.\")\n",
      "/home/yoshi/miniconda3/envs/ml/lib/python3.8/site-packages/torch/autocast_mode.py:162: UserWarning: User provided device_type of 'cuda', but CUDA is not available. Disabling\n",
      "  warnings.warn('User provided device_type of \\'cuda\\', but CUDA is not available. Disabling')\n",
      "train epoch 1: 100%|██████████| 472/472 [00:19<00:00, 23.88it/s, loss=0.285, step=472]\n",
      "training loss: 0.2321\n",
      "validation epoch 1: 100%|██████████| 59/59 [00:00<00:00, 141.79it/s]\n",
      "validation loss: 0.2384\n",
      "Save the model.\n",
      "train epoch 2: 100%|██████████| 472/472 [00:15<00:00, 30.99it/s, loss=0.217, step=944]\n",
      "training loss: 0.2229\n",
      "validation epoch 2: 100%|██████████| 59/59 [00:00<00:00, 121.88it/s]\n",
      "validation loss: 0.2264\n",
      "Save the model.\n",
      "train epoch 3: 100%|██████████| 472/472 [00:19<00:00, 24.07it/s, loss=0.179, step=1416]\n",
      "training loss: 0.2075\n",
      "validation epoch 3: 100%|██████████| 59/59 [00:00<00:00, 107.75it/s]\n",
      "validation loss: 0.2100\n",
      "Save the model.\n",
      "train epoch 4: 100%|██████████| 472/472 [00:15<00:00, 30.00it/s, loss=0.189, step=1888] \n",
      "training loss: 0.1866\n",
      "validation epoch 4: 100%|██████████| 59/59 [00:00<00:00, 135.95it/s]\n",
      "validation loss: 0.1903\n",
      "Save the model.\n",
      "train epoch 5: 100%|██████████| 472/472 [00:17<00:00, 26.29it/s, loss=0.155, step=2360] \n",
      "training loss: 0.1592\n",
      "validation epoch 5: 100%|██████████| 59/59 [00:00<00:00, 83.93it/s]\n",
      "validation loss: 0.1707\n",
      "Save the model.\n",
      "train epoch 6: 100%|██████████| 472/472 [00:17<00:00, 26.61it/s, loss=0.153, step=2832] \n",
      "training loss: 0.1334\n",
      "validation epoch 6: 100%|██████████| 59/59 [00:00<00:00, 130.57it/s]\n",
      "validation loss: 0.1586\n",
      "Save the model.\n",
      "train epoch 7: 100%|██████████| 472/472 [00:20<00:00, 23.43it/s, loss=0.125, step=3304] \n",
      "training loss: 0.1139\n",
      "validation epoch 7: 100%|██████████| 59/59 [00:00<00:00, 156.56it/s]\n",
      "validation loss: 0.1518\n",
      "Save the model.\n",
      "train epoch 8: 100%|██████████| 472/472 [00:16<00:00, 28.63it/s, loss=0.0827, step=3776]\n",
      "training loss: 0.0985\n",
      "validation epoch 8: 100%|██████████| 59/59 [00:00<00:00, 107.53it/s]\n",
      "validation loss: 0.1482\n",
      "Save the model.\n",
      "train epoch 9: 100%|██████████| 472/472 [00:17<00:00, 27.75it/s, loss=0.0341, step=4248]\n",
      "training loss: 0.0860\n",
      "validation epoch 9: 100%|██████████| 59/59 [00:00<00:00, 134.77it/s]\n",
      "validation loss: 0.1463\n",
      "Save the model.\n",
      "train epoch 10: 100%|██████████| 472/472 [00:21<00:00, 21.63it/s, loss=0.0534, step=4720]\n",
      "training loss: 0.0755\n",
      "validation epoch 10: 100%|██████████| 59/59 [00:00<00:00, 142.32it/s]\n",
      "validation loss: 0.1450\n",
      "Save the model.\n"
     ]
    }
   ],
   "source": [
    "training_loss_history = np.array([])\n",
    "valid_loss_history = np.array([])\n",
    "\n",
    "for epoch in range(training_config.epochs):\n",
    "    training_status = model_trainer.training_one_epoch()\n",
    "    # training_loss_history = np.append(training_loss_history, np.array(training_status['loss_mean']))\n",
    "    # valid_loss_history = np.append(valid_loss_history, valid_loss)"
   ]
  },
  {
   "cell_type": "markdown",
   "metadata": {},
   "source": [
    "plot the training history"
   ]
  },
  {
   "cell_type": "code",
   "execution_count": 18,
   "metadata": {},
   "outputs": [
    {
     "data": {
      "image/png": "[encoded data removed]",
      "text/plain": [
       "<Figure size 432x288 with 1 Axes>"
      ]
     },
     "metadata": {
      "needs_background": "light"
     },
     "output_type": "display_data"
    }
   ],
   "source": [
    "from training.functools import training_loss_epoch_mean_visualization\n",
    "\n",
    "\n",
    "training_status = model_trainer.export_training_status()\n",
    "train_epoch_x = list(training_status.train_loss_epoch_mean.keys())\n",
    "train_loss_y = list(training_status.train_loss_epoch_mean.values())\n",
    "valid_epoch_x = list(training_status.valid_loss_epoch_mean.keys())\n",
    "valid_loss_y = list(training_status.valid_loss_epoch_mean.values())\n",
    "\n",
    "training_loss_epoch_mean_visualization(\n",
    "    epoch_x=train_epoch_x,\n",
    "    train_loss_y=train_loss_y,\n",
    "    valid_loss_y=valid_loss_y\n",
    ")"
   ]
  }
 ],
 "metadata": {
  "interpreter": {
   "hash": "cb2a16ad5343214987ec83273b09d3ac2f528968793a43e301f018a7f4736060"
  },
  "kernelspec": {
   "display_name": "Python 3.8.13 ('ml')",
   "language": "python",
   "name": "python3"
  },
  "language_info": {
   "codemirror_mode": {
    "name": "ipython",
    "version": 3
   },
   "file_extension": ".py",
   "mimetype": "text/x-python",
   "name": "python",
   "nbconvert_exporter": "python",
   "pygments_lexer": "ipython3",
   "version": "3.8.13"
  },
  "orig_nbformat": 4
 },
 "nbformat": 4,
 "nbformat_minor": 2
}
